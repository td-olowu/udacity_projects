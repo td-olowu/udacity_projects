{
 "cells": [
  {
   "cell_type": "markdown",
   "metadata": {},
   "source": [
    "# Project: Investigate a Dataset - No-show Appointments\n",
    "\n",
    "## Table of Contents\n",
    "<ul>\n",
    "<li><a href=\"#intro\">Introduction</a></li>\n",
    "<li><a href=\"#questions\">Questions for Analysis</a></li>\n",
    "<li><a href=\"#wrangling\">Data Wrangling</a></li>\n",
    "<li><a href=\"#eda\">Exploratory Data Analysis</a></li>\n",
    "<li><a href=\"#conclusions\">Conclusions</a></li>\n",
    "<li><a href=\"#limitations\">Limitations</a></li>\n",
    "</ul>"
   ]
  },
  {
   "cell_type": "markdown",
   "metadata": {},
   "source": [
    "<a id='intro'></a>\n",
    "## Introduction\n",
    "\n",
    "### Dataset Description \n",
    "In this project, we explore the dataset titled \"No Show Appointments\", which is concerned with whether patients failed to show up for scheduled medical appointments. Each row represents an individual patient, and each column represents a variable. The columns are:\n",
    "\n",
    "**PatientId**- a unique floating point number assigned to each patient.\n",
    "\n",
    "**AppointmentID** - a unique integer assigned to patients for the purpose of scheduling an appointment.\n",
    "\n",
    "**Gender** - the gender of the patient. This dataset treats each patient as Male or Female.\n",
    "\n",
    "**ScheduledDay** - the date on which the patient made the appointment.\n",
    "\n",
    "**AppointmentDay** - the date on which the patient was supposed to show up for the appointment.\n",
    "\n",
    "**Age** - the patient's age in years.\n",
    "\n",
    "**Neighbourhood** - the location of the hospital in which the appointment was supposed to take place.\n",
    "\n",
    "**Scholarship** - this tells us whether the patient was enrolled in the Brazillian welfare program Bolsa Familia.\n",
    "\n",
    "**Hypertension** - was the patient diagnosed with hypertension? 1 means yes, 0 means no.\n",
    "\n",
    "**Diabetes** - was the patient diagnosed with diabetes? 1 means yes, 0 means no.\n",
    "\n",
    "**Alcoholism** - was the patient diagnosed with alcoholism? 1 means yes, 0 means no.\n",
    "\n",
    "**Handicap** - was the patient disabled? 1 means yes, 0 means no.\n",
    "\n",
    "**SMS_received** - did the patient receive at least one text message to remind them of the appointment? 1 means yes, 0 means no.\n",
    "\n",
    "**No-show** - this tells us whether the patient **failed** to show up for their appointment. Yes means they failed to show, i.e. they couldn't make the appointment. No means that they did not fail to show up, i.e. they arrived for the appointment. \"No-show\" is equivalent to asking \"Did the patient miss the appointment?\". The responses are \"Yes\" (the patient missed the appointment), or \"No\" (the patient didn't miss the appointment, i.e. the appointment was a success).\n"
   ]
  },
  {
   "cell_type": "markdown",
   "metadata": {},
   "source": [
    "<a id='questions'></a>\n",
    "## Questions for Analysis\n",
    "What proportion of patients overall failed to show up for their appointments? What factors strongly correlate with either tendency to show up or to miss the appointment?\n",
    "The variables to examine are:\n",
    "1. The gender distribution of the patients who didn't show up.\n",
    "2. The number of days between the schedule date and the appointment date.\n",
    "3. The age distribution of the patients who didn't show up.\n",
    "4. Whether the patient was on the Scholarship programme or not.\n",
    "5. How many diagnoses the patient had.\n",
    "6. Whether they received an SMS.\n"
   ]
  },
  {
   "cell_type": "code",
   "execution_count": 1,
   "metadata": {},
   "outputs": [],
   "source": [
    "# import all useful modules\n",
    "\n",
    "import pandas as pd\n",
    "import numpy as np\n",
    "import matplotlib.pyplot as plt\n",
    "import datetime as dtime\n",
    "% matplotlib inline"
   ]
  },
  {
   "cell_type": "code",
   "execution_count": 2,
   "metadata": {},
   "outputs": [],
   "source": [
    "# Upgrade pandas to use dataframe.explode() function. # causes an exception for df.head()\n",
    "# !pip install --upgrade pandas==0.25.0"
   ]
  },
  {
   "cell_type": "markdown",
   "metadata": {},
   "source": [
    "<a id='wrangling'></a>\n",
    "## Data Wrangling\n",
    "\n",
    "### General Properties\n",
    "The first step in our analysis process is to gather the data and quickly inspect it."
   ]
  },
  {
   "cell_type": "code",
   "execution_count": 3,
   "metadata": {},
   "outputs": [
    {
     "data": {
      "text/html": [
       "<div>\n",
       "<style scoped>\n",
       "    .dataframe tbody tr th:only-of-type {\n",
       "        vertical-align: middle;\n",
       "    }\n",
       "\n",
       "    .dataframe tbody tr th {\n",
       "        vertical-align: top;\n",
       "    }\n",
       "\n",
       "    .dataframe thead th {\n",
       "        text-align: right;\n",
       "    }\n",
       "</style>\n",
       "<table border=\"1\" class=\"dataframe\">\n",
       "  <thead>\n",
       "    <tr style=\"text-align: right;\">\n",
       "      <th></th>\n",
       "      <th>PatientId</th>\n",
       "      <th>AppointmentID</th>\n",
       "      <th>Gender</th>\n",
       "      <th>ScheduledDay</th>\n",
       "      <th>AppointmentDay</th>\n",
       "      <th>Age</th>\n",
       "      <th>Neighbourhood</th>\n",
       "      <th>Scholarship</th>\n",
       "      <th>Hipertension</th>\n",
       "      <th>Diabetes</th>\n",
       "      <th>Alcoholism</th>\n",
       "      <th>Handcap</th>\n",
       "      <th>SMS_received</th>\n",
       "      <th>No-show</th>\n",
       "    </tr>\n",
       "  </thead>\n",
       "  <tbody>\n",
       "    <tr>\n",
       "      <th>0</th>\n",
       "      <td>2.987250e+13</td>\n",
       "      <td>5642903</td>\n",
       "      <td>F</td>\n",
       "      <td>2016-04-29T18:38:08Z</td>\n",
       "      <td>2016-04-29T00:00:00Z</td>\n",
       "      <td>62</td>\n",
       "      <td>JARDIM DA PENHA</td>\n",
       "      <td>0</td>\n",
       "      <td>1</td>\n",
       "      <td>0</td>\n",
       "      <td>0</td>\n",
       "      <td>0</td>\n",
       "      <td>0</td>\n",
       "      <td>No</td>\n",
       "    </tr>\n",
       "    <tr>\n",
       "      <th>1</th>\n",
       "      <td>5.589978e+14</td>\n",
       "      <td>5642503</td>\n",
       "      <td>M</td>\n",
       "      <td>2016-04-29T16:08:27Z</td>\n",
       "      <td>2016-04-29T00:00:00Z</td>\n",
       "      <td>56</td>\n",
       "      <td>JARDIM DA PENHA</td>\n",
       "      <td>0</td>\n",
       "      <td>0</td>\n",
       "      <td>0</td>\n",
       "      <td>0</td>\n",
       "      <td>0</td>\n",
       "      <td>0</td>\n",
       "      <td>No</td>\n",
       "    </tr>\n",
       "    <tr>\n",
       "      <th>2</th>\n",
       "      <td>4.262962e+12</td>\n",
       "      <td>5642549</td>\n",
       "      <td>F</td>\n",
       "      <td>2016-04-29T16:19:04Z</td>\n",
       "      <td>2016-04-29T00:00:00Z</td>\n",
       "      <td>62</td>\n",
       "      <td>MATA DA PRAIA</td>\n",
       "      <td>0</td>\n",
       "      <td>0</td>\n",
       "      <td>0</td>\n",
       "      <td>0</td>\n",
       "      <td>0</td>\n",
       "      <td>0</td>\n",
       "      <td>No</td>\n",
       "    </tr>\n",
       "    <tr>\n",
       "      <th>3</th>\n",
       "      <td>8.679512e+11</td>\n",
       "      <td>5642828</td>\n",
       "      <td>F</td>\n",
       "      <td>2016-04-29T17:29:31Z</td>\n",
       "      <td>2016-04-29T00:00:00Z</td>\n",
       "      <td>8</td>\n",
       "      <td>PONTAL DE CAMBURI</td>\n",
       "      <td>0</td>\n",
       "      <td>0</td>\n",
       "      <td>0</td>\n",
       "      <td>0</td>\n",
       "      <td>0</td>\n",
       "      <td>0</td>\n",
       "      <td>No</td>\n",
       "    </tr>\n",
       "    <tr>\n",
       "      <th>4</th>\n",
       "      <td>8.841186e+12</td>\n",
       "      <td>5642494</td>\n",
       "      <td>F</td>\n",
       "      <td>2016-04-29T16:07:23Z</td>\n",
       "      <td>2016-04-29T00:00:00Z</td>\n",
       "      <td>56</td>\n",
       "      <td>JARDIM DA PENHA</td>\n",
       "      <td>0</td>\n",
       "      <td>1</td>\n",
       "      <td>1</td>\n",
       "      <td>0</td>\n",
       "      <td>0</td>\n",
       "      <td>0</td>\n",
       "      <td>No</td>\n",
       "    </tr>\n",
       "  </tbody>\n",
       "</table>\n",
       "</div>"
      ],
      "text/plain": [
       "      PatientId  AppointmentID Gender          ScheduledDay  \\\n",
       "0  2.987250e+13        5642903      F  2016-04-29T18:38:08Z   \n",
       "1  5.589978e+14        5642503      M  2016-04-29T16:08:27Z   \n",
       "2  4.262962e+12        5642549      F  2016-04-29T16:19:04Z   \n",
       "3  8.679512e+11        5642828      F  2016-04-29T17:29:31Z   \n",
       "4  8.841186e+12        5642494      F  2016-04-29T16:07:23Z   \n",
       "\n",
       "         AppointmentDay  Age      Neighbourhood  Scholarship  Hipertension  \\\n",
       "0  2016-04-29T00:00:00Z   62    JARDIM DA PENHA            0             1   \n",
       "1  2016-04-29T00:00:00Z   56    JARDIM DA PENHA            0             0   \n",
       "2  2016-04-29T00:00:00Z   62      MATA DA PRAIA            0             0   \n",
       "3  2016-04-29T00:00:00Z    8  PONTAL DE CAMBURI            0             0   \n",
       "4  2016-04-29T00:00:00Z   56    JARDIM DA PENHA            0             1   \n",
       "\n",
       "   Diabetes  Alcoholism  Handcap  SMS_received No-show  \n",
       "0         0           0        0             0      No  \n",
       "1         0           0        0             0      No  \n",
       "2         0           0        0             0      No  \n",
       "3         0           0        0             0      No  \n",
       "4         1           0        0             0      No  "
      ]
     },
     "execution_count": 3,
     "metadata": {},
     "output_type": "execute_result"
    }
   ],
   "source": [
    "# read the csv file and show the first few rows\n",
    "\n",
    "df_noshow = pd.read_csv(\"noshowappointments-kagglev2-may-2016.csv\")\n",
    "df_noshow.head()"
   ]
  },
  {
   "cell_type": "markdown",
   "metadata": {},
   "source": [
    "Let's also examine the shape of the dataframe. How many rows and columns does it have?"
   ]
  },
  {
   "cell_type": "code",
   "execution_count": 4,
   "metadata": {},
   "outputs": [
    {
     "name": "stdout",
     "output_type": "stream",
     "text": [
      "(110527, 14)\n"
     ]
    }
   ],
   "source": [
    "# how many rows, columns does the csv table have?\n",
    "\n",
    "print(df_noshow.shape)"
   ]
  },
  {
   "cell_type": "markdown",
   "metadata": {},
   "source": [
    "Looking at the head of the dataframe, we can guess that the scholarship, hipertension, diabetes, alcoholism and handicap values are either 1 or 0. Also, it looks like the Noshow values are either Yes or No, and the gender values are either M or F. To be sure, let's check the number of unique values for each column."
   ]
  },
  {
   "cell_type": "code",
   "execution_count": 5,
   "metadata": {},
   "outputs": [
    {
     "data": {
      "text/plain": [
       "PatientId          62299\n",
       "AppointmentID     110527\n",
       "Gender                 2\n",
       "ScheduledDay      103549\n",
       "AppointmentDay        27\n",
       "Age                  104\n",
       "Neighbourhood         81\n",
       "Scholarship            2\n",
       "Hipertension           2\n",
       "Diabetes               2\n",
       "Alcoholism             2\n",
       "Handcap                5\n",
       "SMS_received           2\n",
       "No-show                2\n",
       "dtype: int64"
      ]
     },
     "execution_count": 5,
     "metadata": {},
     "output_type": "execute_result"
    }
   ],
   "source": [
    "# how many unique values does each column contain?\n",
    "\n",
    "df_noshow.nunique()"
   ]
  },
  {
   "cell_type": "markdown",
   "metadata": {},
   "source": [
    "Everything works as expected so far, except Handcap. It seems to have five unique values rather than two. It's likely a mistake regarding input, so we'll remove those rows eventually. Let's examine the datatypes of each column to see whether the types are appropriate for analysis."
   ]
  },
  {
   "cell_type": "code",
   "execution_count": 6,
   "metadata": {},
   "outputs": [
    {
     "data": {
      "text/plain": [
       "PatientId         float64\n",
       "AppointmentID       int64\n",
       "Gender             object\n",
       "ScheduledDay       object\n",
       "AppointmentDay     object\n",
       "Age                 int64\n",
       "Neighbourhood      object\n",
       "Scholarship         int64\n",
       "Hipertension        int64\n",
       "Diabetes            int64\n",
       "Alcoholism          int64\n",
       "Handcap             int64\n",
       "SMS_received        int64\n",
       "No-show            object\n",
       "dtype: object"
      ]
     },
     "execution_count": 6,
     "metadata": {},
     "output_type": "execute_result"
    }
   ],
   "source": [
    "# what are the datatypes of the values stored in each column?\n",
    "\n",
    "df_noshow.dtypes"
   ]
  },
  {
   "cell_type": "markdown",
   "metadata": {},
   "source": [
    "The ScheduleDay and AppointmentDay columns do not contain appropriate types. We need to convert them to datetime objects. This will make it easier to calculate the number of days between the date of schedule and the date of appointment (hereafter referred to as days-to-appointment), and such a task is easier done with datetime objects than with strings.\n",
    "\n",
    "Another thing to notice is that the dates are specified to the hour, minute and second level of accuracy. Should we be concerned about that level of accuracy?\n",
    "Normally, it's fair to assume that whether the patient shows up to the appointment is partly influenced by what time of the day the appointment happens. For example, we can imagine one patient being asked to show up at 3AM in the morning, and another being asked to show up at 12PM in the afternoon. However, the first few rows of the AppointmentDay column all seem to end in the same ten characters - \"T00:00:00Z\", which is midnight. If all the AppointmentDay rows end in this same string, then we should conclude that the string is a placeholder and the exact hour, minute and second of the appointment aren't accurately specified.\n",
    "\n",
    "We will use a function to check if the last ten characters of the AppointmentDay column all match this \"T00:00:00Z\" string value."
   ]
  },
  {
   "cell_type": "code",
   "execution_count": 7,
   "metadata": {},
   "outputs": [],
   "source": [
    "# a function to test if items in an array match an expression\n",
    "\n",
    "def isMatch(array, expression):\n",
    "    truth = True\n",
    "    for item in array:\n",
    "        if item != expression:\n",
    "            truth = False\n",
    "    return truth\n"
   ]
  },
  {
   "cell_type": "markdown",
   "metadata": {},
   "source": [
    "Let's apply it to the series of rows in the AppointmentDay column."
   ]
  },
  {
   "cell_type": "code",
   "execution_count": 8,
   "metadata": {},
   "outputs": [
    {
     "name": "stdout",
     "output_type": "stream",
     "text": [
      "True\n"
     ]
    }
   ],
   "source": [
    "# build a new array using the last ten characters of each item in the original column\n",
    "\n",
    "appointment_test = np.array(list(map(lambda x:x[-10:], df_noshow[\"AppointmentDay\"])))\n",
    "print( isMatch(appointment_test, \"T00:00:00Z\"))"
   ]
  },
  {
   "cell_type": "markdown",
   "metadata": {},
   "source": [
    "From the above test, we can conclude more confidently that the hour, minute and second of the AppointmentDay column are not significant. It's unlikely that every patient's appointment would be scheduled at the exact same time (midnight), so the most accuracy we should be concerned about is the day of the schedule as well as the day of the appointment. This means that we'll later have to remove the last ten characters (the hours-minutes-seconds part) of the columns AppointmentDay and ScheduledDay.\n",
    "\n",
    "The next step is to check for duplicate rows and missing values."
   ]
  },
  {
   "cell_type": "code",
   "execution_count": 9,
   "metadata": {},
   "outputs": [
    {
     "data": {
      "text/plain": [
       "0"
      ]
     },
     "execution_count": 9,
     "metadata": {},
     "output_type": "execute_result"
    }
   ],
   "source": [
    "# count how many duplicated rows there are.\n",
    "\n",
    "sum(df_noshow.duplicated())"
   ]
  },
  {
   "cell_type": "markdown",
   "metadata": {},
   "source": [
    "Thankfully, this dataset has no duplicated rows."
   ]
  },
  {
   "cell_type": "code",
   "execution_count": 10,
   "metadata": {},
   "outputs": [
    {
     "data": {
      "text/plain": [
       "PatientId         0\n",
       "AppointmentID     0\n",
       "Gender            0\n",
       "ScheduledDay      0\n",
       "AppointmentDay    0\n",
       "Age               0\n",
       "Neighbourhood     0\n",
       "Scholarship       0\n",
       "Hipertension      0\n",
       "Diabetes          0\n",
       "Alcoholism        0\n",
       "Handcap           0\n",
       "SMS_received      0\n",
       "No-show           0\n",
       "dtype: int64"
      ]
     },
     "execution_count": 10,
     "metadata": {},
     "output_type": "execute_result"
    }
   ],
   "source": [
    "# count how many null values there are\n",
    "\n",
    "df_noshow.isnull().sum()"
   ]
  },
  {
   "cell_type": "markdown",
   "metadata": {},
   "source": [
    "This dataset also has no null values in any column. We can move on to the cleaning stage."
   ]
  },
  {
   "cell_type": "markdown",
   "metadata": {},
   "source": [
    "\n",
    "### Data Cleaning\n",
    "We have several objectives in this stage.\n",
    "- The first is to make aesthetic changes to the dataset - rename columns to lowercase, with underscores where appropriate.\n",
    "- The second is to combine all the diagnoses into a single column titled \"total_diagnoses\". The reason for this will be explained later.\n",
    "- The third is to strip away the last ten characters of each date and change the datatype of the dates from string objects to datetime objects. After modifying the dates, we'll then take the difference between dates to count the number of days between the scheduled day and appointment day, creating a new column titled \"days\", which means the days-to-appointment.\n",
    "- The fourth is to create a new dataframe which contains only the columns needed for the analysis, as well as the new columns obtained from the previous cleaning steps. In addition, we will remove any rows containing unusual data such as ages less than 0, or negative days.\n"
   ]
  },
  {
   "cell_type": "markdown",
   "metadata": {},
   "source": [
    "#### First objective - Aesthetic touches.\n",
    "Here, we rename columns as necessary. First, we convert the original titles to lowercase."
   ]
  },
  {
   "cell_type": "code",
   "execution_count": 11,
   "metadata": {},
   "outputs": [
    {
     "data": {
      "text/plain": [
       "Index(['patientid', 'appointmentid', 'gender', 'scheduledday',\n",
       "       'appointmentday', 'age', 'neighbourhood', 'scholarship', 'hipertension',\n",
       "       'diabetes', 'alcoholism', 'handcap', 'sms_received', 'no-show'],\n",
       "      dtype='object')"
      ]
     },
     "execution_count": 11,
     "metadata": {},
     "output_type": "execute_result"
    }
   ],
   "source": [
    "# aesthetic changes\n",
    "# first rename to lowercase\n",
    "\n",
    "original_columns = np.array(df_noshow.columns)\n",
    "\n",
    "for col in original_columns:\n",
    "    df_noshow.rename(columns={col:col.lower()}, inplace=True)\n",
    "\n",
    "df_noshow.columns # check if it worked"
   ]
  },
  {
   "cell_type": "markdown",
   "metadata": {},
   "source": [
    "Next, we rename specific columns to make them more readable."
   ]
  },
  {
   "cell_type": "code",
   "execution_count": 12,
   "metadata": {},
   "outputs": [
    {
     "data": {
      "text/plain": [
       "Index(['patientid', 'appointmentid', 'gender', 'scheduled_day',\n",
       "       'appointment_day', 'age', 'neighbourhood', 'scholarship',\n",
       "       'hypertension', 'diabetes', 'alcoholism', 'handicap', 'sms_received',\n",
       "       'no_show'],\n",
       "      dtype='object')"
      ]
     },
     "execution_count": 12,
     "metadata": {},
     "output_type": "execute_result"
    }
   ],
   "source": [
    "# rename columns\n",
    "\n",
    "rename_dict = {\"hipertension\":\"hypertension\",\n",
    "              \"handcap\":\"handicap\",\n",
    "              \"no-show\":\"no_show\",\n",
    "              \"scheduledday\":\"scheduled_day\",\n",
    "              \"appointmentday\":\"appointment_day\"}\n",
    "\n",
    "for old_name, new_name in rename_dict.items():\n",
    "    df_noshow.rename(columns={old_name:new_name}, inplace=True)\n",
    "\n",
    "df_noshow.columns # check if it actually worked"
   ]
  },
  {
   "cell_type": "markdown",
   "metadata": {},
   "source": [
    "#### Second objective - Combining all the diagnoses into a single column\n",
    "\n",
    "The next step is to combine all the diagnoses into a single column - total_diagnoses.\n",
    "The reason for this is to see if the amount of diagnoses that the patients had correlates with the no_show outcome.\n",
    "The disadvantage is that it hides the subjective severity of each diagnosis, like hiding the difference between a rash and a serious fever. However, if we can reveal a general trend between the combined diagnoses and whether the patient showed up, then that could inspire further investigation on the effect of each diagnosis. First, we'll print the index of each column to make things more explicit."
   ]
  },
  {
   "cell_type": "code",
   "execution_count": 13,
   "metadata": {},
   "outputs": [
    {
     "name": "stdout",
     "output_type": "stream",
     "text": [
      "0 patientid\n",
      "1 appointmentid\n",
      "2 gender\n",
      "3 scheduled_day\n",
      "4 appointment_day\n",
      "5 age\n",
      "6 neighbourhood\n",
      "7 scholarship\n",
      "8 hypertension\n",
      "9 diabetes\n",
      "10 alcoholism\n",
      "11 handicap\n",
      "12 sms_received\n",
      "13 no_show\n"
     ]
    }
   ],
   "source": [
    "# to make the indexes of each column more explicit\n",
    "\n",
    "enum_columns = enumerate(df_noshow.columns)\n",
    "\n",
    "for index,column in enum_columns:\n",
    "    print(index, column)\n"
   ]
  },
  {
   "cell_type": "markdown",
   "metadata": {},
   "source": [
    "Now that we have the indices for each column, let's create an array of each diagnosis column. The array will contain the entire set of values for hypertension, diabetes, alcoholism and handicap. We will then sum each row and render the sum as a single array, then assign the resulting array as a new column for the original dataframe."
   ]
  },
  {
   "cell_type": "code",
   "execution_count": 14,
   "metadata": {},
   "outputs": [],
   "source": [
    "# create an array containing each diagnosis column - hypetension, diabetes, alcoholism, handicap\n",
    "darr = np.array([df_noshow[str(df_noshow.columns[i])] for i in range(8,12)])\n",
    "\n",
    "# then add up all the diagnosis columns\n",
    "diagnostics_sum = np.array(list(map(lambda a,b,c,d:a+b+c+d, darr[0],darr[1],darr[2],darr[3] )))\n",
    "\n",
    "# then create a dataframe containing the sum of the diagnosis columns, as its only column\n",
    "total_diagnoses = pd.DataFrame({\"total_diagnoses\":diagnostics_sum})\n"
   ]
  },
  {
   "cell_type": "markdown",
   "metadata": {},
   "source": [
    "Now, we'll concatenate the total diagnosis column with the original dataframe. This way, we can at least visually see how all the diagnosis columns - hypertension, etc. - add up to give the total number of diagnoses, i.e. the total_diagnoses column.\n",
    "By the end of the cleaning stage we'll inspect the dataframe and get rid of unnecessary columns."
   ]
  },
  {
   "cell_type": "code",
   "execution_count": 15,
   "metadata": {},
   "outputs": [
    {
     "data": {
      "text/html": [
       "<div>\n",
       "<style scoped>\n",
       "    .dataframe tbody tr th:only-of-type {\n",
       "        vertical-align: middle;\n",
       "    }\n",
       "\n",
       "    .dataframe tbody tr th {\n",
       "        vertical-align: top;\n",
       "    }\n",
       "\n",
       "    .dataframe thead th {\n",
       "        text-align: right;\n",
       "    }\n",
       "</style>\n",
       "<table border=\"1\" class=\"dataframe\">\n",
       "  <thead>\n",
       "    <tr style=\"text-align: right;\">\n",
       "      <th></th>\n",
       "      <th>patientid</th>\n",
       "      <th>appointmentid</th>\n",
       "      <th>gender</th>\n",
       "      <th>scheduled_day</th>\n",
       "      <th>appointment_day</th>\n",
       "      <th>age</th>\n",
       "      <th>neighbourhood</th>\n",
       "      <th>scholarship</th>\n",
       "      <th>hypertension</th>\n",
       "      <th>diabetes</th>\n",
       "      <th>alcoholism</th>\n",
       "      <th>handicap</th>\n",
       "      <th>sms_received</th>\n",
       "      <th>no_show</th>\n",
       "      <th>total_diagnoses</th>\n",
       "    </tr>\n",
       "  </thead>\n",
       "  <tbody>\n",
       "    <tr>\n",
       "      <th>0</th>\n",
       "      <td>2.987250e+13</td>\n",
       "      <td>5642903</td>\n",
       "      <td>F</td>\n",
       "      <td>2016-04-29T18:38:08Z</td>\n",
       "      <td>2016-04-29T00:00:00Z</td>\n",
       "      <td>62</td>\n",
       "      <td>JARDIM DA PENHA</td>\n",
       "      <td>0</td>\n",
       "      <td>1</td>\n",
       "      <td>0</td>\n",
       "      <td>0</td>\n",
       "      <td>0</td>\n",
       "      <td>0</td>\n",
       "      <td>No</td>\n",
       "      <td>1</td>\n",
       "    </tr>\n",
       "    <tr>\n",
       "      <th>1</th>\n",
       "      <td>5.589978e+14</td>\n",
       "      <td>5642503</td>\n",
       "      <td>M</td>\n",
       "      <td>2016-04-29T16:08:27Z</td>\n",
       "      <td>2016-04-29T00:00:00Z</td>\n",
       "      <td>56</td>\n",
       "      <td>JARDIM DA PENHA</td>\n",
       "      <td>0</td>\n",
       "      <td>0</td>\n",
       "      <td>0</td>\n",
       "      <td>0</td>\n",
       "      <td>0</td>\n",
       "      <td>0</td>\n",
       "      <td>No</td>\n",
       "      <td>0</td>\n",
       "    </tr>\n",
       "    <tr>\n",
       "      <th>2</th>\n",
       "      <td>4.262962e+12</td>\n",
       "      <td>5642549</td>\n",
       "      <td>F</td>\n",
       "      <td>2016-04-29T16:19:04Z</td>\n",
       "      <td>2016-04-29T00:00:00Z</td>\n",
       "      <td>62</td>\n",
       "      <td>MATA DA PRAIA</td>\n",
       "      <td>0</td>\n",
       "      <td>0</td>\n",
       "      <td>0</td>\n",
       "      <td>0</td>\n",
       "      <td>0</td>\n",
       "      <td>0</td>\n",
       "      <td>No</td>\n",
       "      <td>0</td>\n",
       "    </tr>\n",
       "    <tr>\n",
       "      <th>3</th>\n",
       "      <td>8.679512e+11</td>\n",
       "      <td>5642828</td>\n",
       "      <td>F</td>\n",
       "      <td>2016-04-29T17:29:31Z</td>\n",
       "      <td>2016-04-29T00:00:00Z</td>\n",
       "      <td>8</td>\n",
       "      <td>PONTAL DE CAMBURI</td>\n",
       "      <td>0</td>\n",
       "      <td>0</td>\n",
       "      <td>0</td>\n",
       "      <td>0</td>\n",
       "      <td>0</td>\n",
       "      <td>0</td>\n",
       "      <td>No</td>\n",
       "      <td>0</td>\n",
       "    </tr>\n",
       "    <tr>\n",
       "      <th>4</th>\n",
       "      <td>8.841186e+12</td>\n",
       "      <td>5642494</td>\n",
       "      <td>F</td>\n",
       "      <td>2016-04-29T16:07:23Z</td>\n",
       "      <td>2016-04-29T00:00:00Z</td>\n",
       "      <td>56</td>\n",
       "      <td>JARDIM DA PENHA</td>\n",
       "      <td>0</td>\n",
       "      <td>1</td>\n",
       "      <td>1</td>\n",
       "      <td>0</td>\n",
       "      <td>0</td>\n",
       "      <td>0</td>\n",
       "      <td>No</td>\n",
       "      <td>2</td>\n",
       "    </tr>\n",
       "  </tbody>\n",
       "</table>\n",
       "</div>"
      ],
      "text/plain": [
       "      patientid  appointmentid gender         scheduled_day  \\\n",
       "0  2.987250e+13        5642903      F  2016-04-29T18:38:08Z   \n",
       "1  5.589978e+14        5642503      M  2016-04-29T16:08:27Z   \n",
       "2  4.262962e+12        5642549      F  2016-04-29T16:19:04Z   \n",
       "3  8.679512e+11        5642828      F  2016-04-29T17:29:31Z   \n",
       "4  8.841186e+12        5642494      F  2016-04-29T16:07:23Z   \n",
       "\n",
       "        appointment_day  age      neighbourhood  scholarship  hypertension  \\\n",
       "0  2016-04-29T00:00:00Z   62    JARDIM DA PENHA            0             1   \n",
       "1  2016-04-29T00:00:00Z   56    JARDIM DA PENHA            0             0   \n",
       "2  2016-04-29T00:00:00Z   62      MATA DA PRAIA            0             0   \n",
       "3  2016-04-29T00:00:00Z    8  PONTAL DE CAMBURI            0             0   \n",
       "4  2016-04-29T00:00:00Z   56    JARDIM DA PENHA            0             1   \n",
       "\n",
       "   diabetes  alcoholism  handicap  sms_received no_show  total_diagnoses  \n",
       "0         0           0         0             0      No                1  \n",
       "1         0           0         0             0      No                0  \n",
       "2         0           0         0             0      No                0  \n",
       "3         0           0         0             0      No                0  \n",
       "4         1           0         0             0      No                2  "
      ]
     },
     "execution_count": 15,
     "metadata": {},
     "output_type": "execute_result"
    }
   ],
   "source": [
    "# join modified column to original dataframe\n",
    "\n",
    "df_noshow = pd.concat([df_noshow, total_diagnoses], axis=\"columns\")\n",
    "df_noshow.head()"
   ]
  },
  {
   "cell_type": "markdown",
   "metadata": {},
   "source": [
    "#### Third objective - Express the dates as the proper datatype.\n",
    "\n",
    "We want to strip away the last ten characters of each date and change the datatype of the dates from string objects to datetime objects. After modifying the dates, we'll then take the difference between dates to count the days-to-appointment, and render this as a new column titled \"days\".\n",
    "\n",
    "To achieve all this, we'll need to create a few intermediary dataframes and arrays. First, we'll create a new dataframe containing only datetime values."
   ]
  },
  {
   "cell_type": "code",
   "execution_count": 16,
   "metadata": {},
   "outputs": [
    {
     "data": {
      "text/html": [
       "<div>\n",
       "<style scoped>\n",
       "    .dataframe tbody tr th:only-of-type {\n",
       "        vertical-align: middle;\n",
       "    }\n",
       "\n",
       "    .dataframe tbody tr th {\n",
       "        vertical-align: top;\n",
       "    }\n",
       "\n",
       "    .dataframe thead th {\n",
       "        text-align: right;\n",
       "    }\n",
       "</style>\n",
       "<table border=\"1\" class=\"dataframe\">\n",
       "  <thead>\n",
       "    <tr style=\"text-align: right;\">\n",
       "      <th></th>\n",
       "      <th>scheduled_day</th>\n",
       "      <th>appointment_day</th>\n",
       "    </tr>\n",
       "  </thead>\n",
       "  <tbody>\n",
       "    <tr>\n",
       "      <th>0</th>\n",
       "      <td>2016-04-29T18:38:08Z</td>\n",
       "      <td>2016-04-29T00:00:00Z</td>\n",
       "    </tr>\n",
       "    <tr>\n",
       "      <th>1</th>\n",
       "      <td>2016-04-29T16:08:27Z</td>\n",
       "      <td>2016-04-29T00:00:00Z</td>\n",
       "    </tr>\n",
       "    <tr>\n",
       "      <th>2</th>\n",
       "      <td>2016-04-29T16:19:04Z</td>\n",
       "      <td>2016-04-29T00:00:00Z</td>\n",
       "    </tr>\n",
       "    <tr>\n",
       "      <th>3</th>\n",
       "      <td>2016-04-29T17:29:31Z</td>\n",
       "      <td>2016-04-29T00:00:00Z</td>\n",
       "    </tr>\n",
       "    <tr>\n",
       "      <th>4</th>\n",
       "      <td>2016-04-29T16:07:23Z</td>\n",
       "      <td>2016-04-29T00:00:00Z</td>\n",
       "    </tr>\n",
       "  </tbody>\n",
       "</table>\n",
       "</div>"
      ],
      "text/plain": [
       "          scheduled_day       appointment_day\n",
       "0  2016-04-29T18:38:08Z  2016-04-29T00:00:00Z\n",
       "1  2016-04-29T16:08:27Z  2016-04-29T00:00:00Z\n",
       "2  2016-04-29T16:19:04Z  2016-04-29T00:00:00Z\n",
       "3  2016-04-29T17:29:31Z  2016-04-29T00:00:00Z\n",
       "4  2016-04-29T16:07:23Z  2016-04-29T00:00:00Z"
      ]
     },
     "execution_count": 16,
     "metadata": {},
     "output_type": "execute_result"
    }
   ],
   "source": [
    "# create dates dataframe\n",
    "\n",
    "df_dates = df_noshow.loc[:,\"scheduled_day\":\"appointment_day\"]\n",
    "df_dates.head()"
   ]
  },
  {
   "cell_type": "markdown",
   "metadata": {},
   "source": [
    "Next, we want to strip away the last ten characters of each column. These indicate the hour, minute and second of each day.\n",
    "As we reasoned earlier, that information provides more accuracy than is needed.\n",
    "To do strip these, we will create two arrays containing each row of the original columns, then strip away the last ten characters of all the items in each array.\n",
    "After this, we assign the modified arrays as the new column values for the dates dataframe."
   ]
  },
  {
   "cell_type": "code",
   "execution_count": 17,
   "metadata": {},
   "outputs": [],
   "source": [
    "# remove the hours, minutes, seconds part\n",
    "\n",
    "new_schedule = np.array(list(map(lambda x:x[:-10], df_dates[\"scheduled_day\"])))\n",
    "new_appointment = np.array(list(map(lambda x:x[:-10], df_dates[\"appointment_day\"])))\n",
    "\n",
    "# replace the original columns with the new ones\n",
    "df_dates[\"scheduled_day\"] = new_schedule\n",
    "df_dates[\"appointment_day\"] = new_appointment"
   ]
  },
  {
   "cell_type": "code",
   "execution_count": 18,
   "metadata": {},
   "outputs": [
    {
     "data": {
      "text/html": [
       "<div>\n",
       "<style scoped>\n",
       "    .dataframe tbody tr th:only-of-type {\n",
       "        vertical-align: middle;\n",
       "    }\n",
       "\n",
       "    .dataframe tbody tr th {\n",
       "        vertical-align: top;\n",
       "    }\n",
       "\n",
       "    .dataframe thead th {\n",
       "        text-align: right;\n",
       "    }\n",
       "</style>\n",
       "<table border=\"1\" class=\"dataframe\">\n",
       "  <thead>\n",
       "    <tr style=\"text-align: right;\">\n",
       "      <th></th>\n",
       "      <th>scheduled_day</th>\n",
       "      <th>appointment_day</th>\n",
       "    </tr>\n",
       "  </thead>\n",
       "  <tbody>\n",
       "    <tr>\n",
       "      <th>0</th>\n",
       "      <td>2016-04-29</td>\n",
       "      <td>2016-04-29</td>\n",
       "    </tr>\n",
       "    <tr>\n",
       "      <th>1</th>\n",
       "      <td>2016-04-29</td>\n",
       "      <td>2016-04-29</td>\n",
       "    </tr>\n",
       "    <tr>\n",
       "      <th>2</th>\n",
       "      <td>2016-04-29</td>\n",
       "      <td>2016-04-29</td>\n",
       "    </tr>\n",
       "    <tr>\n",
       "      <th>3</th>\n",
       "      <td>2016-04-29</td>\n",
       "      <td>2016-04-29</td>\n",
       "    </tr>\n",
       "    <tr>\n",
       "      <th>4</th>\n",
       "      <td>2016-04-29</td>\n",
       "      <td>2016-04-29</td>\n",
       "    </tr>\n",
       "  </tbody>\n",
       "</table>\n",
       "</div>"
      ],
      "text/plain": [
       "  scheduled_day appointment_day\n",
       "0    2016-04-29      2016-04-29\n",
       "1    2016-04-29      2016-04-29\n",
       "2    2016-04-29      2016-04-29\n",
       "3    2016-04-29      2016-04-29\n",
       "4    2016-04-29      2016-04-29"
      ]
     },
     "execution_count": 18,
     "metadata": {},
     "output_type": "execute_result"
    }
   ],
   "source": [
    "# visually inspect the changes\n",
    "\n",
    "df_dates.head()"
   ]
  },
  {
   "cell_type": "markdown",
   "metadata": {},
   "source": [
    "Next, we convert the datatype of each column to their datetime equivaluent. This will make it easier to perform operations on the objects, i.e. count the days-to-appointment."
   ]
  },
  {
   "cell_type": "code",
   "execution_count": 19,
   "metadata": {},
   "outputs": [],
   "source": [
    "# convert the strings to datetime objects\n",
    "\n",
    "df_dates[\"scheduled_day\"] = pd.to_datetime(df_dates[\"scheduled_day\"])\n",
    "df_dates[\"appointment_day\"] = pd.to_datetime(df_dates[\"appointment_day\"])"
   ]
  },
  {
   "cell_type": "code",
   "execution_count": 20,
   "metadata": {},
   "outputs": [
    {
     "data": {
      "text/plain": [
       "scheduled_day      datetime64[ns]\n",
       "appointment_day    datetime64[ns]\n",
       "dtype: object"
      ]
     },
     "execution_count": 20,
     "metadata": {},
     "output_type": "execute_result"
    }
   ],
   "source": [
    "# visually inspect the result\n",
    "\n",
    "df_dates.dtypes"
   ]
  },
  {
   "cell_type": "markdown",
   "metadata": {},
   "source": [
    "We've successfully converted the datatype. The next step is to create single array consisting of the number of days between the day of schedule and the day of appointment. To do this, we'll have to create another array which contains the differences of the dates."
   ]
  },
  {
   "cell_type": "code",
   "execution_count": 21,
   "metadata": {},
   "outputs": [],
   "source": [
    "# create the array of date differences. This returns an array of timedelta objects.\n",
    "date_diff = np.array(list(map(lambda a,b:a-b, df_dates[\"appointment_day\"], df_dates[\"scheduled_day\"])))\n",
    "\n",
    "# convert all to days\n",
    "date_diff = np.array(list(map(lambda x:x/dtime.timedelta(days=1), date_diff))) # credit below"
   ]
  },
  {
   "cell_type": "markdown",
   "metadata": {},
   "source": [
    "Credit to [this website](https://miguendes.me/how-to-use-datetimetimedelta-in-python-with-examples#how-to-calculate-the-number-of-days-between-two-dates) for the dtime.timedelta line."
   ]
  },
  {
   "cell_type": "markdown",
   "metadata": {},
   "source": [
    "In completing this objective, we create a new column in the original noshow dataframe. We will title it as \"days\". As stated before, it counts the days-to-appointment, i.e. the number of days between the day the patient scheduled their appointment and the day their appointment was supposed to take place."
   ]
  },
  {
   "cell_type": "code",
   "execution_count": 22,
   "metadata": {},
   "outputs": [],
   "source": [
    "# create a new column for the analysis\n",
    "\n",
    "df_noshow[\"days\"] = date_diff"
   ]
  },
  {
   "cell_type": "markdown",
   "metadata": {},
   "source": [
    "#### Fourth objective - Dropping extraneous columns\n",
    "\n",
    "The fourth task is to create a new dataframe which contains only the columns needed for the analysis.\n",
    "First, let's get an overview of all the columns we have so far, and their indexes."
   ]
  },
  {
   "cell_type": "code",
   "execution_count": 23,
   "metadata": {},
   "outputs": [
    {
     "name": "stdout",
     "output_type": "stream",
     "text": [
      "0 patientid\n",
      "1 appointmentid\n",
      "2 gender\n",
      "3 scheduled_day\n",
      "4 appointment_day\n",
      "5 age\n",
      "6 neighbourhood\n",
      "7 scholarship\n",
      "8 hypertension\n",
      "9 diabetes\n",
      "10 alcoholism\n",
      "11 handicap\n",
      "12 sms_received\n",
      "13 no_show\n",
      "14 total_diagnoses\n",
      "15 days\n"
     ]
    }
   ],
   "source": [
    "# to see what the indexies of the columns are\n",
    "\n",
    "for index,column in enumerate(df_noshow.columns):\n",
    "    print(index, column)"
   ]
  },
  {
   "cell_type": "markdown",
   "metadata": {},
   "source": [
    "Now, let's choose which columns to drop and justify each choice.\n",
    "We'll drop the patientid column because these are merely a means of identification for the sake of doctor-patient interactions.\n",
    "They tell the doctor which patient has what set of characteristics. Similarly, we'll be dropping the appointmentid column.\n",
    "For the sake of data analysis, what's more important is the combination of variables for each row, and that each combination is assigned a unique index number.\n",
    "\n",
    "We'll also be dropping the scheduled_day and appointment_day columns because the information we need from those is summarised in the days column.\n",
    "\n",
    "We'll be dropping each diagnostic column - hypertension, diabetes, alcoholism and handicap. These have been replaced with a single column titled \"total_diagnoses\" which counts how many different conditions each patient was diagnosed with. If there is a correlation between the number of diagnoses and the no-show outcome, that would inspire further study regarding which specific conditions correlate more strongly with the no-show outcome."
   ]
  },
  {
   "cell_type": "code",
   "execution_count": 24,
   "metadata": {},
   "outputs": [],
   "source": [
    "# list the titles of which columns to drop\n",
    "\n",
    "to_drop = [\"patientid\", \"appointmentid\", \"scheduled_day\", \"appointment_day\", \"hypertension\", \"diabetes\", \"alcoholism\", \"handicap\"]\n",
    "df_noshow.drop(columns=to_drop, inplace=True)"
   ]
  },
  {
   "cell_type": "code",
   "execution_count": 25,
   "metadata": {
    "scrolled": true
   },
   "outputs": [
    {
     "data": {
      "text/html": [
       "<div>\n",
       "<style scoped>\n",
       "    .dataframe tbody tr th:only-of-type {\n",
       "        vertical-align: middle;\n",
       "    }\n",
       "\n",
       "    .dataframe tbody tr th {\n",
       "        vertical-align: top;\n",
       "    }\n",
       "\n",
       "    .dataframe thead th {\n",
       "        text-align: right;\n",
       "    }\n",
       "</style>\n",
       "<table border=\"1\" class=\"dataframe\">\n",
       "  <thead>\n",
       "    <tr style=\"text-align: right;\">\n",
       "      <th></th>\n",
       "      <th>gender</th>\n",
       "      <th>age</th>\n",
       "      <th>neighbourhood</th>\n",
       "      <th>scholarship</th>\n",
       "      <th>sms_received</th>\n",
       "      <th>no_show</th>\n",
       "      <th>total_diagnoses</th>\n",
       "      <th>days</th>\n",
       "    </tr>\n",
       "  </thead>\n",
       "  <tbody>\n",
       "    <tr>\n",
       "      <th>0</th>\n",
       "      <td>F</td>\n",
       "      <td>62</td>\n",
       "      <td>JARDIM DA PENHA</td>\n",
       "      <td>0</td>\n",
       "      <td>0</td>\n",
       "      <td>No</td>\n",
       "      <td>1</td>\n",
       "      <td>0.0</td>\n",
       "    </tr>\n",
       "    <tr>\n",
       "      <th>1</th>\n",
       "      <td>M</td>\n",
       "      <td>56</td>\n",
       "      <td>JARDIM DA PENHA</td>\n",
       "      <td>0</td>\n",
       "      <td>0</td>\n",
       "      <td>No</td>\n",
       "      <td>0</td>\n",
       "      <td>0.0</td>\n",
       "    </tr>\n",
       "    <tr>\n",
       "      <th>2</th>\n",
       "      <td>F</td>\n",
       "      <td>62</td>\n",
       "      <td>MATA DA PRAIA</td>\n",
       "      <td>0</td>\n",
       "      <td>0</td>\n",
       "      <td>No</td>\n",
       "      <td>0</td>\n",
       "      <td>0.0</td>\n",
       "    </tr>\n",
       "    <tr>\n",
       "      <th>3</th>\n",
       "      <td>F</td>\n",
       "      <td>8</td>\n",
       "      <td>PONTAL DE CAMBURI</td>\n",
       "      <td>0</td>\n",
       "      <td>0</td>\n",
       "      <td>No</td>\n",
       "      <td>0</td>\n",
       "      <td>0.0</td>\n",
       "    </tr>\n",
       "    <tr>\n",
       "      <th>4</th>\n",
       "      <td>F</td>\n",
       "      <td>56</td>\n",
       "      <td>JARDIM DA PENHA</td>\n",
       "      <td>0</td>\n",
       "      <td>0</td>\n",
       "      <td>No</td>\n",
       "      <td>2</td>\n",
       "      <td>0.0</td>\n",
       "    </tr>\n",
       "  </tbody>\n",
       "</table>\n",
       "</div>"
      ],
      "text/plain": [
       "  gender  age      neighbourhood  scholarship  sms_received no_show  \\\n",
       "0      F   62    JARDIM DA PENHA            0             0      No   \n",
       "1      M   56    JARDIM DA PENHA            0             0      No   \n",
       "2      F   62      MATA DA PRAIA            0             0      No   \n",
       "3      F    8  PONTAL DE CAMBURI            0             0      No   \n",
       "4      F   56    JARDIM DA PENHA            0             0      No   \n",
       "\n",
       "   total_diagnoses  days  \n",
       "0                1   0.0  \n",
       "1                0   0.0  \n",
       "2                0   0.0  \n",
       "3                0   0.0  \n",
       "4                2   0.0  "
      ]
     },
     "execution_count": 25,
     "metadata": {},
     "output_type": "execute_result"
    }
   ],
   "source": [
    "# visually inspect the changes\n",
    "\n",
    "df_noshow.head()"
   ]
  },
  {
   "cell_type": "markdown",
   "metadata": {},
   "source": [
    "For the final step of the data cleaning, we will remove rows containing unusual values for age, or number of days to appointment.\n",
    "These are negative values and they don't make much sense in the context of our analysis.\n",
    "To see if such things exist, let's call the describe() method on our age and days columns."
   ]
  },
  {
   "cell_type": "code",
   "execution_count": 26,
   "metadata": {},
   "outputs": [
    {
     "data": {
      "text/html": [
       "<div>\n",
       "<style scoped>\n",
       "    .dataframe tbody tr th:only-of-type {\n",
       "        vertical-align: middle;\n",
       "    }\n",
       "\n",
       "    .dataframe tbody tr th {\n",
       "        vertical-align: top;\n",
       "    }\n",
       "\n",
       "    .dataframe thead th {\n",
       "        text-align: right;\n",
       "    }\n",
       "</style>\n",
       "<table border=\"1\" class=\"dataframe\">\n",
       "  <thead>\n",
       "    <tr style=\"text-align: right;\">\n",
       "      <th></th>\n",
       "      <th>age</th>\n",
       "      <th>scholarship</th>\n",
       "      <th>sms_received</th>\n",
       "      <th>total_diagnoses</th>\n",
       "      <th>days</th>\n",
       "    </tr>\n",
       "  </thead>\n",
       "  <tbody>\n",
       "    <tr>\n",
       "      <th>count</th>\n",
       "      <td>110527.000000</td>\n",
       "      <td>110527.000000</td>\n",
       "      <td>110527.000000</td>\n",
       "      <td>110527.000000</td>\n",
       "      <td>110527.000000</td>\n",
       "    </tr>\n",
       "    <tr>\n",
       "      <th>mean</th>\n",
       "      <td>37.088874</td>\n",
       "      <td>0.098266</td>\n",
       "      <td>0.321026</td>\n",
       "      <td>0.321758</td>\n",
       "      <td>10.183702</td>\n",
       "    </tr>\n",
       "    <tr>\n",
       "      <th>std</th>\n",
       "      <td>23.110205</td>\n",
       "      <td>0.297675</td>\n",
       "      <td>0.466873</td>\n",
       "      <td>0.631381</td>\n",
       "      <td>15.254996</td>\n",
       "    </tr>\n",
       "    <tr>\n",
       "      <th>min</th>\n",
       "      <td>-1.000000</td>\n",
       "      <td>0.000000</td>\n",
       "      <td>0.000000</td>\n",
       "      <td>0.000000</td>\n",
       "      <td>-6.000000</td>\n",
       "    </tr>\n",
       "    <tr>\n",
       "      <th>25%</th>\n",
       "      <td>18.000000</td>\n",
       "      <td>0.000000</td>\n",
       "      <td>0.000000</td>\n",
       "      <td>0.000000</td>\n",
       "      <td>0.000000</td>\n",
       "    </tr>\n",
       "    <tr>\n",
       "      <th>50%</th>\n",
       "      <td>37.000000</td>\n",
       "      <td>0.000000</td>\n",
       "      <td>0.000000</td>\n",
       "      <td>0.000000</td>\n",
       "      <td>4.000000</td>\n",
       "    </tr>\n",
       "    <tr>\n",
       "      <th>75%</th>\n",
       "      <td>55.000000</td>\n",
       "      <td>0.000000</td>\n",
       "      <td>1.000000</td>\n",
       "      <td>0.000000</td>\n",
       "      <td>15.000000</td>\n",
       "    </tr>\n",
       "    <tr>\n",
       "      <th>max</th>\n",
       "      <td>115.000000</td>\n",
       "      <td>1.000000</td>\n",
       "      <td>1.000000</td>\n",
       "      <td>5.000000</td>\n",
       "      <td>179.000000</td>\n",
       "    </tr>\n",
       "  </tbody>\n",
       "</table>\n",
       "</div>"
      ],
      "text/plain": [
       "                 age    scholarship   sms_received  total_diagnoses  \\\n",
       "count  110527.000000  110527.000000  110527.000000    110527.000000   \n",
       "mean       37.088874       0.098266       0.321026         0.321758   \n",
       "std        23.110205       0.297675       0.466873         0.631381   \n",
       "min        -1.000000       0.000000       0.000000         0.000000   \n",
       "25%        18.000000       0.000000       0.000000         0.000000   \n",
       "50%        37.000000       0.000000       0.000000         0.000000   \n",
       "75%        55.000000       0.000000       1.000000         0.000000   \n",
       "max       115.000000       1.000000       1.000000         5.000000   \n",
       "\n",
       "                days  \n",
       "count  110527.000000  \n",
       "mean       10.183702  \n",
       "std        15.254996  \n",
       "min        -6.000000  \n",
       "25%         0.000000  \n",
       "50%         4.000000  \n",
       "75%        15.000000  \n",
       "max       179.000000  "
      ]
     },
     "execution_count": 26,
     "metadata": {},
     "output_type": "execute_result"
    }
   ],
   "source": [
    "# use summary statistics to check for unusual values\n",
    "\n",
    "df_noshow.describe()"
   ]
  },
  {
   "cell_type": "markdown",
   "metadata": {},
   "source": [
    "The above table shows that the minimum age is -1, and the minimum number of days is -6. These are negative values and make no sense in context.\n",
    "Hence, we will have to delete all such rows using a query. We'll also exclude all rows whose total_diagnoses is greater than 4."
   ]
  },
  {
   "cell_type": "code",
   "execution_count": 27,
   "metadata": {},
   "outputs": [],
   "source": [
    "# filter out unusual values with a query\n",
    "\n",
    "df_noshow = df_noshow.query(\"age >= 0 and days >= 0 and total_diagnoses >= 0 and total_diagnoses <= 4\")"
   ]
  },
  {
   "cell_type": "markdown",
   "metadata": {},
   "source": [
    "To see if it worked, let's view the descriptive statistics again."
   ]
  },
  {
   "cell_type": "code",
   "execution_count": 28,
   "metadata": {},
   "outputs": [
    {
     "data": {
      "text/html": [
       "<div>\n",
       "<style scoped>\n",
       "    .dataframe tbody tr th:only-of-type {\n",
       "        vertical-align: middle;\n",
       "    }\n",
       "\n",
       "    .dataframe tbody tr th {\n",
       "        vertical-align: top;\n",
       "    }\n",
       "\n",
       "    .dataframe thead th {\n",
       "        text-align: right;\n",
       "    }\n",
       "</style>\n",
       "<table border=\"1\" class=\"dataframe\">\n",
       "  <thead>\n",
       "    <tr style=\"text-align: right;\">\n",
       "      <th></th>\n",
       "      <th>age</th>\n",
       "      <th>scholarship</th>\n",
       "      <th>sms_received</th>\n",
       "      <th>total_diagnoses</th>\n",
       "      <th>days</th>\n",
       "    </tr>\n",
       "  </thead>\n",
       "  <tbody>\n",
       "    <tr>\n",
       "      <th>count</th>\n",
       "      <td>110520.000000</td>\n",
       "      <td>110520.000000</td>\n",
       "      <td>110520.000000</td>\n",
       "      <td>110520.000000</td>\n",
       "      <td>110520.000000</td>\n",
       "    </tr>\n",
       "    <tr>\n",
       "      <th>mean</th>\n",
       "      <td>37.089133</td>\n",
       "      <td>0.098272</td>\n",
       "      <td>0.321046</td>\n",
       "      <td>0.321716</td>\n",
       "      <td>10.184419</td>\n",
       "    </tr>\n",
       "    <tr>\n",
       "      <th>std</th>\n",
       "      <td>23.109837</td>\n",
       "      <td>0.297683</td>\n",
       "      <td>0.466881</td>\n",
       "      <td>0.631235</td>\n",
       "      <td>15.255203</td>\n",
       "    </tr>\n",
       "    <tr>\n",
       "      <th>min</th>\n",
       "      <td>0.000000</td>\n",
       "      <td>0.000000</td>\n",
       "      <td>0.000000</td>\n",
       "      <td>0.000000</td>\n",
       "      <td>0.000000</td>\n",
       "    </tr>\n",
       "    <tr>\n",
       "      <th>25%</th>\n",
       "      <td>18.000000</td>\n",
       "      <td>0.000000</td>\n",
       "      <td>0.000000</td>\n",
       "      <td>0.000000</td>\n",
       "      <td>0.000000</td>\n",
       "    </tr>\n",
       "    <tr>\n",
       "      <th>50%</th>\n",
       "      <td>37.000000</td>\n",
       "      <td>0.000000</td>\n",
       "      <td>0.000000</td>\n",
       "      <td>0.000000</td>\n",
       "      <td>4.000000</td>\n",
       "    </tr>\n",
       "    <tr>\n",
       "      <th>75%</th>\n",
       "      <td>55.000000</td>\n",
       "      <td>0.000000</td>\n",
       "      <td>1.000000</td>\n",
       "      <td>0.000000</td>\n",
       "      <td>15.000000</td>\n",
       "    </tr>\n",
       "    <tr>\n",
       "      <th>max</th>\n",
       "      <td>115.000000</td>\n",
       "      <td>1.000000</td>\n",
       "      <td>1.000000</td>\n",
       "      <td>4.000000</td>\n",
       "      <td>179.000000</td>\n",
       "    </tr>\n",
       "  </tbody>\n",
       "</table>\n",
       "</div>"
      ],
      "text/plain": [
       "                 age    scholarship   sms_received  total_diagnoses  \\\n",
       "count  110520.000000  110520.000000  110520.000000    110520.000000   \n",
       "mean       37.089133       0.098272       0.321046         0.321716   \n",
       "std        23.109837       0.297683       0.466881         0.631235   \n",
       "min         0.000000       0.000000       0.000000         0.000000   \n",
       "25%        18.000000       0.000000       0.000000         0.000000   \n",
       "50%        37.000000       0.000000       0.000000         0.000000   \n",
       "75%        55.000000       0.000000       1.000000         0.000000   \n",
       "max       115.000000       1.000000       1.000000         4.000000   \n",
       "\n",
       "                days  \n",
       "count  110520.000000  \n",
       "mean       10.184419  \n",
       "std        15.255203  \n",
       "min         0.000000  \n",
       "25%         0.000000  \n",
       "50%         4.000000  \n",
       "75%        15.000000  \n",
       "max       179.000000  "
      ]
     },
     "execution_count": 28,
     "metadata": {},
     "output_type": "execute_result"
    }
   ],
   "source": [
    "# use summary statistics to see if the changes worked\n",
    "\n",
    "df_noshow.describe()"
   ]
  },
  {
   "cell_type": "markdown",
   "metadata": {},
   "source": [
    "Since the minimum age and number of days are now non-negative, we can conclude that the filtering process worked. The mean and std haven't changed much, which suggests that only a few such errant values existed.\n",
    "In fact, for this dataset the count has only decreased by about seven. Nonetheless, it's better to abandon those unusual rows.\n",
    "\n",
    "This concludes the data cleaning stage. Next is the Exploratory stage."
   ]
  },
  {
   "cell_type": "markdown",
   "metadata": {},
   "source": [
    "<a id='eda'></a>\n",
    "## Exploratory Data Analysis\n",
    "#### Our Objectives in this stage\n",
    "The dependent variable is the binary \"no_show\" variable. \"no_show\" is shorthand for \"Did the patient miss the appointment?\". A \"Yes\" indicates that the patient missed the appointment, and a \"No\" tells us that the patient did not miss the appointment. Later on, we'll use visualisations to make this more apparent.\n",
    "The independent variables are the age, the scholarship, the sms_received, total_diagnoses and days parameters.\n",
    "These are independent for the sake of data analysis - they're independent in the sense that we're going to compare the no_show variable against these other variables. We'll treat the no_show variable as a function of the latter ones.\n",
    "We will explore the proportion of patients who showed up and those who didn't show up for...\n",
    "- Different genders (gender)\n",
    "- Whether they had scholarship i.e were on the welfare programme (scholarship)\n",
    "- Whether they received an SMS notification (sms_received)\n",
    "- How many conditions they were diagnosed with (total_diagnoses)\n",
    "- Various age distributions (age)\n",
    "- How many days between the day of schedule and the day of appointment (days). For logistic reasons, I won't be exploring the neighbourhood data.\n",
    "\n",
    "We'll first skim through the data to see if there's any general trend with respect to each independent variable. First, let's get a general idea of what proportion of patients overall showed up for their appointments."
   ]
  },
  {
   "cell_type": "code",
   "execution_count": 29,
   "metadata": {},
   "outputs": [
    {
     "data": {
      "image/png": "[encoded data removed]",
      "text/plain": [
       "<matplotlib.figure.Figure at 0x7fa79e9e0da0>"
      ]
     },
     "metadata": {
      "needs_background": "light"
     },
     "output_type": "display_data"
    }
   ],
   "source": [
    "# how many patients showed up for their appointments?\n",
    "\n",
    "showed_up = df_noshow.query(\"no_show == 'No'\")\n",
    "didnt_show = df_noshow.query(\"no_show == 'Yes'\")\n",
    "plt.bar([1,2],[showed_up.shape[0],didnt_show.shape[0]],tick_label=[\"Showed-up\", \"Didn't show up\"]) ;\n",
    "plt.xlabel(\"Did the patient show up?\") ;\n",
    "plt.ylabel(\"Number of patients in category\") ;\n",
    "plt.title(\"number of patients and whether they showed up\".upper()) ;"
   ]
  },
  {
   "cell_type": "markdown",
   "metadata": {},
   "source": [
    "The above diagram suggests that most of the patients made their appointments. This means that we'll have to be careful with our comparisons. For example, rather than comparing the number of women who showed up to the number of men who showed up, it's more reasonable to check for a gender bias with respect to whether the patient showed up.\n",
    "\n",
    "For example, imagine that there were one trillion women and only one-hundred men. Imagine also that half of all women showed up and half of all men showed up. This comparison of proportion tells us that the gender of the patient doesn't bias whether they were likely to show up, because for any given gender the patient is equally likely to have showed up. In other words, nothing about being female would correlate with whether the patient was likely to have showed up. In this imaginary scenario, knowing the patient's gender tells us little about their tendency to have shown up. We may as well flip a fair coin to guess. \n",
    "\n",
    "That's the reason why we'll be comparing proportions rather than raw numbers. If we were to compare the raw numbers alone - half of a trillion women against just fifty men, that's like answering a different question entirely - how likely is it that any member of the population is female? This isn't the same thing as determining whether a patient likely showed up, given their gender. What we should do is compare the number of women who showed up to the total number of women. The same goes for men.\n",
    "\n",
    "In short, what our analysis explores isn't the comparative size of each category, but whether there's any bias in outcome for a given category. The analysis isn't concerned for example with whether there were more women than men, but with whether for a given gender, the patients in that gender category were more or less likely to show up. We'll then compare these likelihoods across categories to draw correlations.\n",
    "\n",
    "Let's first take a cursory glance through the numerical data for any possible correlations."
   ]
  },
  {
   "cell_type": "code",
   "execution_count": 30,
   "metadata": {},
   "outputs": [
    {
     "data": {
      "text/html": [
       "<div>\n",
       "<style scoped>\n",
       "    .dataframe tbody tr th:only-of-type {\n",
       "        vertical-align: middle;\n",
       "    }\n",
       "\n",
       "    .dataframe tbody tr th {\n",
       "        vertical-align: top;\n",
       "    }\n",
       "\n",
       "    .dataframe thead th {\n",
       "        text-align: right;\n",
       "    }\n",
       "</style>\n",
       "<table border=\"1\" class=\"dataframe\">\n",
       "  <thead>\n",
       "    <tr style=\"text-align: right;\">\n",
       "      <th></th>\n",
       "      <th>age</th>\n",
       "      <th>scholarship</th>\n",
       "      <th>sms_received</th>\n",
       "      <th>total_diagnoses</th>\n",
       "      <th>days</th>\n",
       "    </tr>\n",
       "    <tr>\n",
       "      <th>no_show</th>\n",
       "      <th></th>\n",
       "      <th></th>\n",
       "      <th></th>\n",
       "      <th></th>\n",
       "      <th></th>\n",
       "    </tr>\n",
       "  </thead>\n",
       "  <tbody>\n",
       "    <tr>\n",
       "      <th>No</th>\n",
       "      <td>37.790504</td>\n",
       "      <td>0.093904</td>\n",
       "      <td>0.291337</td>\n",
       "      <td>0.331391</td>\n",
       "      <td>8.754759</td>\n",
       "    </tr>\n",
       "    <tr>\n",
       "      <th>Yes</th>\n",
       "      <td>34.316497</td>\n",
       "      <td>0.115538</td>\n",
       "      <td>0.438489</td>\n",
       "      <td>0.283467</td>\n",
       "      <td>15.836105</td>\n",
       "    </tr>\n",
       "  </tbody>\n",
       "</table>\n",
       "</div>"
      ],
      "text/plain": [
       "               age  scholarship  sms_received  total_diagnoses       days\n",
       "no_show                                                                  \n",
       "No       37.790504     0.093904      0.291337         0.331391   8.754759\n",
       "Yes      34.316497     0.115538      0.438489         0.283467  15.836105"
      ]
     },
     "execution_count": 30,
     "metadata": {},
     "output_type": "execute_result"
    }
   ],
   "source": [
    "# quick statistics\n",
    "\n",
    "df_noshow.groupby(\"no_show\").mean()"
   ]
  },
  {
   "cell_type": "markdown",
   "metadata": {},
   "source": [
    "The above grouped table seems to suggest that people who showed up for appointments (\"No\" no_show) were usually older (37 years on average) than those who failed to show, were usually not recipients of the scholarship/welfare program, usually didn't receive an sms, were usually diagnosed with more conditions than those who failed to show up, and had fewer days till their appointment.\n",
    "\n",
    "In contrast, those who couldn't show up were slightly younger (about 34 years of age on average), were usually on the scholarship programme, usually received an sms, usually were diagnosed with fewer conditions, and usually had more days between schedule and appointment.\n",
    "\n",
    "However, we'll have to address the meaning of the average (i.e. mean) scholarship and sms_received. It's best interpreted loosely in terms of frequency. A mean sms_received is like a mean \"YES\" or \"NO\", so let's not interpret it that way. Instead, think of it as the probability of any patient to have received an SMS, given their no_show outcome. Likewise, think of the scholarship the same way.\n",
    "\n",
    "Before we begin exploring the questions, we'll create two dataframes consisting of patients who showed up for their appointments and those who couldn't show up for their appointments."
   ]
  },
  {
   "cell_type": "code",
   "execution_count": 31,
   "metadata": {},
   "outputs": [],
   "source": [
    "# create separate dataframes for the different categories\n",
    "\n",
    "patients_showed = df_noshow.query(\"no_show == 'No'\")\n",
    "patients_noshowed = df_noshow.query(\"no_show == 'Yes'\")\n",
    "\n",
    "total_showed = patients_showed.shape[0] # counts how many rows, which is equivalent to how many people in this class\n",
    "total_noshowed = patients_noshowed.shape[0]\n",
    "\n",
    "# a function specific to the df_noshow dataframe\n",
    "def generate_count(category):\n",
    "    \"\"\"category should be column title as a string\"\"\"\n",
    "    return df_noshow.groupby([category,\"no_show\"]).count()\n"
   ]
  },
  {
   "cell_type": "markdown",
   "metadata": {},
   "source": [
    "Let's define a function to count the number of patients for a specific sub-category and no_show outcome.\n",
    "The variable is represented by the title of the column, and the condition is a specific value we want the variable to take. The showed_up parameter asks whether the patient showed up or not."
   ]
  },
  {
   "cell_type": "code",
   "execution_count": 32,
   "metadata": {},
   "outputs": [],
   "source": [
    "# functions that will help in calculating proportions\n",
    "\n",
    "def catg_count(column, condition):\n",
    "    \"\"\"useful for counting the total number of patients in a specific category\n",
    "    column is the title of column which is string.\n",
    "    condition is unique value in that column. If condition is string, pass with nested quotes e.g \"'tall'\".\n",
    "    \"\"\"\n",
    "    return df_noshow.query(\"{} {} \".format(column,condition)).shape[0] # counts how many rows\n",
    "\n",
    "def show_count(column, condition, showed_up):\n",
    "    \"\"\"useful for counting number of patients who showed or didn't show for a given category.\n",
    "    column is the title of column which is string.\n",
    "    condition is unique value in that column. If condition is string, pass with nested quotes e.g \"'tall'\"\n",
    "    showed_up is a string - y or n\"\"\"\n",
    "    if showed_up == 'y':\n",
    "        return patients_showed.query(\"{}\".format(column) + \" {}\".format(condition)).shape[0] # counts how many rows\n",
    "    elif showed_up == 'n':\n",
    "        return patients_noshowed.query(\"{}\".format(column) + \" {}\".format(condition)).shape[0]\n"
   ]
  },
  {
   "cell_type": "markdown",
   "metadata": {},
   "source": [
    "We will be using these functions and values to make our comparisons. For plotting the data, we'll be using grouped bar charts, courtesy of matplotlib."
   ]
  },
  {
   "cell_type": "markdown",
   "metadata": {},
   "source": [
    "### Research Question 1 - Is there a correlation between the gender of the patient and whether they showed up for their appointment?\n",
    "\n",
    "As stated earlier, what we need to compare isn't raw numbers but rather proportions, or probability (from the dataset).\n",
    "To achieve this, we will group the dataset into four categories - men who showed up, men who didn't show up, women who showed up, women who didn't show up. For each \"no_show\" category we divide the number of each gender sub-category by the total number of people in that no_show category, e.g. women_who_showed_up / total_showed. This is essentially calculating the probability that a patient showed up, given that they are female.\n",
    "\n",
    "First, let's inspect the data we need."
   ]
  },
  {
   "cell_type": "code",
   "execution_count": 33,
   "metadata": {},
   "outputs": [
    {
     "name": "stdout",
     "output_type": "stream",
     "text": [
      "gender  no_show\n",
      "F       No         57245\n",
      "        Yes        14591\n",
      "M       No         30962\n",
      "        Yes         7722\n",
      "Name: neighbourhood, dtype: int64\n"
     ]
    }
   ],
   "source": [
    "# visually inspect the data\n",
    "\n",
    "gender_count = generate_count(\"gender\")[\"neighbourhood\"] # it doesn't matter the exact column we use\n",
    "print(gender_count)"
   ]
  },
  {
   "cell_type": "markdown",
   "metadata": {},
   "source": [
    "The simple table tells us the no_show status by gender. We generated it to get an idea of what to expect. Let's find the total number of women and the total number of men respectively."
   ]
  },
  {
   "cell_type": "code",
   "execution_count": 34,
   "metadata": {},
   "outputs": [],
   "source": [
    "# use our function to count the women and men\n",
    "\n",
    "total_women = catg_count(\"gender\", \"=='F'\")\n",
    "total_men = catg_count(\"gender\", \"=='M'\")\n",
    "\n",
    "# define this to make calling show_count easier\n",
    "def g_count(gender,showed_up):\n",
    "    \"\"\"gender is gender passed as nested string \"'F'\" or \"'M'\"\n",
    "    showed_up is 'y'/'n'\"\"\"\n",
    "    return show_count(\"gender\",\"=={}\".format(gender),\"{}\".format(showed_up))"
   ]
  },
  {
   "cell_type": "markdown",
   "metadata": {},
   "source": [
    "Now, let's count the proportions of women and men for each no_show outcome."
   ]
  },
  {
   "cell_type": "code",
   "execution_count": 35,
   "metadata": {},
   "outputs": [
    {
     "name": "stdout",
     "output_type": "stream",
     "text": [
      "0.7968845704103792 0.2031154295896208 0.8003825871161203 0.19961741288387963\n"
     ]
    }
   ],
   "source": [
    "# these represent proportions\n",
    "\n",
    "women_showed = g_count(\"'F'\",'y') / total_women\n",
    "women_noshowed = g_count(\"'F'\",'n') / total_women\n",
    "men_showed = g_count(\"'M'\",'y') / total_men\n",
    "men_noshowed = g_count(\"'M'\",'n') / total_men\n",
    "\n",
    "print(women_showed,women_noshowed,men_showed,men_noshowed)"
   ]
  },
  {
   "cell_type": "markdown",
   "metadata": {},
   "source": [
    "To avoid too much code, we'll have to define several functions. The first returns a duple (array with two values) whose first element is the proportion of patients in that category that showed up, and the last element is the proportion of patients in that category that didn't show up. Referring to this duple will be more convenient than having to create four or more variables every single time. The function's primary purpose is to help us quickly determine the heights of bars in subsequent bar plots."
   ]
  },
  {
   "cell_type": "code",
   "execution_count": 36,
   "metadata": {},
   "outputs": [],
   "source": [
    "# define a useful function\n",
    "\n",
    "def show_duple(column,condition,percent=True):\n",
    "    \"\"\"returns np.array duple (proportion who showed, proportion who didn't show) for a given category\n",
    "    column is name of column as string\n",
    "    condition is a string. Format as if using .query() function\n",
    "    percent is to scale proportion to range [0,100]\"\"\"\n",
    "    if percent == True:\n",
    "        scale = 100\n",
    "    elif percent == False:\n",
    "        scale = 1\n",
    "    total = catg_count(column,condition) # how many people in that catgeory i.e. column-condition e.g. gender-female\n",
    "    left = scale*(show_count(column,condition,'y') / total) # proportion of category that showed up\n",
    "    right = scale*(show_count(column,condition,'n') / total) # proportion of category that didn't show up.\n",
    "    return np.array([left,right])\n"
   ]
  },
  {
   "cell_type": "markdown",
   "metadata": {},
   "source": [
    "Now, let's define a function to help us conveniently plot bar graphs using matplotlib. Depending on the dataset, we may have to be careful about how we use the function but it should be straightforward to use most of the time. To give us a bit more room to customise, we'll have to manually call the barplot outside the function."
   ]
  },
  {
   "cell_type": "code",
   "execution_count": 37,
   "metadata": {},
   "outputs": [],
   "source": [
    "# for cleaner-looking code, even though it does more than one job\n",
    "\n",
    "def generate_barplot(which_column, dtype, title, categories, leg_labels):\n",
    "    \"\"\"Receives python lists as arguments.\n",
    "    Use carefully. Args are arrays or strings\n",
    "    which_column relates to column i.e. variable we want to plot. it's a string, the proper name of the column\n",
    "    dtype is either string or num. This is important to avoid annoying exceptions\n",
    "    title is just the title as a string. will be converted to uppercase\n",
    "    categories is a list of the unique values in the column. Supplied as a parameter for easier customisation.\n",
    "    leg_labels are to explain what each distinct plot represents (hopefully different colors)\n",
    "    They're for the legend.\n",
    "        [\"female\",\"male\"] or [\"scholarship\",\"no scholarship\"].\n",
    "        Do not confuse this with the actual column names.\n",
    "        \"\"\"\n",
    "    ttl = title.upper()\n",
    "    # notice title is converted to uppercase\n",
    "    xlab = \"Did the patient show up for appointment?\"\n",
    "    ylab = \"Proportion of patients\"\n",
    "    xtlab = [\"Showed up\", \"Didn't show up\"] # xticks label\n",
    "    \n",
    "    \n",
    "    # this part plots the actual plot\n",
    "    \n",
    "    n = leg_labels.shape[0]\n",
    "    wd = 7/(8*n) # it's assumed that there are as many labels for the legend as there are sub-categories of the column.\n",
    "    # for example, if column is gender, we expect leg_labels = [\"female\",\"male\"]. wd just has to be less than 1/n\n",
    "    x_marks_list = [np.arange(2)+i*wd for i in range(n)] # generates a list of positions for the xticks\n",
    "    \n",
    "    # now we need corresponding yvalues. Once again, we assume that the number of sub-categories is specified by leg_labels the legend.\n",
    "    # it's also assumed that the legend-label is properly ordered\n",
    "    \n",
    "    # next step is to generate the appropriate y values for each category. Remember, we need just a pair (duple) for each sub_cat\n",
    "    sub_cats = []\n",
    "    if dtype == \"num\":\n",
    "        for i in range(categories.shape[0]):\n",
    "            sub_cats.append(show_duple(which_column,\"=={}\".format(categories[i]))) # the == condition is an assumption\n",
    "            # will define another variant of function if needed.\n",
    "    elif dtype == \"string\":\n",
    "        # all that changes is that little bit that's formatted. Don't know any other way to achieve the effect.\n",
    "        for i in range(categories.shape[0]):\n",
    "            sub_cats.append(show_duple(which_column,\"=='{}'\".format(categories[i]))) # the == condition is an assumption\n",
    "        \n",
    "    sub_cats = np.array(sub_cats) # an array of each y-value to be plotted.\n",
    "    # it's assumed that x_marks_list and sub_cats are the same length\n",
    "    for i in range(n):\n",
    "        plt.bar(x_marks_list[i],sub_cats[i],width=wd,label=leg_labels[i])\n",
    "    \n",
    "    # label the plot\n",
    "    plt.title(ttl,fontsize=10)\n",
    "    plt.xlabel(xlab)\n",
    "    plt.ylabel(ylab)\n",
    "    \n",
    "    label_position = 0.5*(x_marks_list[0] + x_marks_list[-1]) # this is an array object. midpoinit of laargest and smallest x_marks\n",
    "    plt.xticks(label_position, xtlab)\n",
    "    \n",
    "    plt.ylim([0,100])\n",
    "    plt.legend()\n",
    "    "
   ]
  },
  {
   "cell_type": "markdown",
   "metadata": {},
   "source": [
    "Now, we can easily plot subsequent bar plots as we desire. Let's begin by visually exploring whether a gender bias exists. If we know a person's gender, how likelier were they to have shown up?"
   ]
  },
  {
   "cell_type": "code",
   "execution_count": 38,
   "metadata": {},
   "outputs": [
    {
     "data": {
      "image/png": "[encoded data removed]",
      "text/plain": [
       "<matplotlib.figure.Figure at 0x7fa79e6c2c88>"
      ]
     },
     "metadata": {
      "needs_background": "light"
     },
     "output_type": "display_data"
    }
   ],
   "source": [
    "# plot the plots for gender\n",
    "\n",
    "gender_title = \"proportion per gender of patients\"\n",
    "gender_cats = df_noshow[\"gender\"].unique() # an array dtype\n",
    "gender_labels = df_noshow[\"gender\"].unique() # an array dtype\n",
    "\n",
    "\n",
    "generate_barplot(\"gender\",\"string\",gender_title, gender_cats, gender_labels)\n",
    "plt.show()"
   ]
  },
  {
   "cell_type": "markdown",
   "metadata": {},
   "source": [
    "As expected, the plot correctly shows that more people showed up than didn't show up. But what's important to note visually is that there doesn't seem to be a significant gender bias with respect to whether a patient showed up. Female patients and male patients are nearly equal in proportion for their respective gender, when it comes to whether they showed up. Slightly more male patients showed up than did female patients, but the difference appears to be slight. We can numerically compute the difference using variables we defined earlier..."
   ]
  },
  {
   "cell_type": "code",
   "execution_count": 39,
   "metadata": {},
   "outputs": [
    {
     "name": "stdout",
     "output_type": "stream",
     "text": [
      "0.3498016705741125\n"
     ]
    }
   ],
   "source": [
    "# print some stats\n",
    "\n",
    "print(100*(men_showed-women_showed))"
   ]
  },
  {
   "cell_type": "markdown",
   "metadata": {},
   "source": [
    "### Research Question 2 - Did patients who were on scholarship (welfare) tend to show up more than patients who didn't have the assistance?\n",
    "\n",
    "Just as we did with gender, we want to explore the proportion of patients on scholarship who showed up, and the proportion of patients on scholarship who didn't show up. The same goes for patients who weren't on the scholarship programme."
   ]
  },
  {
   "cell_type": "code",
   "execution_count": 40,
   "metadata": {},
   "outputs": [
    {
     "data": {
      "text/plain": [
       "array([0, 1])"
      ]
     },
     "execution_count": 40,
     "metadata": {},
     "output_type": "execute_result"
    }
   ],
   "source": [
    "# to see what the labels are\n",
    "\n",
    "df_noshow.scholarship.unique()"
   ]
  },
  {
   "cell_type": "code",
   "execution_count": 41,
   "metadata": {},
   "outputs": [
    {
     "data": {
      "image/png": "[encoded data removed]",
      "text/plain": [
       "<matplotlib.figure.Figure at 0x7fa79e6c8d68>"
      ]
     },
     "metadata": {
      "needs_background": "light"
     },
     "output_type": "display_data"
    }
   ],
   "source": [
    "# plot the plots for scholarship\n",
    "\n",
    "ship_title = \"proportion per scholarship of patients\"\n",
    "ship_cats = np.array([1,0])\n",
    "ship_labels = np.array([\"received scholarship\", \"no scholarship\"])\n",
    "\n",
    "generate_barplot(\"scholarship\",\"num\", ship_title, ship_cats, ship_labels)\n",
    "plt.show()"
   ]
  },
  {
   "cell_type": "markdown",
   "metadata": {},
   "source": [
    "The above plot tells us two things. Once again, more people showed up than didn't show up. But apart from this, we have a counter-intuitive result - the patients on scholarship seem to have had a lower tendency to show up, as evidenced by the fact that for the \"showed up\" group, the left bar is noticeably lower than the right. In other words, if we know that a patient was on the scholarship programme we can conlude that, proportionally, they likely didn't show up compared to those not on the programme. The difference is slight, but it's more noticeable than any gender bias in this dataset."
   ]
  },
  {
   "cell_type": "markdown",
   "metadata": {},
   "source": [
    "### Research Question 3 - Did patients who received an SMS notification for their appointment tend to show up more than patients who didn't receive such notifications?"
   ]
  },
  {
   "cell_type": "code",
   "execution_count": 42,
   "metadata": {},
   "outputs": [
    {
     "data": {
      "text/plain": [
       "array([0, 1])"
      ]
     },
     "execution_count": 42,
     "metadata": {},
     "output_type": "execute_result"
    }
   ],
   "source": [
    "# to see what the labels for sms_received are\n",
    "\n",
    "df_noshow[\"sms_received\"].unique()"
   ]
  },
  {
   "cell_type": "code",
   "execution_count": 43,
   "metadata": {},
   "outputs": [
    {
     "data": {
      "text/plain": [
       "[]"
      ]
     },
     "execution_count": 43,
     "metadata": {},
     "output_type": "execute_result"
    },
    {
     "data": {
      "image/png": "[encoded data removed]",
      "text/plain": [
       "<matplotlib.figure.Figure at 0x7fa79e6c8cc0>"
      ]
     },
     "metadata": {
      "needs_background": "light"
     },
     "output_type": "display_data"
    }
   ],
   "source": [
    "# plot the plots for sms_received\n",
    "\n",
    "sms_title = \"proportion per whether patient received sms\"\n",
    "sms_cats = np.array([1,0])\n",
    "sms_labels = np.array([\"received sms\",\"didn't receive sms\"])\n",
    "\n",
    "generate_barplot(\"sms_received\", \"num\", sms_title, sms_cats, sms_labels)\n",
    "plt.plot()"
   ]
  },
  {
   "cell_type": "markdown",
   "metadata": {},
   "source": [
    "From the bar chart, it's clear that patients who received an sms notification had less likelihood of showing up, which is the same as more likelihood of not showing up. In contrast, patients who didn't receive an sms had a noticeable tendency towards successful appointments. This is somewhat counter-intuitive but perhaps it's a clue that there's a variable influencing this category, that we haven't accounted for."
   ]
  },
  {
   "cell_type": "markdown",
   "metadata": {},
   "source": [
    "### Research Question 4 - Did patients who were diagnosed with more conditions tend to show up more than patients who were diagnosed with fewer conditions?\n",
    "\n",
    "Just as we've done so far, we'll use grouped bar charts to explore this question. There aren't too many total_diagnoses values so it'd be convenient to use grouped bar charts."
   ]
  },
  {
   "cell_type": "code",
   "execution_count": 44,
   "metadata": {},
   "outputs": [
    {
     "data": {
      "text/plain": [
       "array([1, 0, 2, 3, 4])"
      ]
     },
     "execution_count": 44,
     "metadata": {},
     "output_type": "execute_result"
    }
   ],
   "source": [
    "# to see the labels for total_diagnoses\n",
    "\n",
    "df_noshow[\"total_diagnoses\"].unique()"
   ]
  },
  {
   "cell_type": "markdown",
   "metadata": {},
   "source": [
    "We'll have to sort these values for a more cohesive bar plot."
   ]
  },
  {
   "cell_type": "code",
   "execution_count": 45,
   "metadata": {},
   "outputs": [
    {
     "data": {
      "text/plain": [
       "[]"
      ]
     },
     "execution_count": 45,
     "metadata": {},
     "output_type": "execute_result"
    },
    {
     "data": {
      "image/png": "[encoded data removed]",
      "text/plain": [
       "<matplotlib.figure.Figure at 0x7fa79e659550>"
      ]
     },
     "metadata": {
      "needs_background": "light"
     },
     "output_type": "display_data"
    }
   ],
   "source": [
    "# plot the plot for total_diagnoses\n",
    "\n",
    "diag_title = \"how many conditions was patient diagnosed with?\"\n",
    "diag_cats = np.sort(df_noshow[\"total_diagnoses\"].unique())\n",
    "diag_labels = np.array(diag_cats[:])\n",
    "\n",
    "generate_barplot(\"total_diagnoses\", \"num\", diag_title, diag_cats, diag_labels)\n",
    "plt.plot()"
   ]
  },
  {
   "cell_type": "markdown",
   "metadata": {},
   "source": [
    "There are five unique values for the total diagnoses, ranging from 0 through 4. These numbers tell us how many conditions the patient in question was diagnosed with. The conditions are hypertension, diabetes, alcoholism and handicap, but the total_diagnoses variable makes no distinction between these conditions.\n",
    "\n",
    "Our bar chart shows a slight but noticeable bias in the tendency of patients to have missed their appointments. As the number of diagnoses increased from 0 to 3, the tendency for successful appointments grew proportionally. This means that for patients with fewer than four diagnoses, those with more conditions had a slight tendency to show up compared to those with fewer conditions. Those diagnosed with four conditions had less tendency to show up, but still slightly more than those with 0 conditions."
   ]
  },
  {
   "cell_type": "markdown",
   "metadata": {},
   "source": [
    "### Research Question 5 - What is the correlation between the age group of the patients and whether they showed up for their appointments?\n",
    "\n",
    "To investigate this question, we'll have to group the patients' ages into different quartiles. This is better than calling specific patient ages. Let's write a function which will return an array of quantiles for specific numerical variables. This will be more helpful than directly plotting all 100 or so unique age values side-by-side."
   ]
  },
  {
   "cell_type": "code",
   "execution_count": 46,
   "metadata": {},
   "outputs": [],
   "source": [
    "# a function that returns an array of quartiles for a column. (min,25%,median,75%,max)\n",
    "\n",
    "def get_quarts(column):\n",
    "    give = [df_noshow[\"{}\".format(column)].quantile(i) for i in np.arange(0,1.1,0.25)]\n",
    "    return np.array(give)\n"
   ]
  },
  {
   "cell_type": "markdown",
   "metadata": {},
   "source": [
    "Let's define a function for quickly getting labels for the quartiles."
   ]
  },
  {
   "cell_type": "code",
   "execution_count": 47,
   "metadata": {},
   "outputs": [],
   "source": [
    "# function is specific to this context\n",
    "\n",
    "def get_quartlabels(quart):\n",
    "    give = []\n",
    "    lngth = quart.shape[0]\n",
    "    # labels half-open intervals [q[i],q[i+1]). Includes minimum, excludes maximum\n",
    "    for i in range(lngth-1): # max value of i is lngth-2\n",
    "        val = \"{}\".format(quart[i]) + \"-\" + \"{}\".format(quart[i+1]-1)\n",
    "        give.append(val)\n",
    "    # label the maximum q[length(q)]\n",
    "    give.append(\"{}\".format(quart[lngth-1]))\n",
    "    # return a python list, which is better suited for labels\n",
    "    return np.array(give)\n"
   ]
  },
  {
   "cell_type": "markdown",
   "metadata": {},
   "source": [
    "In fact, to make plotting the grouped bar charts for the distribution easier, we'll have to define several useful functions. Each subsequent function depends on a previous function, but the end goal is to do all the work automatically."
   ]
  },
  {
   "cell_type": "code",
   "execution_count": 48,
   "metadata": {},
   "outputs": [],
   "source": [
    "# useful functions\n",
    "\n",
    "# if we have the array of quartiles, this counts the number of patients in each percentile class\n",
    "# min<= value < 25%, 25% <= value < 50%, ..., 75% <= value < 100%, then 100%\n",
    "def count_quart(quart, column):\n",
    "    \"\"\"expects a numpy array as quart\n",
    "    returns total count of all patients in each percentile class [a,b)U[max]\n",
    "    \"\"\"\n",
    "    arr = []\n",
    "    lngth = quart.shape[0]\n",
    "    for i in range(lngth-1): # max value of i is lngth-2\n",
    "        bounds = (quart[i], quart[i+1])\n",
    "        how_many = catg_count(\"{}\".format(column), \" >= {l} and {c}<{u} \".format(c=column,l=bounds[0],u=bounds[1]))\n",
    "        arr.append(how_many)\n",
    "    arr.append(catg_count(\"{}\".format(column), \"=={}\".format(quart[lngth-1])))\n",
    "    return np.array(arr)\n",
    "\n",
    "# this does almost the same thing as count_quart. All it changes is to add an extra condition - did the patient show up?\n",
    "# this the patient not show up? defining this function explicitly likely makes it clearer what subsequent functions are doing.\n",
    "def showed_quart(quart, column, showed_up):\n",
    "    \"\"\"expects a numpy array as quart\n",
    "    returns total count of all patients in each percentile class [a,b)U[max] who match the show/noshow condition\n",
    "    showed_up is y/n string\"\"\"\n",
    "    arr = []\n",
    "    lngth = quart.shape[0]\n",
    "    if showed_up == 'y':\n",
    "        schwarg = \"No\"\n",
    "    elif showed_up == 'n':\n",
    "        schwarg = \"Yes\"\n",
    "    for i in range(lngth-1): # max value of i is lngth-2\n",
    "        bounds = (quart[i], quart[i+1])\n",
    "        how_many = catg_count(\"{}\".format(column), \" >= {l} and {c}<{u} and no_show == '{sh}'\".format(c=column,l=bounds[0],u=bounds[1],sh=schwarg))\n",
    "        arr.append(how_many)\n",
    "    arr.append(catg_count(\"{}\".format(column), \"=={q} and no_show == '{sh}'\".format(q=quart[lngth-1],sh=schwarg)))\n",
    "    return np.array(arr)\n",
    "\n",
    "# this is a specialised function which returns an array of pairs, each of which is useful for the grouped bar chart\n",
    "def get_yarrs_to_plot(column,quart):\n",
    "    \"\"\"intended for plotting the bar graph. Just give the quartile array\"\"\"\n",
    "    yarr = []\n",
    "    total = count_quart(quart,column) # count how many total in the percentile group\n",
    "    if 0 in total:\n",
    "        temp = []\n",
    "        for item in total:\n",
    "            if item == 0:\n",
    "                temp.append(0.000001) # works for now\n",
    "            else:\n",
    "                temp.append(item)\n",
    "        total = np.array(temp)\n",
    "    prop_showed = 100*(showed_quart(quart,column,'y') / total)\n",
    "    prop_noshowed = 100*(showed_quart(quart,column,'n') / total)\n",
    "    n = quart.shape[0]\n",
    "    for i in range(n):\n",
    "        left = prop_showed[i]\n",
    "        right = prop_noshowed[i]\n",
    "        yarr.append(np.array([left,right]))\n",
    "    return np.array(yarr)\n"
   ]
  },
  {
   "cell_type": "markdown",
   "metadata": {},
   "source": [
    "Finally, let's define a modified version of the barplot generator we had earlier. This one's usage is specific to the quartile plots we'll be using."
   ]
  },
  {
   "cell_type": "code",
   "execution_count": 49,
   "metadata": {},
   "outputs": [],
   "source": [
    "# specific to the quartile plots\n",
    "\n",
    "def generate_barplotq(which_column, title, quarts, leg_labels):   \n",
    "    \"\"\"Receives np arrays as arguments\n",
    "    Use carefully. Args are arrays or strings\n",
    "    which_column relates to column i.e. variable we want to plot. it's a string, the proper name of the column\n",
    "    title is just the title as a string. will be converted to uppercase\n",
    "    categories is a list of the unique values in the column. Supplied as a parameter for easier customisation.\n",
    "    leg_labels refers to the quartile labels. a function exists for this. Make sure to sort!\n",
    "    They're for the legend.\n",
    "        [\"female\",\"male\"] or [\"scholarship\",\"no scholarship\"].\n",
    "        Do not confuse this with the actual column names.\n",
    "        \"\"\"\n",
    "    \n",
    "    ttl = title.upper()\n",
    "    # notice title is converted to uppercase\n",
    "    xlab = \"Did the patient show up for appointment?\"\n",
    "    ylab = \"Proportion of patients\"\n",
    "    xtlab = [\"Showed up\", \"Didn't show up\"] # xticks label\n",
    "    \n",
    "    \n",
    "    # this part plots the actual plot\n",
    "    \n",
    "    n = leg_labels.shape[0]\n",
    "    wd = 7/(8*n)\n",
    "    x_marks_list = [np.arange(2)+i*wd for i in range(n)] # generates a list of positions for the xticks\n",
    "    \n",
    "    # now we need corresponding yvalues. Once again, we assume that the number of sub-categories is specified by leg_labels the legend.\n",
    "    # it's also assumed that the legend-label is properly ordered\n",
    "    \n",
    "    # next step is to generate the appropriate y values for each category. Remember, we need just a pair (duple) for each sub_cat\n",
    "    y_vals = get_yarrs_to_plot(which_column, quarts)\n",
    "    \n",
    "    # it's assumed that x_marks_list and sub_cats are the same length\n",
    "    for i in range(n):\n",
    "        plt.bar(x_marks_list[i],y_vals[i],width=wd,label=leg_labels[i])\n",
    "    \n",
    "    # label the plot\n",
    "    plt.title(ttl,fontsize=10)\n",
    "    plt.xlabel(xlab)\n",
    "    plt.ylabel(ylab)\n",
    "    \n",
    "    label_position = 0.5*(x_marks_list[0] + x_marks_list[-1]) # this is an array object. midpoinit of laargest and smallest x_marks\n",
    "    plt.xticks(label_position, xtlab)\n",
    "    \n",
    "    plt.ylim([0,100])\n",
    "    plt.legend()\n",
    "    "
   ]
  },
  {
   "cell_type": "markdown",
   "metadata": {},
   "source": [
    "Finally, we can plot the grouped bar chart."
   ]
  },
  {
   "cell_type": "code",
   "execution_count": 50,
   "metadata": {},
   "outputs": [
    {
     "data": {
      "text/plain": [
       "[]"
      ]
     },
     "execution_count": 50,
     "metadata": {},
     "output_type": "execute_result"
    },
    {
     "data": {
      "image/png": "[encoded data removed]",
      "text/plain": [
       "<matplotlib.figure.Figure at 0x7fa79e621048>"
      ]
     },
     "metadata": {
      "needs_background": "light"
     },
     "output_type": "display_data"
    }
   ],
   "source": [
    "# plot the plot for age\n",
    "\n",
    "age_title = \"age distribution of patients\"\n",
    "age_quarts = get_quarts(\"age\")\n",
    "age_quarts = np.array(list(map(lambda x:int(x), age_quarts))) # convert to integers\n",
    "age_labels = get_quartlabels(age_quarts)\n",
    "\n",
    "generate_barplotq(\"age\",age_title,age_quarts,age_labels)\n",
    "plt.plot()"
   ]
  },
  {
   "cell_type": "markdown",
   "metadata": {},
   "source": [
    "There's a roughly linear trend with respect to the age of the patients and their tendency to have shown up. As the grouped bar chart shows, those patients who were older (36 years or more) were likelier to have shown up. The trend is broken by the extreme age groups - the relatively young (0-17) and the rather old (115)."
   ]
  },
  {
   "cell_type": "markdown",
   "metadata": {},
   "source": [
    "### Research Question 6 - Is there a correlation relating the number of days between schedule and appointment, to whether the patient showed up?"
   ]
  },
  {
   "cell_type": "markdown",
   "metadata": {},
   "source": [
    "We'll address this question like how we addressed the question of age. We will group the number of days into quartile distributions, then count how many members within each number-of-days distribution then plot the values proportionally.\n",
    "However, because of the way the data is distributed (the minimum and the 25th percentile are both 0), we'll need to adjust how we label a bit.\n"
   ]
  },
  {
   "cell_type": "code",
   "execution_count": 51,
   "metadata": {},
   "outputs": [
    {
     "data": {
      "text/plain": [
       "[]"
      ]
     },
     "execution_count": 51,
     "metadata": {},
     "output_type": "execute_result"
    },
    {
     "data": {
      "image/png": "[encoded data removed]",
      "text/plain": [
       "<matplotlib.figure.Figure at 0x7fa79e5485c0>"
      ]
     },
     "metadata": {
      "needs_background": "light"
     },
     "output_type": "display_data"
    }
   ],
   "source": [
    "# plot the plot for days\n",
    "\n",
    "days_title = \"number of days to appointment for patients\"\n",
    "days_quarts = get_quarts(\"days\")\n",
    "days_quarts = np.array(list(map(lambda x:int(x), days_quarts))) # convert to integers\n",
    "days_labels = [get_quartlabels(days_quarts)[i] for i in range(1,days_quarts.shape[0])] # the first label is not useful.\n",
    "days_labels = [\"\"] + days_labels # use an empty string for the first label.\n",
    "days_labels = np.array(days_labels) # convert to array object.\n",
    "\n",
    "generate_barplotq(\"days\",days_title,days_quarts,days_labels)\n",
    "plt.plot()"
   ]
  },
  {
   "cell_type": "markdown",
   "metadata": {},
   "source": [
    "The first column is empty because of the way the data is distributed, and how the quartile-handling functions work. However, this isn't a problem because all of the patients are accounted for, as evidenced by the combined height of the bars for a given colour on both sides.\n",
    "\n",
    "The trend here is also clear. Patients who had 0-3 days till their appointment had an overwhelming tendency to successfully make their appointments. In contrast, those who had 4-14 days were less likely to show up, and those who had 15-178 days were even less likely to show up. Surprisingly, the few who had exactly 179 days till their appointment were not the least likely to show up, given their category.\n",
    "\n",
    "This concludes the exploratory stage of our data analysis."
   ]
  },
  {
   "cell_type": "markdown",
   "metadata": {},
   "source": [
    "<a id='conclusions'></a>\n",
    "## Conclusions\n",
    "In our investigation, we found that the patients who had the most obvious tendency to complete their appointment were...\n",
    "- Those who had fewer days to appointment (0-3) days\n",
    "- Those were 37 years or older\n",
    "- Those diagnosed with one or more conditions\n",
    "\n",
    "In contrast to that, the following groups of patients had a tendency to miss their appointments:\n",
    "- Those who had more days to appointment (4 days or more)\n",
    "- Those who were younger than 37\n",
    "- Those diagnosed with no conditions\n",
    "\n",
    "We also found counterintuitively that patients who had scholarship had a noticeable tendency to miss their appointments, as did patients who received an SMS notification about the appointment. In fact, those who weren't on the welfare program/scholarship and who didn't receive an SMS notification had more tendency to show up for their appointments. This suggests that there is perhaps a hidden variable connecting these groups of patients together. There may be some factor we haven't accounted for, which relates to those parameters. I can only guess that it's economic factors at play. If additional research can be done for the average income of each patient, then that could confirm our suspicions.\n",
    "\n",
    "We found no strong correlation between gender and the likelihood of missing an appointment. There was a slight skew for both genders, but it was fairly small."
   ]
  },
  {
   "cell_type": "markdown",
   "metadata": {},
   "source": [
    "<a id='limitations'></a>\n",
    "## Limitations\n",
    "\n",
    "As stated previously, we made several assumptions and heuristics when exploring the data.\n",
    "We ignored the specific nature or subjective severity of each diagnosis when combining all the diagnoses into one column. We did this because we assumed that patients with more diagnoses had a tendency to show up. While the data confirms it, it would still be useful to know which conditions most strongly influenced that tendency.\n",
    "\n",
    "We also didn't have much information on the exact hour of the appointments. It's possible that such information could have a noticeable effect on the tendency of patients to show up or miss their appointments. For example, out of all those who missed their appointments, what time of the day were their appointments scheduled to hold? Some times of the day are more convenient than others, such as 9AM versus 6AM, or 12PM versus 12AM.\n",
    "\n",
    "That concludes our investigation."
   ]
  },
  {
   "cell_type": "code",
   "execution_count": 52,
   "metadata": {},
   "outputs": [
    {
     "data": {
      "text/plain": [
       "0"
      ]
     },
     "execution_count": 52,
     "metadata": {},
     "output_type": "execute_result"
    }
   ],
   "source": [
    "# to generate html file\n",
    "\n",
    "from subprocess import call\n",
    "call(['python', '-m', 'nbconvert', 'Investigate_a_Dataset.ipynb'])"
   ]
  }
 ],
 "metadata": {
  "kernelspec": {
   "display_name": "Python 3",
   "language": "python",
   "name": "python3"
  },
  "language_info": {
   "codemirror_mode": {
    "name": "ipython",
    "version": 3
   },
   "file_extension": ".py",
   "mimetype": "text/x-python",
   "name": "python",
   "nbconvert_exporter": "python",
   "pygments_lexer": "ipython3",
   "version": "3.6.3"
  }
 },
 "nbformat": 4,
 "nbformat_minor": 2
}
