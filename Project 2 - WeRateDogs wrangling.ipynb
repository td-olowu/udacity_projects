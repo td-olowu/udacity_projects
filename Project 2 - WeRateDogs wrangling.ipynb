{
 "cells": [
  {
   "cell_type": "markdown",
   "metadata": {
    "extensions": {
     "jupyter_dashboards": {
      "version": 1,
      "views": {
       "grid_default": {
        "col": 0,
        "height": 4,
        "hidden": false,
        "row": 0,
        "width": 4
       },
       "report_default": {
        "hidden": false
       }
      }
     }
    }
   },
   "source": [
    "# Project: Wrangling and Analyze Data"
   ]
  },
  {
   "cell_type": "markdown",
   "metadata": {},
   "source": [
    "## Data Gathering\n",
    "First we import all necessary Python modules and libraries..."
   ]
  },
  {
   "cell_type": "code",
   "execution_count": 1,
   "metadata": {},
   "outputs": [],
   "source": [
    "# importing useful modules\n",
    "import json\n",
    "import matplotlib.pyplot as plt\n",
    "import numpy as np\n",
    "import os\n",
    "import pandas as pd\n",
    "import re\n",
    "import requests\n",
    "from zipfile import ZipFile # for backing up the relevant files\n",
    "\n",
    "% matplotlib inline"
   ]
  },
  {
   "cell_type": "markdown",
   "metadata": {},
   "source": [
    "Next we will load the necessary data for this project. In order, these are...\n",
    "- The WeRateDogs Enhanced Twitter Archive \"twitter-archive-enhanced.csv\" for basic tweet information.\n",
    "This will contain the basic information for our analysis.\n",
    "- The Image Prediction Library. \n",
    "- Data from the twitter API."
   ]
  },
  {
   "cell_type": "markdown",
   "metadata": {},
   "source": [
    "### Downloading the WeRateDogs Enhanced Twitter Archive"
   ]
  },
  {
   "cell_type": "code",
   "execution_count": 2,
   "metadata": {
    "extensions": {
     "jupyter_dashboards": {
      "version": 1,
      "views": {
       "grid_default": {
        "hidden": true
       },
       "report_default": {
        "hidden": true
       }
      }
     }
    }
   },
   "outputs": [],
   "source": [
    "# downloading the WeRateDogs Twitter archive data.\n",
    "df_twitenh = pd.read_csv(\"twitter-archive-enhanced.csv\")"
   ]
  },
  {
   "cell_type": "markdown",
   "metadata": {},
   "source": [
    "### Downloading the Image Predictions Library\n",
    "We'll use the Requests library to download the tweet image prediction file, then convert it to a pandas dataframe object (image_predictions.tsv)."
   ]
  },
  {
   "cell_type": "code",
   "execution_count": 3,
   "metadata": {},
   "outputs": [],
   "source": [
    "# downloading the image prediction library programmatically\n",
    "imgurl = \"https://d17h27t6h515a5.cloudfront.net/topher/2017/August/599fd2ad_image-predictions/image-predictions.tsv\"\n",
    "img_pre = requests.get(imgurl)"
   ]
  },
  {
   "cell_type": "code",
   "execution_count": 4,
   "metadata": {},
   "outputs": [],
   "source": [
    "# creating a dataframe from the image predictions\n",
    "with open(\"image_predictions.tsv\", \"wb\") as file:\n",
    "    file.write(img_pre.content)\n",
    "\n",
    "df_imgpre = pd.read_csv(\"image_predictions.tsv\", sep=\"\\t\")"
   ]
  },
  {
   "cell_type": "markdown",
   "metadata": {},
   "source": [
    "### Downloading the additional tweet data\n",
    "Here, I used the tweet-json.txt file provided by Udacity.\n",
    "We'll read the file then construct a pandas DataFrame object from it."
   ]
  },
  {
   "cell_type": "code",
   "execution_count": 5,
   "metadata": {},
   "outputs": [],
   "source": [
    "# reading tweet_json.txt\n",
    "with open(\"tweet-json.txt\") as file:\n",
    "    tweet_json = tuple(file.readlines()) # I've been told tuples are faster to search"
   ]
  },
  {
   "cell_type": "code",
   "execution_count": 6,
   "metadata": {},
   "outputs": [],
   "source": [
    "# create a dataframe object from tweet_json\n",
    "dcts = []\n",
    "for line in tweet_json:\n",
    "    dcts.append(json.loads(line))\n",
    "df_twitxtra = pd.DataFrame(dcts)"
   ]
  },
  {
   "cell_type": "markdown",
   "metadata": {},
   "source": [
    "We'll have to modify this dataframe if we want to use it. We'll select only the \"id\", \"id_str\", \"retweet_count\", \"favorite_count\", \"retweeted_status\" and \"quoted_status\" columns.\n",
    "- The \"id\" column is the unique id of the tweet as an integer.\n",
    "- The \"id_str\" column is the id represented as a string. According to [this post](https://developer.twitter.com/en/docs/twitter-api/v1/data-dictionary/object-model/tweet), it's safer to use the id_str than the id so we'll keep it just for further assessment.\n",
    "- The \"retweet_count\" counts the number of retweets that the given tweet in question got.\n",
    "- The \"favorite_count\" counts the number of likes that the given tweet got.\n",
    "- The \"retweeted_status\" attribute only appears if the given tweet object is a retweet of something else. If the given tweet is not a retweet, the attribute is NaN. Otherwise, the value of the attribute is a representation of the original tweet i.e. the \"parent\", the one that was retweeted.\n",
    "- The \"quoted_status\" attribute only appears if the given tweet object is a quote tweet. Otherwise it is null.\n",
    "\n",
    "It's important to note that a tweet can't be both a retweet and a quote tweet.\n",
    "The aforementioned columns will be enough to help us with subsequent analyses."
   ]
  },
  {
   "cell_type": "code",
   "execution_count": 7,
   "metadata": {},
   "outputs": [],
   "source": [
    "# select only what we want\n",
    "cols = (\"id\", \"id_str\", \"retweet_count\", \"favorite_count\", \"retweeted_status\", \"quoted_status\")\n",
    "df_twitxtra = df_twitxtra.loc[:,cols].copy()"
   ]
  },
  {
   "cell_type": "markdown",
   "metadata": {
    "extensions": {
     "jupyter_dashboards": {
      "version": 1,
      "views": {
       "grid_default": {
        "col": 4,
        "height": 4,
        "hidden": false,
        "row": 28,
        "width": 4
       },
       "report_default": {
        "hidden": false
       }
      }
     }
    }
   },
   "source": [
    "## Assessing Data\n",
    "We'll inspect the Enhanced Twitter Archive, Extra Tweet information and Image Predictions dataframes in order. It first helps to get a very broad, bird's eye overview of the dataframes. We'll first check if all three dataframes have the same number of rows. If they don't, this suggests missing values."
   ]
  },
  {
   "cell_type": "code",
   "execution_count": 8,
   "metadata": {},
   "outputs": [
    {
     "name": "stdout",
     "output_type": "stream",
     "text": [
      "The tables don't have the same number of rows.\n",
      "Enhanced Twitter Archive has 2356 rows\n",
      "Extra Twitter Archive has 2354 rows\n",
      "Image Prediction Dataframe has 2075 rows\n"
     ]
    }
   ],
   "source": [
    "# check if all three tables have the same number of rows\n",
    "condition = (df_twitenh.shape[0] == df_twitxtra.shape[0]) == df_imgpre.shape[0]\n",
    "if condition:\n",
    "    print(\"The tables have the same number of rows.\")\n",
    "    print(df_twitenh.shape[0], \"rows.\") # since they'll have the same number of rows.\n",
    "elif not condition:\n",
    "    print(\"The tables don't have the same number of rows.\")\n",
    "    print(\"Enhanced Twitter Archive has\", df_twitenh.shape[0], \"rows\")\n",
    "    print(\"Extra Twitter Archive has\", df_twitxtra.shape[0], \"rows\")\n",
    "    print(\"Image Prediction Dataframe has\", df_imgpre.shape[0], \"rows\")"
   ]
  },
  {
   "cell_type": "markdown",
   "metadata": {},
   "source": [
    "Because the Enhanced Twitter Archive and Extra Twitter Archive (tweet-json) don't have the name number of rows, there are likely values missing from the Extra Twitter Archive.\n",
    "If we're lucky, the discrepancy could be due to one table having duplicate values (hence both have the same set of rows but one duplicates some rows).\n",
    "If we're not so lucky, then the Enhanced Twitter Archive simply has more information than the Extra Twitter/tweet-json table.\n",
    "The difference isn't much but it's worth pointing out.\n",
    "\n",
    "Another issue is that the Image Predictions table has far fewer rows than the other two.\n",
    "If we're lucky then perhaps all tables have the same set of rows but the difference in number is due to duplication.\n",
    "If we're not lucky then there are rows which the Image Predictions dataframe/table lacks, which is a missing-values problem.\n",
    "\n",
    "The next step is to examine the columns."
   ]
  },
  {
   "cell_type": "code",
   "execution_count": 9,
   "metadata": {},
   "outputs": [
    {
     "data": {
      "text/plain": [
       "Index(['tweet_id', 'in_reply_to_status_id', 'in_reply_to_user_id', 'timestamp',\n",
       "       'source', 'text', 'retweeted_status_id', 'retweeted_status_user_id',\n",
       "       'retweeted_status_timestamp', 'expanded_urls', 'rating_numerator',\n",
       "       'rating_denominator', 'name', 'doggo', 'floofer', 'pupper', 'puppo'],\n",
       "      dtype='object')"
      ]
     },
     "execution_count": 9,
     "metadata": {},
     "output_type": "execute_result"
    }
   ],
   "source": [
    "# what columns does the enhanced archive have?\n",
    "df_twitenh.columns"
   ]
  },
  {
   "cell_type": "markdown",
   "metadata": {},
   "source": [
    "It seems there are too many columns in the Enhanced Twitter Archive - all the dog stages \"doggo\", \"floofer\", etc. should be in a single column."
   ]
  },
  {
   "cell_type": "code",
   "execution_count": 10,
   "metadata": {},
   "outputs": [
    {
     "data": {
      "text/plain": [
       "Index(['id', 'id_str', 'retweet_count', 'favorite_count', 'retweeted_status',\n",
       "       'quoted_status'],\n",
       "      dtype='object')"
      ]
     },
     "execution_count": 10,
     "metadata": {},
     "output_type": "execute_result"
    }
   ],
   "source": [
    "# what columns does the extra tweet info dataframe have?\n",
    "df_twitxtra.columns"
   ]
  },
  {
   "cell_type": "markdown",
   "metadata": {},
   "source": [
    "By design, the Extra Twitter dataframe contains exactly what we need. However, the fact that the information is in a table separate from other tweet metadata suggests a structural issue.\n",
    "\n",
    "Next, we take an overview of the image-predictions dataframe."
   ]
  },
  {
   "cell_type": "code",
   "execution_count": 11,
   "metadata": {},
   "outputs": [
    {
     "data": {
      "text/plain": [
       "Index(['tweet_id', 'jpg_url', 'img_num', 'p1', 'p1_conf', 'p1_dog', 'p2',\n",
       "       'p2_conf', 'p2_dog', 'p3', 'p3_conf', 'p3_dog'],\n",
       "      dtype='object')"
      ]
     },
     "execution_count": 11,
     "metadata": {},
     "output_type": "execute_result"
    }
   ],
   "source": [
    "# what columns are in the image predictions table?\n",
    "df_imgpre.columns"
   ]
  },
  {
   "cell_type": "markdown",
   "metadata": {},
   "source": [
    "Just like before, the (important) information provided here shouldn't be in a separate table. We could use fewer tables overall.\n",
    "\n",
    "Let's now find out a bit more about each column in the dataframes - number of rows, types, etc."
   ]
  },
  {
   "cell_type": "code",
   "execution_count": 12,
   "metadata": {},
   "outputs": [
    {
     "name": "stdout",
     "output_type": "stream",
     "text": [
      "<class 'pandas.core.frame.DataFrame'>\n",
      "RangeIndex: 2356 entries, 0 to 2355\n",
      "Data columns (total 17 columns):\n",
      "tweet_id                      2356 non-null int64\n",
      "in_reply_to_status_id         78 non-null float64\n",
      "in_reply_to_user_id           78 non-null float64\n",
      "timestamp                     2356 non-null object\n",
      "source                        2356 non-null object\n",
      "text                          2356 non-null object\n",
      "retweeted_status_id           181 non-null float64\n",
      "retweeted_status_user_id      181 non-null float64\n",
      "retweeted_status_timestamp    181 non-null object\n",
      "expanded_urls                 2297 non-null object\n",
      "rating_numerator              2356 non-null int64\n",
      "rating_denominator            2356 non-null int64\n",
      "name                          2356 non-null object\n",
      "doggo                         2356 non-null object\n",
      "floofer                       2356 non-null object\n",
      "pupper                        2356 non-null object\n",
      "puppo                         2356 non-null object\n",
      "dtypes: float64(4), int64(3), object(10)\n",
      "memory usage: 313.0+ KB\n"
     ]
    }
   ],
   "source": [
    "# an overview of the extra twitter information\n",
    "df_twitenh.info()"
   ]
  },
  {
   "cell_type": "markdown",
   "metadata": {},
   "source": [
    "The first issue noticed is that the timestamp is not a dtime object but a string object.\n",
    "\n",
    "Next, the dataset contains retweets. The reason is because the \"retweeted_status_id\" column has 181 non-null values, which means 181 retweets.\n",
    "It also contains tweets that are replies, as indicated by the non-null \"in_reply_to_status_id\" and \"in_reply_to_user_id\" values."
   ]
  },
  {
   "cell_type": "markdown",
   "metadata": {},
   "source": [
    "Earlier we saw that the three dataframes didn't have the same number of rows.\n",
    "Even so, we hoped that they all had the same set of data and the discrepancy was due to some tables having duplicate rows. Let's see if there are any duplicate rows present."
   ]
  },
  {
   "cell_type": "code",
   "execution_count": 13,
   "metadata": {},
   "outputs": [
    {
     "name": "stdout",
     "output_type": "stream",
     "text": [
      "There are 0 duplicates here.\n"
     ]
    }
   ],
   "source": [
    "# How many duplicated rows are there?\n",
    "print(\"There are\", sum(df_twitenh.duplicated()), \"duplicates here.\")"
   ]
  },
  {
   "cell_type": "markdown",
   "metadata": {},
   "source": [
    "Now we're sure that the discrepancy is due to the smaller tables having missing values.\n",
    "Now let's assess the Extra Twitter/tweet-json dataframe."
   ]
  },
  {
   "cell_type": "code",
   "execution_count": 14,
   "metadata": {},
   "outputs": [
    {
     "name": "stdout",
     "output_type": "stream",
     "text": [
      "<class 'pandas.core.frame.DataFrame'>\n",
      "RangeIndex: 2354 entries, 0 to 2353\n",
      "Data columns (total 6 columns):\n",
      "id                  2354 non-null int64\n",
      "id_str              2354 non-null object\n",
      "retweet_count       2354 non-null int64\n",
      "favorite_count      2354 non-null int64\n",
      "retweeted_status    179 non-null object\n",
      "quoted_status       28 non-null object\n",
      "dtypes: int64(3), object(3)\n",
      "memory usage: 110.4+ KB\n"
     ]
    }
   ],
   "source": [
    "# birds eye view\n",
    "df_twitxtra.info()"
   ]
  },
  {
   "cell_type": "markdown",
   "metadata": {},
   "source": [
    "From this overview, the above dataset seems fairly clean. There are no missing values in any of the columns except for retweeted_status and quoted_status but that's not a problem since the missing values in that case are meaningful. It just means that the tweet in question is not a retweet, or quote tweet respectively.\n",
    "\n",
    "This means that the table has exactly 179 tweets that are retweets. This is different from the number of retweets in the Enhanced Twitter Archive, suggesting even more discrepancy between the dataframes. It also has 28 quote tweets present.\n",
    "\n",
    "Let's count the number of duplicated rows."
   ]
  },
  {
   "cell_type": "code",
   "execution_count": 15,
   "metadata": {},
   "outputs": [
    {
     "name": "stdout",
     "output_type": "stream",
     "text": [
      "There are 0 duplicates here.\n"
     ]
    }
   ],
   "source": [
    "# how many duplicated rows are there?\n",
    "dpl = sum(df_twitxtra.loc[:,\"id\":\"favorite_count\"].duplicated())\n",
    "print(\"There are\", dpl, \"duplicates here.\")"
   ]
  },
  {
   "cell_type": "markdown",
   "metadata": {},
   "source": [
    "There are no duplicated rows here, meaning that any discrepancy in the number of rows between the tables is due to missing values in the smaller tables.\n",
    "\n",
    "However, this assessment doesn't check another form of duplication, which is retweets. Even retweets have unique ID's, so simply comparing rows won't tell us if one row is a retweet or not.\n",
    "\n",
    "The next thing is to see if the id and id_str columns match."
   ]
  },
  {
   "cell_type": "code",
   "execution_count": 16,
   "metadata": {},
   "outputs": [],
   "source": [
    "# zip the relevant columns\n",
    "# this creates something similar to a 'list' of tuples of the form (id,id_str)\n",
    "z = zip(df_twitxtra['id'], pd.to_numeric(df_twitxtra['id_str']))"
   ]
  },
  {
   "cell_type": "code",
   "execution_count": 17,
   "metadata": {},
   "outputs": [
    {
     "name": "stdout",
     "output_type": "stream",
     "text": [
      "Test passed. All ids match id string.\n"
     ]
    }
   ],
   "source": [
    "# do they match?\n",
    "passed = True\n",
    "for pair in tuple(z):\n",
    "    tweet_id = pair[0]\n",
    "    tweet_idstr = pair[1]\n",
    "    if tweet_id!=tweet_idstr:\n",
    "        print(f\"Test failed, id {tweet_id} doesn't match id_str {tweet_idstr}.\")\n",
    "        passed = False\n",
    "        break\n",
    "if passed:\n",
    "    print(\"Test passed. All ids match id string.\")"
   ]
  },
  {
   "cell_type": "markdown",
   "metadata": {},
   "source": [
    "Finally, let's look at the image predictions dataframe."
   ]
  },
  {
   "cell_type": "code",
   "execution_count": 18,
   "metadata": {},
   "outputs": [
    {
     "name": "stdout",
     "output_type": "stream",
     "text": [
      "<class 'pandas.core.frame.DataFrame'>\n",
      "RangeIndex: 2075 entries, 0 to 2074\n",
      "Data columns (total 12 columns):\n",
      "tweet_id    2075 non-null int64\n",
      "jpg_url     2075 non-null object\n",
      "img_num     2075 non-null int64\n",
      "p1          2075 non-null object\n",
      "p1_conf     2075 non-null float64\n",
      "p1_dog      2075 non-null bool\n",
      "p2          2075 non-null object\n",
      "p2_conf     2075 non-null float64\n",
      "p2_dog      2075 non-null bool\n",
      "p3          2075 non-null object\n",
      "p3_conf     2075 non-null float64\n",
      "p3_dog      2075 non-null bool\n",
      "dtypes: bool(3), float64(3), int64(2), object(4)\n",
      "memory usage: 152.1+ KB\n"
     ]
    }
   ],
   "source": [
    "# what's the image-predictions table like?\n",
    "df_imgpre.info()"
   ]
  },
  {
   "cell_type": "markdown",
   "metadata": {},
   "source": [
    "That one seems to be complete. There are 2075 rows and each column has 2075 non-null observations. But are some rows duplicates?"
   ]
  },
  {
   "cell_type": "code",
   "execution_count": 19,
   "metadata": {},
   "outputs": [
    {
     "name": "stdout",
     "output_type": "stream",
     "text": [
      "There are 0 duplicates here.\n"
     ]
    }
   ],
   "source": [
    "# how many duplicates in the image-predictions table?\n",
    "print(\"There are\", sum(df_imgpre.duplicated()), \"duplicates here.\")"
   ]
  },
  {
   "cell_type": "markdown",
   "metadata": {},
   "source": [
    "That seems to be the cleanest table we have, although it's too early to judge.\n",
    "Let's see if the tweet ID's are unique..."
   ]
  },
  {
   "cell_type": "code",
   "execution_count": 20,
   "metadata": {},
   "outputs": [
    {
     "name": "stdout",
     "output_type": "stream",
     "text": [
      "Tweet ID's are unique.\n"
     ]
    }
   ],
   "source": [
    "# just to see if all tweet ids are unique. Move this to assessment stage.\n",
    "if len(df_imgpre['tweet_id'].unique())==df_imgpre.shape[0]:\n",
    "    print(\"Tweet ID's are unique.\")"
   ]
  },
  {
   "cell_type": "markdown",
   "metadata": {},
   "source": [
    "Now, let's get a closer visual overview of each dataframe. We'll inspect ten random rows from each, to get a sense of how the data is structured. This may clutter the notebook, but it's a reasonable number."
   ]
  },
  {
   "cell_type": "markdown",
   "metadata": {},
   "source": [
    "#### Assessing the Enhanced Twitter Archive dataframe in detail..."
   ]
  },
  {
   "cell_type": "code",
   "execution_count": 21,
   "metadata": {},
   "outputs": [
    {
     "data": {
      "text/html": [
       "<div>\n",
       "<style scoped>\n",
       "    .dataframe tbody tr th:only-of-type {\n",
       "        vertical-align: middle;\n",
       "    }\n",
       "\n",
       "    .dataframe tbody tr th {\n",
       "        vertical-align: top;\n",
       "    }\n",
       "\n",
       "    .dataframe thead th {\n",
       "        text-align: right;\n",
       "    }\n",
       "</style>\n",
       "<table border=\"1\" class=\"dataframe\">\n",
       "  <thead>\n",
       "    <tr style=\"text-align: right;\">\n",
       "      <th></th>\n",
       "      <th>tweet_id</th>\n",
       "      <th>in_reply_to_status_id</th>\n",
       "      <th>in_reply_to_user_id</th>\n",
       "      <th>timestamp</th>\n",
       "      <th>source</th>\n",
       "      <th>text</th>\n",
       "      <th>retweeted_status_id</th>\n",
       "      <th>retweeted_status_user_id</th>\n",
       "      <th>retweeted_status_timestamp</th>\n",
       "      <th>expanded_urls</th>\n",
       "      <th>rating_numerator</th>\n",
       "      <th>rating_denominator</th>\n",
       "      <th>name</th>\n",
       "      <th>doggo</th>\n",
       "      <th>floofer</th>\n",
       "      <th>pupper</th>\n",
       "      <th>puppo</th>\n",
       "    </tr>\n",
       "  </thead>\n",
       "  <tbody>\n",
       "    <tr>\n",
       "      <th>194</th>\n",
       "      <td>855245323840757760</td>\n",
       "      <td>NaN</td>\n",
       "      <td>NaN</td>\n",
       "      <td>2017-04-21 02:22:29 +0000</td>\n",
       "      <td>&lt;a href=\"http://twitter.com/download/iphone\" r...</td>\n",
       "      <td>RT @dog_rates: Meet George. He looks slightly ...</td>\n",
       "      <td>8.421635e+17</td>\n",
       "      <td>4.196984e+09</td>\n",
       "      <td>2017-03-16 00:00:07 +0000</td>\n",
       "      <td>https://twitter.com/dog_rates/status/842163532...</td>\n",
       "      <td>12</td>\n",
       "      <td>10</td>\n",
       "      <td>George</td>\n",
       "      <td>None</td>\n",
       "      <td>None</td>\n",
       "      <td>None</td>\n",
       "      <td>None</td>\n",
       "    </tr>\n",
       "    <tr>\n",
       "      <th>34</th>\n",
       "      <td>885528943205470208</td>\n",
       "      <td>NaN</td>\n",
       "      <td>NaN</td>\n",
       "      <td>2017-07-13 15:58:47 +0000</td>\n",
       "      <td>&lt;a href=\"http://twitter.com/download/iphone\" r...</td>\n",
       "      <td>This is Maisey. She fell asleep mid-excavation...</td>\n",
       "      <td>NaN</td>\n",
       "      <td>NaN</td>\n",
       "      <td>NaN</td>\n",
       "      <td>https://twitter.com/dog_rates/status/885528943...</td>\n",
       "      <td>13</td>\n",
       "      <td>10</td>\n",
       "      <td>Maisey</td>\n",
       "      <td>None</td>\n",
       "      <td>None</td>\n",
       "      <td>None</td>\n",
       "      <td>None</td>\n",
       "    </tr>\n",
       "    <tr>\n",
       "      <th>927</th>\n",
       "      <td>754856583969079297</td>\n",
       "      <td>NaN</td>\n",
       "      <td>NaN</td>\n",
       "      <td>2016-07-18 01:53:28 +0000</td>\n",
       "      <td>&lt;a href=\"http://twitter.com/download/iphone\" r...</td>\n",
       "      <td>This is Winnie. She's not a fan of the fast mo...</td>\n",
       "      <td>NaN</td>\n",
       "      <td>NaN</td>\n",
       "      <td>NaN</td>\n",
       "      <td>https://twitter.com/dog_rates/status/754856583...</td>\n",
       "      <td>11</td>\n",
       "      <td>10</td>\n",
       "      <td>Winnie</td>\n",
       "      <td>None</td>\n",
       "      <td>None</td>\n",
       "      <td>None</td>\n",
       "      <td>None</td>\n",
       "    </tr>\n",
       "    <tr>\n",
       "      <th>660</th>\n",
       "      <td>791312159183634433</td>\n",
       "      <td>NaN</td>\n",
       "      <td>NaN</td>\n",
       "      <td>2016-10-26 16:14:55 +0000</td>\n",
       "      <td>&lt;a href=\"http://twitter.com/download/iphone\" r...</td>\n",
       "      <td>This is Mabel. She's super h*ckin smol. Portab...</td>\n",
       "      <td>NaN</td>\n",
       "      <td>NaN</td>\n",
       "      <td>NaN</td>\n",
       "      <td>https://twitter.com/dog_rates/status/791312159...</td>\n",
       "      <td>12</td>\n",
       "      <td>10</td>\n",
       "      <td>Mabel</td>\n",
       "      <td>None</td>\n",
       "      <td>None</td>\n",
       "      <td>None</td>\n",
       "      <td>None</td>\n",
       "    </tr>\n",
       "    <tr>\n",
       "      <th>1354</th>\n",
       "      <td>703631701117943808</td>\n",
       "      <td>NaN</td>\n",
       "      <td>NaN</td>\n",
       "      <td>2016-02-27 17:24:05 +0000</td>\n",
       "      <td>&lt;a href=\"http://twitter.com/download/iphone\" r...</td>\n",
       "      <td>This is Bella. Based on this picture she's at ...</td>\n",
       "      <td>NaN</td>\n",
       "      <td>NaN</td>\n",
       "      <td>NaN</td>\n",
       "      <td>https://twitter.com/dog_rates/status/703631701...</td>\n",
       "      <td>11</td>\n",
       "      <td>10</td>\n",
       "      <td>Bella</td>\n",
       "      <td>None</td>\n",
       "      <td>None</td>\n",
       "      <td>None</td>\n",
       "      <td>None</td>\n",
       "    </tr>\n",
       "    <tr>\n",
       "      <th>1695</th>\n",
       "      <td>681261549936340994</td>\n",
       "      <td>NaN</td>\n",
       "      <td>NaN</td>\n",
       "      <td>2015-12-27 23:53:05 +0000</td>\n",
       "      <td>&lt;a href=\"http://twitter.com/download/iphone\" r...</td>\n",
       "      <td>Say hello to Panda. He's a Quackadilly Shooste...</td>\n",
       "      <td>NaN</td>\n",
       "      <td>NaN</td>\n",
       "      <td>NaN</td>\n",
       "      <td>https://twitter.com/dog_rates/status/681261549...</td>\n",
       "      <td>9</td>\n",
       "      <td>10</td>\n",
       "      <td>Panda</td>\n",
       "      <td>None</td>\n",
       "      <td>None</td>\n",
       "      <td>None</td>\n",
       "      <td>None</td>\n",
       "    </tr>\n",
       "    <tr>\n",
       "      <th>1005</th>\n",
       "      <td>747651430853525504</td>\n",
       "      <td>7.476487e+17</td>\n",
       "      <td>4.196984e+09</td>\n",
       "      <td>2016-06-28 04:42:46 +0000</td>\n",
       "      <td>&lt;a href=\"http://twitter.com/download/iphone\" r...</td>\n",
       "      <td>Other pupper asked not to have his identity sh...</td>\n",
       "      <td>NaN</td>\n",
       "      <td>NaN</td>\n",
       "      <td>NaN</td>\n",
       "      <td>NaN</td>\n",
       "      <td>12</td>\n",
       "      <td>10</td>\n",
       "      <td>None</td>\n",
       "      <td>None</td>\n",
       "      <td>None</td>\n",
       "      <td>pupper</td>\n",
       "      <td>None</td>\n",
       "    </tr>\n",
       "    <tr>\n",
       "      <th>1077</th>\n",
       "      <td>739544079319588864</td>\n",
       "      <td>NaN</td>\n",
       "      <td>NaN</td>\n",
       "      <td>2016-06-05 19:47:03 +0000</td>\n",
       "      <td>&lt;a href=\"http://twitter.com/download/iphone\" r...</td>\n",
       "      <td>This... is a Tyrannosaurus rex. We only rate d...</td>\n",
       "      <td>NaN</td>\n",
       "      <td>NaN</td>\n",
       "      <td>NaN</td>\n",
       "      <td>https://twitter.com/dog_rates/status/739544079...</td>\n",
       "      <td>10</td>\n",
       "      <td>10</td>\n",
       "      <td>None</td>\n",
       "      <td>None</td>\n",
       "      <td>None</td>\n",
       "      <td>None</td>\n",
       "      <td>None</td>\n",
       "    </tr>\n",
       "    <tr>\n",
       "      <th>2323</th>\n",
       "      <td>666428276349472768</td>\n",
       "      <td>NaN</td>\n",
       "      <td>NaN</td>\n",
       "      <td>2015-11-17 01:30:57 +0000</td>\n",
       "      <td>&lt;a href=\"http://twitter.com/download/iphone\" r...</td>\n",
       "      <td>Here we have an Austrian Pulitzer. Collectors ...</td>\n",
       "      <td>NaN</td>\n",
       "      <td>NaN</td>\n",
       "      <td>NaN</td>\n",
       "      <td>https://twitter.com/dog_rates/status/666428276...</td>\n",
       "      <td>7</td>\n",
       "      <td>10</td>\n",
       "      <td>None</td>\n",
       "      <td>None</td>\n",
       "      <td>None</td>\n",
       "      <td>None</td>\n",
       "      <td>None</td>\n",
       "    </tr>\n",
       "    <tr>\n",
       "      <th>464</th>\n",
       "      <td>817415592588222464</td>\n",
       "      <td>NaN</td>\n",
       "      <td>NaN</td>\n",
       "      <td>2017-01-06 17:00:38 +0000</td>\n",
       "      <td>&lt;a href=\"http://twitter.com/download/iphone\" r...</td>\n",
       "      <td>Meet Strudel. He's rather h*ckin pupset that y...</td>\n",
       "      <td>NaN</td>\n",
       "      <td>NaN</td>\n",
       "      <td>NaN</td>\n",
       "      <td>https://www.gofundme.com/help-strudel-walk-aga...</td>\n",
       "      <td>11</td>\n",
       "      <td>10</td>\n",
       "      <td>Strudel</td>\n",
       "      <td>None</td>\n",
       "      <td>None</td>\n",
       "      <td>None</td>\n",
       "      <td>None</td>\n",
       "    </tr>\n",
       "  </tbody>\n",
       "</table>\n",
       "</div>"
      ],
      "text/plain": [
       "                tweet_id  in_reply_to_status_id  in_reply_to_user_id  \\\n",
       "194   855245323840757760                    NaN                  NaN   \n",
       "34    885528943205470208                    NaN                  NaN   \n",
       "927   754856583969079297                    NaN                  NaN   \n",
       "660   791312159183634433                    NaN                  NaN   \n",
       "1354  703631701117943808                    NaN                  NaN   \n",
       "1695  681261549936340994                    NaN                  NaN   \n",
       "1005  747651430853525504           7.476487e+17         4.196984e+09   \n",
       "1077  739544079319588864                    NaN                  NaN   \n",
       "2323  666428276349472768                    NaN                  NaN   \n",
       "464   817415592588222464                    NaN                  NaN   \n",
       "\n",
       "                      timestamp  \\\n",
       "194   2017-04-21 02:22:29 +0000   \n",
       "34    2017-07-13 15:58:47 +0000   \n",
       "927   2016-07-18 01:53:28 +0000   \n",
       "660   2016-10-26 16:14:55 +0000   \n",
       "1354  2016-02-27 17:24:05 +0000   \n",
       "1695  2015-12-27 23:53:05 +0000   \n",
       "1005  2016-06-28 04:42:46 +0000   \n",
       "1077  2016-06-05 19:47:03 +0000   \n",
       "2323  2015-11-17 01:30:57 +0000   \n",
       "464   2017-01-06 17:00:38 +0000   \n",
       "\n",
       "                                                 source  \\\n",
       "194   <a href=\"http://twitter.com/download/iphone\" r...   \n",
       "34    <a href=\"http://twitter.com/download/iphone\" r...   \n",
       "927   <a href=\"http://twitter.com/download/iphone\" r...   \n",
       "660   <a href=\"http://twitter.com/download/iphone\" r...   \n",
       "1354  <a href=\"http://twitter.com/download/iphone\" r...   \n",
       "1695  <a href=\"http://twitter.com/download/iphone\" r...   \n",
       "1005  <a href=\"http://twitter.com/download/iphone\" r...   \n",
       "1077  <a href=\"http://twitter.com/download/iphone\" r...   \n",
       "2323  <a href=\"http://twitter.com/download/iphone\" r...   \n",
       "464   <a href=\"http://twitter.com/download/iphone\" r...   \n",
       "\n",
       "                                                   text  retweeted_status_id  \\\n",
       "194   RT @dog_rates: Meet George. He looks slightly ...         8.421635e+17   \n",
       "34    This is Maisey. She fell asleep mid-excavation...                  NaN   \n",
       "927   This is Winnie. She's not a fan of the fast mo...                  NaN   \n",
       "660   This is Mabel. She's super h*ckin smol. Portab...                  NaN   \n",
       "1354  This is Bella. Based on this picture she's at ...                  NaN   \n",
       "1695  Say hello to Panda. He's a Quackadilly Shooste...                  NaN   \n",
       "1005  Other pupper asked not to have his identity sh...                  NaN   \n",
       "1077  This... is a Tyrannosaurus rex. We only rate d...                  NaN   \n",
       "2323  Here we have an Austrian Pulitzer. Collectors ...                  NaN   \n",
       "464   Meet Strudel. He's rather h*ckin pupset that y...                  NaN   \n",
       "\n",
       "      retweeted_status_user_id retweeted_status_timestamp  \\\n",
       "194               4.196984e+09  2017-03-16 00:00:07 +0000   \n",
       "34                         NaN                        NaN   \n",
       "927                        NaN                        NaN   \n",
       "660                        NaN                        NaN   \n",
       "1354                       NaN                        NaN   \n",
       "1695                       NaN                        NaN   \n",
       "1005                       NaN                        NaN   \n",
       "1077                       NaN                        NaN   \n",
       "2323                       NaN                        NaN   \n",
       "464                        NaN                        NaN   \n",
       "\n",
       "                                          expanded_urls  rating_numerator  \\\n",
       "194   https://twitter.com/dog_rates/status/842163532...                12   \n",
       "34    https://twitter.com/dog_rates/status/885528943...                13   \n",
       "927   https://twitter.com/dog_rates/status/754856583...                11   \n",
       "660   https://twitter.com/dog_rates/status/791312159...                12   \n",
       "1354  https://twitter.com/dog_rates/status/703631701...                11   \n",
       "1695  https://twitter.com/dog_rates/status/681261549...                 9   \n",
       "1005                                                NaN                12   \n",
       "1077  https://twitter.com/dog_rates/status/739544079...                10   \n",
       "2323  https://twitter.com/dog_rates/status/666428276...                 7   \n",
       "464   https://www.gofundme.com/help-strudel-walk-aga...                11   \n",
       "\n",
       "      rating_denominator     name doggo floofer  pupper puppo  \n",
       "194                   10   George  None    None    None  None  \n",
       "34                    10   Maisey  None    None    None  None  \n",
       "927                   10   Winnie  None    None    None  None  \n",
       "660                   10    Mabel  None    None    None  None  \n",
       "1354                  10    Bella  None    None    None  None  \n",
       "1695                  10    Panda  None    None    None  None  \n",
       "1005                  10     None  None    None  pupper  None  \n",
       "1077                  10     None  None    None    None  None  \n",
       "2323                  10     None  None    None    None  None  \n",
       "464                   10  Strudel  None    None    None  None  "
      ]
     },
     "execution_count": 21,
     "metadata": {},
     "output_type": "execute_result"
    }
   ],
   "source": [
    "# explore randomly\n",
    "df_twitenh.sample(10, random_state=7)"
   ]
  },
  {
   "cell_type": "markdown",
   "metadata": {},
   "source": [
    "This random sampling tells us that some dogs are un-named. The name column shows \"None\", and it's unlikely there are many dogs named \"None\". While we don't plan on doing analysis with the dog names, it would still have been nice to have a name for each dog. \n",
    "\n",
    "Let's visually inspect the unique dog names present."
   ]
  },
  {
   "cell_type": "code",
   "execution_count": 22,
   "metadata": {},
   "outputs": [
    {
     "data": {
      "text/plain": [
       "array(['Phineas', 'Tilly', 'Archie', 'Darla', 'Franklin', 'None', 'Jax',\n",
       "       'Zoey', 'Cassie', 'Koda', 'Bruno', 'Ted', 'Stuart', 'Oliver', 'Jim',\n",
       "       'Zeke', 'Ralphus', 'Canela', 'Gerald', 'Jeffrey', 'such', 'Maya',\n",
       "       'Mingus', 'Derek', 'Roscoe', 'Waffles', 'Jimbo', 'Maisey', 'Lilly',\n",
       "       'Earl', 'Lola', 'Kevin', 'Yogi', 'Noah', 'Bella', 'Grizzwald',\n",
       "       'Rusty', 'Gus', 'Stanley', 'Alfy', 'Koko', 'Rey', 'Gary', 'a',\n",
       "       'Elliot', 'Louis', 'Jesse', 'Romeo', 'Bailey', 'Duddles', 'Jack',\n",
       "       'Emmy', 'Steven', 'Beau', 'Snoopy', 'Shadow', 'Terrance', 'Aja',\n",
       "       'Penny', 'Dante', 'Nelly', 'Ginger', 'Benedict', 'Venti', 'Goose',\n",
       "       'Nugget', 'Cash', 'Coco', 'Jed', 'Sebastian', 'Walter', 'Sierra',\n",
       "       'Monkey', 'Harry', 'Kody', 'Lassie', 'Rover', 'Napolean', 'Dawn',\n",
       "       'Boomer', 'Cody', 'Rumble', 'Clifford', 'quite', 'Dewey', 'Scout',\n",
       "       'Gizmo', 'Cooper', 'Harold', 'Shikha', 'Jamesy', 'Lili', 'Sammy',\n",
       "       'Meatball', 'Paisley', 'Albus', 'Neptune', 'Quinn', 'Belle',\n",
       "       'Zooey', 'Dave', 'Jersey', 'Hobbes', 'Burt', 'Lorenzo', 'Carl',\n",
       "       'Jordy', 'Milky', 'Trooper', 'Winston', 'Sophie', 'Wyatt', 'Rosie',\n",
       "       'Thor', 'Oscar', 'Luna', 'Callie', 'Cermet', 'George', 'Marlee',\n",
       "       'Arya', 'Einstein', 'Alice', 'Rumpole', 'Benny', 'Aspen', 'Jarod',\n",
       "       'Wiggles', 'General', 'Sailor', 'Astrid', 'Iggy', 'Snoop', 'Kyle',\n",
       "       'Leo', 'Riley', 'Gidget', 'Noosh', 'Odin', 'Jerry', 'Charlie',\n",
       "       'Georgie', 'Rontu', 'Cannon', 'Furzey', 'Daisy', 'Tuck', 'Barney',\n",
       "       'Vixen', 'Jarvis', 'Mimosa', 'Pickles', 'Bungalo', 'Brady', 'Margo',\n",
       "       'Sadie', 'Hank', 'Tycho', 'Stephan', 'Indie', 'Winnie', 'Bentley',\n",
       "       'Ken', 'Max', 'Maddie', 'Pipsy', 'Monty', 'Sojourner', 'Odie',\n",
       "       'Arlo', 'Sunny', 'Vincent', 'Lucy', 'Clark', 'Mookie', 'Meera',\n",
       "       'Buddy', 'Ava', 'Rory', 'Eli', 'Ash', 'Tucker', 'Tobi', 'Chester',\n",
       "       'Wilson', 'Sunshine', 'Lipton', 'Gabby', 'Bronte', 'Poppy', 'Rhino',\n",
       "       'Willow', 'not', 'Orion', 'Eevee', 'Smiley', 'Logan', 'Moreton',\n",
       "       'Klein', 'Miguel', 'Emanuel', 'Kuyu', 'Dutch', 'Pete', 'Scooter',\n",
       "       'Reggie', 'Kyro', 'Samson', 'Loki', 'Mia', 'Malcolm', 'Dexter',\n",
       "       'Alfie', 'Fiona', 'one', 'Mutt', 'Bear', 'Doobert', 'Beebop',\n",
       "       'Alexander', 'Sailer', 'Brutus', 'Kona', 'Boots', 'Ralphie', 'Phil',\n",
       "       'Cupid', 'Pawnd', 'Pilot', 'Ike', 'Mo', 'Toby', 'Sweet', 'Pablo',\n",
       "       'Nala', 'Balto', 'Crawford', 'Gabe', 'Mattie', 'Jimison',\n",
       "       'Hercules', 'Duchess', 'Harlso', 'Sampson', 'Sundance', 'Luca',\n",
       "       'Flash', 'Finn', 'Peaches', 'Howie', 'Jazzy', 'Anna', 'Bo',\n",
       "       'Seamus', 'Wafer', 'Chelsea', 'Tom', 'Moose', 'Florence', 'Autumn',\n",
       "       'Dido', 'Eugene', 'Herschel', 'Strudel', 'Tebow', 'Chloe', 'Betty',\n",
       "       'Timber', 'Binky', 'Dudley', 'Comet', 'Larry', 'Levi', 'Akumi',\n",
       "       'Titan', 'Olivia', 'Alf', 'Oshie', 'Bruce', 'Chubbs', 'Sky',\n",
       "       'Atlas', 'Eleanor', 'Layla', 'Rocky', 'Baron', 'Tyr', 'Bauer',\n",
       "       'Swagger', 'Brandi', 'Mary', 'Moe', 'Halo', 'Augie', 'Craig', 'Sam',\n",
       "       'Hunter', 'Pavlov', 'Maximus', 'Wallace', 'Ito', 'Milo', 'Ollie',\n",
       "       'Cali', 'Lennon', 'incredibly', 'Major', 'Duke', 'Reginald',\n",
       "       'Sansa', 'Shooter', 'Django', 'Diogi', 'Sonny', 'Philbert',\n",
       "       'Marley', 'Severus', 'Ronnie', 'Anakin', 'Bones', 'Mauve', 'Chef',\n",
       "       'Doc', 'Sobe', 'Longfellow', 'Mister', 'Iroh', 'Baloo', 'Stubert',\n",
       "       'Paull', 'Timison', 'Davey', 'Pancake', 'Tyrone', 'Snicku', 'Ruby',\n",
       "       'Brody', 'Rizzy', 'Mack', 'Butter', 'Nimbus', 'Laika', 'Dobby',\n",
       "       'Juno', 'Maude', 'Lily', 'Newt', 'Benji', 'Nida', 'Robin',\n",
       "       'Monster', 'BeBe', 'Remus', 'Mabel', 'Misty', 'Happy', 'Mosby',\n",
       "       'Maggie', 'Leela', 'Ralphy', 'Brownie', 'Meyer', 'Stella', 'mad',\n",
       "       'Frank', 'Tonks', 'Lincoln', 'Oakley', 'Dale', 'Rizzo', 'Arnie',\n",
       "       'Pinot', 'Dallas', 'Hero', 'Frankie', 'Stormy', 'Mairi', 'Loomis',\n",
       "       'Godi', 'Kenny', 'Deacon', 'Timmy', 'Harper', 'Chipson', 'Combo',\n",
       "       'Dash', 'Bell', 'Hurley', 'Jay', 'Mya', 'Strider', 'an', 'Wesley',\n",
       "       'Solomon', 'Huck', 'very', 'O', 'Blue', 'Finley', 'Sprinkles',\n",
       "       'Heinrich', 'Shakespeare', 'Fizz', 'Chip', 'Grey', 'Roosevelt',\n",
       "       'Gromit', 'Willem', 'Dakota', 'Dixie', 'Al', 'Jackson', 'just',\n",
       "       'Carbon', 'DonDon', 'Kirby', 'Lou', 'Nollie', 'Chevy', 'Tito',\n",
       "       'Louie', 'Rupert', 'Rufus', 'Brudge', 'Shadoe', 'Colby', 'Angel',\n",
       "       'Brat', 'Tove', 'my', 'Aubie', 'Kota', 'Eve', 'Glenn', 'Shelby',\n",
       "       'Sephie', 'Bonaparte', 'Albert', 'Wishes', 'Rose', 'Theo', 'Rocco',\n",
       "       'Fido', 'Emma', 'Spencer', 'Lilli', 'Boston', 'Brandonald', 'Corey',\n",
       "       'Leonard', 'Chompsky', 'Beckham', 'Devón', 'Gert', 'Watson',\n",
       "       'Rubio', 'Keith', 'Dex', 'Carly', 'Ace', 'Tayzie', 'Grizzie',\n",
       "       'Fred', 'Gilbert', 'Zoe', 'Stewie', 'Calvin', 'Lilah', 'Spanky',\n",
       "       'Jameson', 'Piper', 'Atticus', 'Blu', 'Dietrich', 'Divine', 'Tripp',\n",
       "       'his', 'Cora', 'Huxley', 'Keurig', 'Bookstore', 'Linus', 'Abby',\n",
       "       'Shaggy', 'Shiloh', 'Gustav', 'Arlen', 'Percy', 'Lenox', 'Sugar',\n",
       "       'Harvey', 'Blanket', 'actually', 'Geno', 'Stark', 'Beya', 'Kilo',\n",
       "       'Kayla', 'Maxaroni', 'Doug', 'Edmund', 'Aqua', 'Theodore', 'Chase',\n",
       "       'getting', 'Rorie', 'Simba', 'Charles', 'Bayley', 'Axel',\n",
       "       'Storkson', 'Remy', 'Chadrick', 'Kellogg', 'Buckley', 'Livvie',\n",
       "       'Terry', 'Hermione', 'Ralpher', 'Aldrick', 'this', 'unacceptable',\n",
       "       'Rooney', 'Crystal', 'Ziva', 'Stefan', 'Pupcasso', 'Puff',\n",
       "       'Flurpson', 'Coleman', 'Enchilada', 'Raymond', 'all', 'Rueben',\n",
       "       'Cilantro', 'Karll', 'Sprout', 'Blitz', 'Bloop', 'Lillie',\n",
       "       'Ashleigh', 'Kreggory', 'Sarge', 'Luther', 'Ivar', 'Jangle',\n",
       "       'Schnitzel', 'Panda', 'Berkeley', 'Ralphé', 'Charleson', 'Clyde',\n",
       "       'Harnold', 'Sid', 'Pippa', 'Otis', 'Carper', 'Bowie',\n",
       "       'Alexanderson', 'Suki', 'Barclay', 'Skittle', 'Ebby', 'Flávio',\n",
       "       'Smokey', 'Link', 'Jennifur', 'Ozzy', 'Bluebert', 'Stephanus',\n",
       "       'Bubbles', 'old', 'Zeus', 'Bertson', 'Nico', 'Michelangelope',\n",
       "       'Siba', 'Calbert', 'Curtis', 'Travis', 'Thumas', 'Kanu', 'Lance',\n",
       "       'Opie', 'Kane', 'Olive', 'Chuckles', 'Staniel', 'Sora', 'Beemo',\n",
       "       'Gunner', 'infuriating', 'Lacy', 'Tater', 'Olaf', 'Cecil', 'Vince',\n",
       "       'Karma', 'Billy', 'Walker', 'Rodney', 'Klevin', 'Malikai', 'Bobble',\n",
       "       'River', 'Jebberson', 'Remington', 'Farfle', 'Jiminus', 'Clarkus',\n",
       "       'Finnegus', 'Cupcake', 'Kathmandu', 'Ellie', 'Katie', 'Kara',\n",
       "       'Adele', 'Zara', 'Ambrose', 'Jimothy', 'Bode', 'Terrenth', 'Reese',\n",
       "       'Chesterson', 'Lucia', 'Bisquick', 'Ralphson', 'Socks', 'Rambo',\n",
       "       'Rudy', 'Fiji', 'Rilo', 'Bilbo', 'Coopson', 'Yoda', 'Millie',\n",
       "       'Chet', 'Crouton', 'Daniel', 'Kaia', 'Murphy', 'Dotsy', 'Eazy',\n",
       "       'Coops', 'Fillup', 'Miley', 'Charl', 'Reagan', 'Yukon', 'CeCe',\n",
       "       'Cuddles', 'Claude', 'Jessiga', 'Carter', 'Ole', 'Pherb', 'Blipson',\n",
       "       'Reptar', 'Trevith', 'Berb', 'Bob', 'Colin', 'Brian', 'Oliviér',\n",
       "       'Grady', 'Kobe', 'Freddery', 'Bodie', 'Dunkin', 'Wally', 'Tupawc',\n",
       "       'Amber', 'Edgar', 'Teddy', 'Kingsley', 'Brockly', 'Richie', 'Molly',\n",
       "       'Vinscent', 'Cedrick', 'Hazel', 'Lolo', 'Eriq', 'Phred', 'the',\n",
       "       'Oddie', 'Maxwell', 'Geoff', 'Covach', 'Durg', 'Fynn', 'Ricky',\n",
       "       'Herald', 'Lucky', 'Ferg', 'Trip', 'Clarence', 'Hamrick', 'Brad',\n",
       "       'Pubert', 'Frönq', 'Derby', 'Lizzie', 'Ember', 'Blakely', 'Opal',\n",
       "       'Marq', 'Kramer', 'Barry', 'Gordon', 'Baxter', 'Mona', 'Horace',\n",
       "       'Crimson', 'Birf', 'Hammond', 'Lorelei', 'Marty', 'Brooks',\n",
       "       'Petrick', 'Hubertson', 'Gerbald', 'Oreo', 'Bruiser', 'Perry',\n",
       "       'Bobby', 'Jeph', 'Obi', 'Tino', 'Kulet', 'Sweets', 'Lupe', 'Tiger',\n",
       "       'Jiminy', 'Griffin', 'Banjo', 'Brandy', 'Lulu', 'Darrel', 'Taco',\n",
       "       'Joey', 'Patrick', 'Kreg', 'Todo', 'Tess', 'Ulysses', 'Toffee',\n",
       "       'Apollo', 'Asher', 'Glacier', 'Chuck', 'Champ', 'Ozzie', 'Griswold',\n",
       "       'Cheesy', 'Moofasa', 'Hector', 'Goliath', 'Kawhi', 'by', 'Emmie',\n",
       "       'Penelope', 'Willie', 'Rinna', 'Mike', 'William', 'Dwight', 'Evy',\n",
       "       'officially', 'Rascal', 'Linda', 'Tug', 'Tango', 'Grizz', 'Jerome',\n",
       "       'Crumpet', 'Jessifer', 'Izzy', 'Ralph', 'Sandy', 'Humphrey',\n",
       "       'Tassy', 'Juckson', 'Chuq', 'Tyrus', 'Karl', 'Godzilla', 'Vinnie',\n",
       "       'Kenneth', 'Herm', 'Bert', 'Striker', 'Donny', 'Pepper', 'Bernie',\n",
       "       'Buddah', 'Lenny', 'Arnold', 'Zuzu', 'Mollie', 'Laela', 'Tedders',\n",
       "       'Superpup', 'Rufio', 'Jeb', 'Rodman', 'Jonah', 'Chesney', 'life',\n",
       "       'Henry', 'Bobbay', 'Mitch', 'Kaiya', 'Acro', 'Aiden', 'Obie', 'Dot',\n",
       "       'Shnuggles', 'Kendall', 'Jeffri', 'Steve', 'Mac', 'Fletcher',\n",
       "       'Kenzie', 'Pumpkin', 'Schnozz', 'Gustaf', 'Cheryl', 'Ed',\n",
       "       'Leonidas', 'Norman', 'Caryl', 'Scott', 'Taz', 'Darby', 'Jackie',\n",
       "       'light', 'Jazz', 'Franq', 'Pippin', 'Rolf', 'Snickers', 'Ridley',\n",
       "       'Cal', 'Bradley', 'Bubba', 'Tuco', 'Patch', 'Mojo', 'Batdog',\n",
       "       'Dylan', 'space', 'Mark', 'JD', 'Alejandro', 'Scruffers', 'Pip',\n",
       "       'Julius', 'Tanner', 'Sparky', 'Anthony', 'Holly', 'Jett', 'Amy',\n",
       "       'Sage', 'Andy', 'Mason', 'Trigger', 'Antony', 'Creg', 'Traviss',\n",
       "       'Gin', 'Jeffrie', 'Danny', 'Ester', 'Pluto', 'Bloo', 'Edd', 'Willy',\n",
       "       'Herb', 'Damon', 'Peanut', 'Nigel', 'Butters', 'Sandra', 'Fabio',\n",
       "       'Randall', 'Liam', 'Tommy', 'Ben', 'Raphael', 'Julio', 'Andru',\n",
       "       'Kloey', 'Shawwn', 'Skye', 'Kollin', 'Ronduh', 'Billl', 'Saydee',\n",
       "       'Dug', 'Tessa', 'Sully', 'Kirk', 'Ralf', 'Clarq', 'Jaspers',\n",
       "       'Samsom', 'Harrison', 'Chaz', 'Jeremy', 'Jaycob', 'Lambeau',\n",
       "       'Ruffles', 'Amélie', 'Bobb', 'Banditt', 'Kevon', 'Winifred', 'Hanz',\n",
       "       'Churlie', 'Zeek', 'Timofy', 'Maks', 'Jomathan', 'Kallie', 'Marvin',\n",
       "       'Spark', 'Gòrdón', 'Jo', 'DayZ', 'Jareld', 'Torque', 'Ron',\n",
       "       'Skittles', 'Cleopatricia', 'Erik', 'Stu', 'Tedrick', 'Filup',\n",
       "       'Kial', 'Naphaniel', 'Dook', 'Hall', 'Philippe', 'Biden', 'Fwed',\n",
       "       'Genevieve', 'Joshwa', 'Bradlay', 'Clybe', 'Keet', 'Carll',\n",
       "       'Jockson', 'Josep', 'Lugan', 'Christoper'], dtype=object)"
      ]
     },
     "execution_count": 22,
     "metadata": {},
     "output_type": "execute_result"
    }
   ],
   "source": [
    "# which dog names do we have?\n",
    "df_twitenh[\"name\"].unique()"
   ]
  },
  {
   "cell_type": "markdown",
   "metadata": {},
   "source": [
    "From skimming the list there are quite a few unusual dog names - 'a', 'an', 'O', 'my', 'officially', 'by', 'this', 'all', etc.\n",
    "There's no philosophical reason why these can't be valid dog names, but for practical purposes it seems more likely to be a cleanliness issue.\n",
    "Going through the list manually for these unusual dog names will be tedious so instead we'll take a leap of faith and assume that most of these faulty names...\n",
    "- are \"None\"\n",
    "- begin with lowercase\n",
    "- are fewer than three characters long.\n",
    "\n",
    "We'll explore these tests in more detail during the cleaning stage but for now let's hope that most of the invalid names satisfy this criteria, and most names that satisfy this criteria are invalid."
   ]
  },
  {
   "cell_type": "code",
   "execution_count": 23,
   "metadata": {},
   "outputs": [],
   "source": [
    "# look for unusual names\n",
    "def get_strange_names(names_list):\n",
    "    strange_names = []\n",
    "    for name in names_list:\n",
    "        condition = (name.lower()==\"none\") or (len(name)<=2) or (name[0]==name.lower()[0])\n",
    "        if condition:\n",
    "            strange_names.append(name)\n",
    "    return strange_names"
   ]
  },
  {
   "cell_type": "code",
   "execution_count": 24,
   "metadata": {},
   "outputs": [
    {
     "name": "stdout",
     "output_type": "stream",
     "text": [
      "['None', 'such', 'a', 'quite', 'not', 'one', 'Mo', 'Bo', 'incredibly', 'mad', 'an', 'very', 'O', 'Al', 'just', 'my', 'his', 'actually', 'getting', 'this', 'unacceptable', 'all', 'old', 'infuriating', 'the', 'by', 'officially', 'life', 'Ed', 'light', 'space', 'JD', 'Jo']\n"
     ]
    }
   ],
   "source": [
    "# visually inspect the strange names\n",
    "print(get_strange_names(df_twitenh['name'].unique()))"
   ]
  },
  {
   "cell_type": "markdown",
   "metadata": {},
   "source": [
    "Most of the names here pass our test for what constitutes a strange name.\n",
    "The test isn't perfect - it could miss a title-case name such as \"Unacceptable\", but if the name is in title case then that's probably the dog's actual name. During the cleaning stage we'll make use of this test again, making sure to manually filter out the more legitimate-looking names."
   ]
  },
  {
   "cell_type": "markdown",
   "metadata": {},
   "source": [
    "The next thing to notice is that each of the columns pupper, puppo, doggo and floofer seem to be sparse in terms of values. Most of the values in these are null (represented by the string \"None\"). It looks like these are meant to indicate \"False\" (i.e. \"None\" means \"This dog is not a pupper\"), but let's test that hypothesis by checking the unique values for each column."
   ]
  },
  {
   "cell_type": "code",
   "execution_count": 25,
   "metadata": {},
   "outputs": [
    {
     "name": "stdout",
     "output_type": "stream",
     "text": [
      "pupper has unique values ['None' 'pupper']\n",
      "puppo has unique values ['None' 'puppo']\n",
      "doggo has unique values ['None' 'doggo']\n",
      "floofer has unique values ['None' 'floofer']\n"
     ]
    }
   ],
   "source": [
    "# check the unique values for the columns\n",
    "cols = ('pupper','puppo','doggo','floofer')\n",
    "for col in cols:\n",
    "    print(col, 'has unique values', df_twitenh[col].unique())"
   ]
  },
  {
   "cell_type": "markdown",
   "metadata": {},
   "source": [
    "If we replace \"None\" with \"False\", the data still makes sense, so let's assume that \"None\" means \"False\". It's also good that the unique values correspond to the column names (for example it would be strange if the column \"doggo\" had anything other than None, or True, or doggo).\n",
    "\n",
    "But the random selection of columns reveals a problem with the dataset - there are rows without any dog_stage information (i.e. each column \"pupper\", \"puppo\", etc. contains None). Just how many of these are there? Are there rows that classify a dog in several different stages at once? We'll have to assess these issues with the assumption that no dog can exist in multiple dog stages at once."
   ]
  },
  {
   "cell_type": "markdown",
   "metadata": {},
   "source": [
    "The plan is to use a smaller dataframe consisting of only the columns we want to test - doggo, floofer, pupper and puppo as arranged in the original df_twitenh dataframe.\n",
    "We'll then iterate across each row, testing if there's more than one non-null (i.e. 'None') observation on the same row. We already know that any given observation is any of 'None', 'doggo', 'floofer', 'pupper' or 'puppo' so we don't have to worry about weird misspellings throwing our analysis off.\n",
    "\n",
    "Once again, what we want to do is to check if on a given row there are more than two unique values - one of which is None and the others any of \"pupper\", \"puppo\", \"doggo\" or \"floofer\" exclusively.\n",
    "At the same time, we'll keep count of how many non-Null values we have in total and compare it to the total number of rows in the dataframe."
   ]
  },
  {
   "cell_type": "code",
   "execution_count": 26,
   "metadata": {},
   "outputs": [],
   "source": [
    "# create a sub-dataframe\n",
    "df_dogstages = df_twitenh.loc[:,'doggo':'puppo']"
   ]
  },
  {
   "cell_type": "markdown",
   "metadata": {},
   "source": [
    "Assessing this sub-dataframe visually would be incredibly tedious so we'll instead do it using a function."
   ]
  },
  {
   "cell_type": "code",
   "execution_count": 27,
   "metadata": {},
   "outputs": [],
   "source": [
    "# define a function to test if each row has at most two non-null observations\n",
    "def is_two_or_fewer(row):\n",
    "    \"\"\"expects a tuple or iterable, checks if at most two unique values in tuple/iterable\n",
    "    \"\"\"\n",
    "    seen = []\n",
    "    for val in row:\n",
    "        if val not in seen:\n",
    "            seen.append(val) # append if you haven't seen before\n",
    "        elif val in seen:\n",
    "            continue # skip if you've seen before\n",
    "    nunique = len(seen)\n",
    "    # is nunique btw 0 and 2 inclusive?\n",
    "    # 0 means all are truly null i.e NaN\n",
    "    # 1 means single unique value (\"None\",\"pupper\", etc)\n",
    "    # 2 means two unique values on same row.\n",
    "    # 3 or more is invalid\n",
    "    return ((0<=nunique)and(nunique<=2))"
   ]
  },
  {
   "cell_type": "markdown",
   "metadata": {},
   "source": [
    "Before we proceed, it's important to mention that the function defined above doesn't explicitly account for unusual cases such as each row containing \"doggo\" for all columns e.g (\"doggo\",\"doggo\",\"doggo\",\"doggo\").\n",
    "\n",
    "However, we don't have to worry about that because we've seen already that each column only contains the appropriate dog stage or \"None\". Thus, for this particular dataset, a case like (\"doggo\",\"doggo\",\"doggo\",\"doggo\") is impossible because that would mean the three other columns contain the wrong dog stage.\n",
    "\n",
    "The next task is to define a function to count the number of 'populated' rows - rows containing anything other than \"None\". This will be used together with a counter."
   ]
  },
  {
   "cell_type": "code",
   "execution_count": 28,
   "metadata": {},
   "outputs": [],
   "source": [
    "# a function to count how many rows have actually recorded the dog stage.\n",
    "# returns 1 as soon as a non-null item is encountered.\n",
    "# if that happens, the last line is never reached.\n",
    "def has_elements(row):\n",
    "    \"\"\"we're returning numbers because we want to use this as part of a running sum\"\"\"\n",
    "    for item in row:\n",
    "        if (item != 'None'):\n",
    "            return 1\n",
    "    return 0"
   ]
  },
  {
   "cell_type": "markdown",
   "metadata": {},
   "source": [
    "Finally, we need a way to create a list of every row in the dataframe which we can run our tests on. The strategy is to access each row using pandas iloc method and for each row, append the column value to a tuple which will be appended to a list."
   ]
  },
  {
   "cell_type": "code",
   "execution_count": 29,
   "metadata": {},
   "outputs": [],
   "source": [
    "# \n",
    "def tuplify_rows(dframe):\n",
    "    \"\"\"what this returns can be thought of as a table - a 2D list\"\"\"\n",
    "    rows = []\n",
    "    no_of_rows = dframe.shape[0]\n",
    "    for i in range(no_of_rows):\n",
    "        row_as_tuple = tuple(dframe.loc[i,'doggo':'puppo']) # pray the indexing is correct\n",
    "        rows.append(row_as_tuple)\n",
    "    return tuple(rows) # i heard tuples are faster to search"
   ]
  },
  {
   "cell_type": "code",
   "execution_count": 30,
   "metadata": {},
   "outputs": [
    {
     "name": "stdout",
     "output_type": "stream",
     "text": [
      "('None', 'None', 'None', 'None')\n",
      "('None', 'None', 'None', 'None')\n",
      "('None', 'None', 'None', 'None')\n",
      "('None', 'None', 'None', 'None')\n",
      "('None', 'None', 'None', 'None')\n"
     ]
    }
   ],
   "source": [
    "# Convert the df_dogstages dataframe to a tuple of each row...\n",
    "tup_dogstages = tuplify_rows(df_dogstages)\n",
    "# print the first few rows\n",
    "for i in range(5):\n",
    "    print(tup_dogstages[i])"
   ]
  },
  {
   "cell_type": "markdown",
   "metadata": {},
   "source": [
    "Now, we can run our tests using the tuple of rows."
   ]
  },
  {
   "cell_type": "code",
   "execution_count": 31,
   "metadata": {},
   "outputs": [],
   "source": [
    "# running the test\n",
    "non_nulls = 0 # the number of rows so far which actually have information about the dog stage\n",
    "conflicted_rows = 0 # counts the number of rows recording more than two unique dog-stages\n",
    "no_of_rows = len(tup_dogstages) # also same as df_dogstages.shape[0], which is same as in original dataframe\n",
    "\n",
    "for row in tup_dogstages:\n",
    "    if not is_two_or_fewer(row): # i.e. has more than 'None' or a single dogstage\n",
    "        conflicted_rows += 1\n",
    "    non_nulls += has_elements(row)\n"
   ]
  },
  {
   "cell_type": "markdown",
   "metadata": {},
   "source": [
    "Now, let's see what we got..."
   ]
  },
  {
   "cell_type": "code",
   "execution_count": 32,
   "metadata": {},
   "outputs": [
    {
     "name": "stdout",
     "output_type": "stream",
     "text": [
      "There are 14 rows with multiple dog stages\n",
      "There are 380 non-null rows, which is about 16 percent of rows.\n"
     ]
    }
   ],
   "source": [
    "# print results\n",
    "message1 = f\"There are {conflicted_rows} rows with multiple dog stages\"\n",
    "message2 = f\"There are {non_nulls} non-null rows, which is about {int(100*(non_nulls/no_of_rows))} percent of rows.\"\n",
    "print(message1)\n",
    "print(message2)"
   ]
  },
  {
   "cell_type": "markdown",
   "metadata": {},
   "source": [
    "There are very few rows with multiple dog stages. We'll look at those soon, but more significant is the fact that only a small proportion of rows in our dataset actually have any information about the dog stage which isn't very encouraging. We may still be able to use it for analysis later, but it won't be as powerful compared to having more rows to use.\n",
    "\n",
    "Let's see which rows have multiple dog stages."
   ]
  },
  {
   "cell_type": "code",
   "execution_count": 33,
   "metadata": {},
   "outputs": [
    {
     "name": "stdout",
     "output_type": "stream",
     "text": [
      "row 191 --> ('doggo', 'None', 'None', 'puppo')\n",
      "row 200 --> ('doggo', 'floofer', 'None', 'None')\n",
      "row 460 --> ('doggo', 'None', 'pupper', 'None')\n",
      "row 531 --> ('doggo', 'None', 'pupper', 'None')\n",
      "row 565 --> ('doggo', 'None', 'pupper', 'None')\n",
      "row 575 --> ('doggo', 'None', 'pupper', 'None')\n",
      "row 705 --> ('doggo', 'None', 'pupper', 'None')\n",
      "row 733 --> ('doggo', 'None', 'pupper', 'None')\n",
      "row 778 --> ('doggo', 'None', 'pupper', 'None')\n",
      "row 822 --> ('doggo', 'None', 'pupper', 'None')\n",
      "row 889 --> ('doggo', 'None', 'pupper', 'None')\n",
      "row 956 --> ('doggo', 'None', 'pupper', 'None')\n",
      "row 1063 --> ('doggo', 'None', 'pupper', 'None')\n",
      "row 1113 --> ('doggo', 'None', 'pupper', 'None')\n"
     ]
    }
   ],
   "source": [
    "# gather the rows with multiple dog stages\n",
    "conflicted_rows_ind = []\n",
    "for ind,row in enumerate(tup_dogstages):\n",
    "    if not is_two_or_fewer(row):\n",
    "        conflicted_rows_ind.append(ind)\n",
    "\n",
    "# let's examine them\n",
    "for ind in conflicted_rows_ind:\n",
    "    print('row', ind, '-->', tuple(df_dogstages.iloc[ind,:]))"
   ]
  },
  {
   "cell_type": "markdown",
   "metadata": {},
   "source": [
    "After consulting the [dog slang dictionary](https://video.udacity-data.com/topher/2017/October/59e04ceb_dogtionary-combined/dogtionary-combined.png) for these terms, it seems that a dog can exist in multiple dog stages if we play loose and fast with terms. However, the analysis I'm going for is mostly concerned with the size of the dog.\n",
    "- \"Pupper\" means small dog, or puppy\n",
    "- \"Doggo\" means large dog\n",
    "- \"Puppo\" is intermediate size\n",
    "- \"Floofer\" relates more to furriness than to size\n",
    "\n",
    "A dog can be a Floofer and anything else, but the rest seem to suggest the existence of dogs that are both big and small, which is contradictory. These rows seem to dirty up the dataset.\n",
    "Because these rows are few in number let's examine the corresponding tweets in close detail to get an idea of what is happening."
   ]
  },
  {
   "cell_type": "code",
   "execution_count": 34,
   "metadata": {},
   "outputs": [
    {
     "name": "stdout",
     "output_type": "stream",
     "text": [
      "191 ('doggo', 'None', 'None', 'puppo') Here's a puppo participating in the #ScienceMarch. Cleverly disguising her own doggo agenda. 13/10 would keep the planet habitable for https://t.co/cMhq16isel\n",
      "____________________________________________________________________________________________________\n",
      "200 ('doggo', 'floofer', 'None', 'None') At first I thought this was a shy doggo, but it's actually a Rare Canadian Floofer Owl. Amateurs would confuse the two. 11/10 only send dogs https://t.co/TXdT3tmuYk\n",
      "____________________________________________________________________________________________________\n",
      "460 ('doggo', 'None', 'pupper', 'None') This is Dido. She's playing the lead role in \"Pupper Stops to Catch Snow Before Resuming Shadow Box with Dried Apple.\" 13/10 (IG: didodoggo) https://t.co/m7isZrOBX7\n",
      "____________________________________________________________________________________________________\n",
      "531 ('doggo', 'None', 'pupper', 'None') Here we have Burke (pupper) and Dexter (doggo). Pupper wants to be exactly like doggo. Both 12/10 would pet at same time https://t.co/ANBpEYHaho\n",
      "____________________________________________________________________________________________________\n",
      "565 ('doggo', 'None', 'pupper', 'None') Like doggo, like pupper version 2. Both 11/10 https://t.co/9IxWAXFqze\n",
      "____________________________________________________________________________________________________\n",
      "575 ('doggo', 'None', 'pupper', 'None') This is Bones. He's being haunted by another doggo of roughly the same size. 12/10 deep breaths pupper everything's fine https://t.co/55Dqe0SJNj\n",
      "____________________________________________________________________________________________________\n",
      "705 ('doggo', 'None', 'pupper', 'None') This is Pinot. He's a sophisticated doggo. You can tell by the hat. Also pointier than your average pupper. Still 10/10 would pet cautiously https://t.co/f2wmLZTPHd\n",
      "____________________________________________________________________________________________________\n",
      "733 ('doggo', 'None', 'pupper', 'None') Pupper butt 1, Doggo 0. Both 12/10 https://t.co/WQvcPEpH2u\n",
      "____________________________________________________________________________________________________\n",
      "778 ('doggo', 'None', 'pupper', 'None') RT @dog_rates: Like father (doggo), like son (pupper). Both 12/10 https://t.co/pG2inLaOda\n",
      "____________________________________________________________________________________________________\n",
      "822 ('doggo', 'None', 'pupper', 'None') RT @dog_rates: This is just downright precious af. 12/10 for both pupper and doggo https://t.co/o5J479bZUC\n",
      "____________________________________________________________________________________________________\n",
      "889 ('doggo', 'None', 'pupper', 'None') Meet Maggie &amp; Lila. Maggie is the doggo, Lila is the pupper. They are sisters. Both 12/10 would pet at the same time https://t.co/MYwR4DQKll\n",
      "____________________________________________________________________________________________________\n",
      "956 ('doggo', 'None', 'pupper', 'None') Please stop sending it pictures that don't even have a doggo or pupper in them. Churlish af. 5/10 neat couch tho https://t.co/u2c9c7qSg8\n",
      "____________________________________________________________________________________________________\n",
      "1063 ('doggo', 'None', 'pupper', 'None') This is just downright precious af. 12/10 for both pupper and doggo https://t.co/o5J479bZUC\n",
      "____________________________________________________________________________________________________\n",
      "1113 ('doggo', 'None', 'pupper', 'None') Like father (doggo), like son (pupper). Both 12/10 https://t.co/pG2inLaOda\n",
      "____________________________________________________________________________________________________\n"
     ]
    }
   ],
   "source": [
    "# examine the tweets that have multiple dog stages\n",
    "for i in df_twitenh.index:\n",
    "    row = df_twitenh.loc[i,'doggo':'puppo']\n",
    "    if not is_two_or_fewer(row):\n",
    "        print(i, tuple(row), df_twitenh.loc[i,'text'])\n",
    "        print(100*'_')"
   ]
  },
  {
   "cell_type": "markdown",
   "metadata": {},
   "source": [
    "Upon manual assessment, most of these offending tweets are actually ratings for multiple dogs in the same tweet. A few of them are fairly clean and will be corrected in the cleaning stage."
   ]
  },
  {
   "cell_type": "markdown",
   "metadata": {},
   "source": [
    "The next step is to do a statistical summary of the dataframe."
   ]
  },
  {
   "cell_type": "code",
   "execution_count": 35,
   "metadata": {},
   "outputs": [
    {
     "data": {
      "text/html": [
       "<div>\n",
       "<style scoped>\n",
       "    .dataframe tbody tr th:only-of-type {\n",
       "        vertical-align: middle;\n",
       "    }\n",
       "\n",
       "    .dataframe tbody tr th {\n",
       "        vertical-align: top;\n",
       "    }\n",
       "\n",
       "    .dataframe thead th {\n",
       "        text-align: right;\n",
       "    }\n",
       "</style>\n",
       "<table border=\"1\" class=\"dataframe\">\n",
       "  <thead>\n",
       "    <tr style=\"text-align: right;\">\n",
       "      <th></th>\n",
       "      <th>tweet_id</th>\n",
       "      <th>in_reply_to_status_id</th>\n",
       "      <th>in_reply_to_user_id</th>\n",
       "      <th>retweeted_status_id</th>\n",
       "      <th>retweeted_status_user_id</th>\n",
       "      <th>rating_numerator</th>\n",
       "      <th>rating_denominator</th>\n",
       "    </tr>\n",
       "  </thead>\n",
       "  <tbody>\n",
       "    <tr>\n",
       "      <th>count</th>\n",
       "      <td>2.356000e+03</td>\n",
       "      <td>7.800000e+01</td>\n",
       "      <td>7.800000e+01</td>\n",
       "      <td>1.810000e+02</td>\n",
       "      <td>1.810000e+02</td>\n",
       "      <td>2356.000000</td>\n",
       "      <td>2356.000000</td>\n",
       "    </tr>\n",
       "    <tr>\n",
       "      <th>mean</th>\n",
       "      <td>7.427716e+17</td>\n",
       "      <td>7.455079e+17</td>\n",
       "      <td>2.014171e+16</td>\n",
       "      <td>7.720400e+17</td>\n",
       "      <td>1.241698e+16</td>\n",
       "      <td>13.126486</td>\n",
       "      <td>10.455433</td>\n",
       "    </tr>\n",
       "    <tr>\n",
       "      <th>std</th>\n",
       "      <td>6.856705e+16</td>\n",
       "      <td>7.582492e+16</td>\n",
       "      <td>1.252797e+17</td>\n",
       "      <td>6.236928e+16</td>\n",
       "      <td>9.599254e+16</td>\n",
       "      <td>45.876648</td>\n",
       "      <td>6.745237</td>\n",
       "    </tr>\n",
       "    <tr>\n",
       "      <th>min</th>\n",
       "      <td>6.660209e+17</td>\n",
       "      <td>6.658147e+17</td>\n",
       "      <td>1.185634e+07</td>\n",
       "      <td>6.661041e+17</td>\n",
       "      <td>7.832140e+05</td>\n",
       "      <td>0.000000</td>\n",
       "      <td>0.000000</td>\n",
       "    </tr>\n",
       "    <tr>\n",
       "      <th>25%</th>\n",
       "      <td>6.783989e+17</td>\n",
       "      <td>6.757419e+17</td>\n",
       "      <td>3.086374e+08</td>\n",
       "      <td>7.186315e+17</td>\n",
       "      <td>4.196984e+09</td>\n",
       "      <td>10.000000</td>\n",
       "      <td>10.000000</td>\n",
       "    </tr>\n",
       "    <tr>\n",
       "      <th>50%</th>\n",
       "      <td>7.196279e+17</td>\n",
       "      <td>7.038708e+17</td>\n",
       "      <td>4.196984e+09</td>\n",
       "      <td>7.804657e+17</td>\n",
       "      <td>4.196984e+09</td>\n",
       "      <td>11.000000</td>\n",
       "      <td>10.000000</td>\n",
       "    </tr>\n",
       "    <tr>\n",
       "      <th>75%</th>\n",
       "      <td>7.993373e+17</td>\n",
       "      <td>8.257804e+17</td>\n",
       "      <td>4.196984e+09</td>\n",
       "      <td>8.203146e+17</td>\n",
       "      <td>4.196984e+09</td>\n",
       "      <td>12.000000</td>\n",
       "      <td>10.000000</td>\n",
       "    </tr>\n",
       "    <tr>\n",
       "      <th>max</th>\n",
       "      <td>8.924206e+17</td>\n",
       "      <td>8.862664e+17</td>\n",
       "      <td>8.405479e+17</td>\n",
       "      <td>8.874740e+17</td>\n",
       "      <td>7.874618e+17</td>\n",
       "      <td>1776.000000</td>\n",
       "      <td>170.000000</td>\n",
       "    </tr>\n",
       "  </tbody>\n",
       "</table>\n",
       "</div>"
      ],
      "text/plain": [
       "           tweet_id  in_reply_to_status_id  in_reply_to_user_id  \\\n",
       "count  2.356000e+03           7.800000e+01         7.800000e+01   \n",
       "mean   7.427716e+17           7.455079e+17         2.014171e+16   \n",
       "std    6.856705e+16           7.582492e+16         1.252797e+17   \n",
       "min    6.660209e+17           6.658147e+17         1.185634e+07   \n",
       "25%    6.783989e+17           6.757419e+17         3.086374e+08   \n",
       "50%    7.196279e+17           7.038708e+17         4.196984e+09   \n",
       "75%    7.993373e+17           8.257804e+17         4.196984e+09   \n",
       "max    8.924206e+17           8.862664e+17         8.405479e+17   \n",
       "\n",
       "       retweeted_status_id  retweeted_status_user_id  rating_numerator  \\\n",
       "count         1.810000e+02              1.810000e+02       2356.000000   \n",
       "mean          7.720400e+17              1.241698e+16         13.126486   \n",
       "std           6.236928e+16              9.599254e+16         45.876648   \n",
       "min           6.661041e+17              7.832140e+05          0.000000   \n",
       "25%           7.186315e+17              4.196984e+09         10.000000   \n",
       "50%           7.804657e+17              4.196984e+09         11.000000   \n",
       "75%           8.203146e+17              4.196984e+09         12.000000   \n",
       "max           8.874740e+17              7.874618e+17       1776.000000   \n",
       "\n",
       "       rating_denominator  \n",
       "count         2356.000000  \n",
       "mean            10.455433  \n",
       "std              6.745237  \n",
       "min              0.000000  \n",
       "25%             10.000000  \n",
       "50%             10.000000  \n",
       "75%             10.000000  \n",
       "max            170.000000  "
      ]
     },
     "execution_count": 35,
     "metadata": {},
     "output_type": "execute_result"
    }
   ],
   "source": [
    "# statistical summary\n",
    "df_twitenh.describe()"
   ]
  },
  {
   "cell_type": "markdown",
   "metadata": {},
   "source": [
    "At first everything seems fine until you notice the rating_denominator column.\n",
    "The mean is 10.455433. This should be impossible if that column is uniform i.e. every value in that column is 10. Also, the maximum is 170.000000, which is obviously not 10.\n",
    "\n",
    "A lot of emphasis was placed on the fact that the rating denominators are always 10, so this is a data cleanliness issue. Let's check just how many rows contain the wrong denominator value."
   ]
  },
  {
   "cell_type": "code",
   "execution_count": 36,
   "metadata": {},
   "outputs": [
    {
     "name": "stdout",
     "output_type": "stream",
     "text": [
      "There are 23 ratings with denominators other than 10.\n",
      "These are from rows... \n",
      " [313, 342, 433, 516, 784, 902, 1068, 1120, 1165, 1202, 1228, 1254, 1274, 1351, 1433, 1598, 1634, 1635, 1662, 1663, 1779, 1843, 2335]\n"
     ]
    }
   ],
   "source": [
    "# create a series object...\n",
    "denoms = df_twitenh[\"rating_denominator\"]\n",
    "\n",
    "# how many rows have denominators other than 10?\n",
    "bad_ratings_count = 0\n",
    "bad_ratings_rows = []\n",
    "for ind,val in enumerate(denoms):\n",
    "    if val != 10:\n",
    "        bad_ratings_count += 1\n",
    "        bad_ratings_rows.append(ind)\n",
    "\n",
    "# print the amount\n",
    "print(\"There are\", bad_ratings_count, \"ratings with denominators other than 10.\")\n",
    "print(\"These are from rows...\", \"\\n\", bad_ratings_rows)"
   ]
  },
  {
   "cell_type": "markdown",
   "metadata": {},
   "source": [
    "Thankfully it doesn't seem like there are too many of these rows."
   ]
  },
  {
   "cell_type": "markdown",
   "metadata": {},
   "source": [
    "#### Assessing the Twitter API dataframe in detail...\n",
    "\n",
    "Also referred to as the Extra Twitter Information dataset - the one we constructed from tweet_json. We'll once again use a random sampling of rows."
   ]
  },
  {
   "cell_type": "code",
   "execution_count": 37,
   "metadata": {},
   "outputs": [
    {
     "data": {
      "text/html": [
       "<div>\n",
       "<style scoped>\n",
       "    .dataframe tbody tr th:only-of-type {\n",
       "        vertical-align: middle;\n",
       "    }\n",
       "\n",
       "    .dataframe tbody tr th {\n",
       "        vertical-align: top;\n",
       "    }\n",
       "\n",
       "    .dataframe thead th {\n",
       "        text-align: right;\n",
       "    }\n",
       "</style>\n",
       "<table border=\"1\" class=\"dataframe\">\n",
       "  <thead>\n",
       "    <tr style=\"text-align: right;\">\n",
       "      <th></th>\n",
       "      <th>id</th>\n",
       "      <th>id_str</th>\n",
       "      <th>retweet_count</th>\n",
       "      <th>favorite_count</th>\n",
       "      <th>retweeted_status</th>\n",
       "      <th>quoted_status</th>\n",
       "    </tr>\n",
       "  </thead>\n",
       "  <tbody>\n",
       "    <tr>\n",
       "      <th>1051</th>\n",
       "      <td>742465774154047488</td>\n",
       "      <td>742465774154047488</td>\n",
       "      <td>4382</td>\n",
       "      <td>7916</td>\n",
       "      <td>NaN</td>\n",
       "      <td>NaN</td>\n",
       "    </tr>\n",
       "    <tr>\n",
       "      <th>1805</th>\n",
       "      <td>676916996760600576</td>\n",
       "      <td>676916996760600576</td>\n",
       "      <td>2002</td>\n",
       "      <td>3231</td>\n",
       "      <td>NaN</td>\n",
       "      <td>NaN</td>\n",
       "    </tr>\n",
       "    <tr>\n",
       "      <th>1040</th>\n",
       "      <td>743895849529389061</td>\n",
       "      <td>743895849529389061</td>\n",
       "      <td>1087</td>\n",
       "      <td>3999</td>\n",
       "      <td>NaN</td>\n",
       "      <td>NaN</td>\n",
       "    </tr>\n",
       "    <tr>\n",
       "      <th>2071</th>\n",
       "      <td>670995969505435648</td>\n",
       "      <td>670995969505435648</td>\n",
       "      <td>317</td>\n",
       "      <td>1175</td>\n",
       "      <td>NaN</td>\n",
       "      <td>NaN</td>\n",
       "    </tr>\n",
       "    <tr>\n",
       "      <th>1122</th>\n",
       "      <td>730211855403241472</td>\n",
       "      <td>730211855403241472</td>\n",
       "      <td>1182</td>\n",
       "      <td>4180</td>\n",
       "      <td>NaN</td>\n",
       "      <td>NaN</td>\n",
       "    </tr>\n",
       "    <tr>\n",
       "      <th>45</th>\n",
       "      <td>883360690899218434</td>\n",
       "      <td>883360690899218434</td>\n",
       "      <td>3825</td>\n",
       "      <td>22986</td>\n",
       "      <td>NaN</td>\n",
       "      <td>NaN</td>\n",
       "    </tr>\n",
       "    <tr>\n",
       "      <th>616</th>\n",
       "      <td>796387464403357696</td>\n",
       "      <td>796387464403357696</td>\n",
       "      <td>4861</td>\n",
       "      <td>12334</td>\n",
       "      <td>NaN</td>\n",
       "      <td>NaN</td>\n",
       "    </tr>\n",
       "    <tr>\n",
       "      <th>898</th>\n",
       "      <td>758740312047005698</td>\n",
       "      <td>758740312047005698</td>\n",
       "      <td>1824</td>\n",
       "      <td>6339</td>\n",
       "      <td>NaN</td>\n",
       "      <td>NaN</td>\n",
       "    </tr>\n",
       "    <tr>\n",
       "      <th>669</th>\n",
       "      <td>789986466051088384</td>\n",
       "      <td>789986466051088384</td>\n",
       "      <td>2704</td>\n",
       "      <td>10369</td>\n",
       "      <td>NaN</td>\n",
       "      <td>NaN</td>\n",
       "    </tr>\n",
       "    <tr>\n",
       "      <th>1390</th>\n",
       "      <td>700062718104104960</td>\n",
       "      <td>700062718104104960</td>\n",
       "      <td>778</td>\n",
       "      <td>2890</td>\n",
       "      <td>NaN</td>\n",
       "      <td>NaN</td>\n",
       "    </tr>\n",
       "  </tbody>\n",
       "</table>\n",
       "</div>"
      ],
      "text/plain": [
       "                      id              id_str  retweet_count  favorite_count  \\\n",
       "1051  742465774154047488  742465774154047488           4382            7916   \n",
       "1805  676916996760600576  676916996760600576           2002            3231   \n",
       "1040  743895849529389061  743895849529389061           1087            3999   \n",
       "2071  670995969505435648  670995969505435648            317            1175   \n",
       "1122  730211855403241472  730211855403241472           1182            4180   \n",
       "45    883360690899218434  883360690899218434           3825           22986   \n",
       "616   796387464403357696  796387464403357696           4861           12334   \n",
       "898   758740312047005698  758740312047005698           1824            6339   \n",
       "669   789986466051088384  789986466051088384           2704           10369   \n",
       "1390  700062718104104960  700062718104104960            778            2890   \n",
       "\n",
       "     retweeted_status quoted_status  \n",
       "1051              NaN           NaN  \n",
       "1805              NaN           NaN  \n",
       "1040              NaN           NaN  \n",
       "2071              NaN           NaN  \n",
       "1122              NaN           NaN  \n",
       "45                NaN           NaN  \n",
       "616               NaN           NaN  \n",
       "898               NaN           NaN  \n",
       "669               NaN           NaN  \n",
       "1390              NaN           NaN  "
      ]
     },
     "execution_count": 37,
     "metadata": {},
     "output_type": "execute_result"
    }
   ],
   "source": [
    "# explore randomly\n",
    "df_twitxtra.sample(10, random_state=15)"
   ]
  },
  {
   "cell_type": "markdown",
   "metadata": {},
   "source": [
    "This dataset seems to be fairly clean. However, the null (NaN) values in the retweeted_status column are a slight problem. Although the null values mean that the tweet in question is original (not a retweet), the presentation isn't ideal. Perhaps a better column name would've been \"retweet?\" or \"is_retweet\" and the values would've been Booleans (True or False).\n",
    "\n",
    "As for the other columns, there are no missing values or duplicated rows (if we ignore the fact that retweets are present).\n",
    "\n",
    "Let's do summary statistics to check for unusual numerical values."
   ]
  },
  {
   "cell_type": "code",
   "execution_count": 38,
   "metadata": {},
   "outputs": [
    {
     "data": {
      "text/html": [
       "<div>\n",
       "<style scoped>\n",
       "    .dataframe tbody tr th:only-of-type {\n",
       "        vertical-align: middle;\n",
       "    }\n",
       "\n",
       "    .dataframe tbody tr th {\n",
       "        vertical-align: top;\n",
       "    }\n",
       "\n",
       "    .dataframe thead th {\n",
       "        text-align: right;\n",
       "    }\n",
       "</style>\n",
       "<table border=\"1\" class=\"dataframe\">\n",
       "  <thead>\n",
       "    <tr style=\"text-align: right;\">\n",
       "      <th></th>\n",
       "      <th>id</th>\n",
       "      <th>retweet_count</th>\n",
       "      <th>favorite_count</th>\n",
       "    </tr>\n",
       "  </thead>\n",
       "  <tbody>\n",
       "    <tr>\n",
       "      <th>count</th>\n",
       "      <td>2.354000e+03</td>\n",
       "      <td>2354.000000</td>\n",
       "      <td>2354.000000</td>\n",
       "    </tr>\n",
       "    <tr>\n",
       "      <th>mean</th>\n",
       "      <td>7.426978e+17</td>\n",
       "      <td>3164.797366</td>\n",
       "      <td>8080.968564</td>\n",
       "    </tr>\n",
       "    <tr>\n",
       "      <th>std</th>\n",
       "      <td>6.852812e+16</td>\n",
       "      <td>5284.770364</td>\n",
       "      <td>11814.771334</td>\n",
       "    </tr>\n",
       "    <tr>\n",
       "      <th>min</th>\n",
       "      <td>6.660209e+17</td>\n",
       "      <td>0.000000</td>\n",
       "      <td>0.000000</td>\n",
       "    </tr>\n",
       "    <tr>\n",
       "      <th>25%</th>\n",
       "      <td>6.783975e+17</td>\n",
       "      <td>624.500000</td>\n",
       "      <td>1415.000000</td>\n",
       "    </tr>\n",
       "    <tr>\n",
       "      <th>50%</th>\n",
       "      <td>7.194596e+17</td>\n",
       "      <td>1473.500000</td>\n",
       "      <td>3603.500000</td>\n",
       "    </tr>\n",
       "    <tr>\n",
       "      <th>75%</th>\n",
       "      <td>7.993058e+17</td>\n",
       "      <td>3652.000000</td>\n",
       "      <td>10122.250000</td>\n",
       "    </tr>\n",
       "    <tr>\n",
       "      <th>max</th>\n",
       "      <td>8.924206e+17</td>\n",
       "      <td>79515.000000</td>\n",
       "      <td>132810.000000</td>\n",
       "    </tr>\n",
       "  </tbody>\n",
       "</table>\n",
       "</div>"
      ],
      "text/plain": [
       "                 id  retweet_count  favorite_count\n",
       "count  2.354000e+03    2354.000000     2354.000000\n",
       "mean   7.426978e+17    3164.797366     8080.968564\n",
       "std    6.852812e+16    5284.770364    11814.771334\n",
       "min    6.660209e+17       0.000000        0.000000\n",
       "25%    6.783975e+17     624.500000     1415.000000\n",
       "50%    7.194596e+17    1473.500000     3603.500000\n",
       "75%    7.993058e+17    3652.000000    10122.250000\n",
       "max    8.924206e+17   79515.000000   132810.000000"
      ]
     },
     "execution_count": 38,
     "metadata": {},
     "output_type": "execute_result"
    }
   ],
   "source": [
    "# summarise the twitter api dataframe\n",
    "df_twitxtra.describe()"
   ]
  },
  {
   "cell_type": "markdown",
   "metadata": {},
   "source": [
    "Once again, it seems to be a fairly clean dataset."
   ]
  },
  {
   "cell_type": "markdown",
   "metadata": {},
   "source": [
    "#### Assessing the Image Predictions dataframe in detail..."
   ]
  },
  {
   "cell_type": "code",
   "execution_count": 39,
   "metadata": {},
   "outputs": [
    {
     "data": {
      "text/html": [
       "<div>\n",
       "<style scoped>\n",
       "    .dataframe tbody tr th:only-of-type {\n",
       "        vertical-align: middle;\n",
       "    }\n",
       "\n",
       "    .dataframe tbody tr th {\n",
       "        vertical-align: top;\n",
       "    }\n",
       "\n",
       "    .dataframe thead th {\n",
       "        text-align: right;\n",
       "    }\n",
       "</style>\n",
       "<table border=\"1\" class=\"dataframe\">\n",
       "  <thead>\n",
       "    <tr style=\"text-align: right;\">\n",
       "      <th></th>\n",
       "      <th>tweet_id</th>\n",
       "      <th>jpg_url</th>\n",
       "      <th>img_num</th>\n",
       "      <th>p1</th>\n",
       "      <th>p1_conf</th>\n",
       "      <th>p1_dog</th>\n",
       "      <th>p2</th>\n",
       "      <th>p2_conf</th>\n",
       "      <th>p2_dog</th>\n",
       "      <th>p3</th>\n",
       "      <th>p3_conf</th>\n",
       "      <th>p3_dog</th>\n",
       "    </tr>\n",
       "  </thead>\n",
       "  <tbody>\n",
       "    <tr>\n",
       "      <th>1590</th>\n",
       "      <td>798644042770751489</td>\n",
       "      <td>https://pbs.twimg.com/media/CU3mITUWIAAfyQS.jpg</td>\n",
       "      <td>1</td>\n",
       "      <td>English_springer</td>\n",
       "      <td>0.403698</td>\n",
       "      <td>True</td>\n",
       "      <td>Brittany_spaniel</td>\n",
       "      <td>0.347609</td>\n",
       "      <td>True</td>\n",
       "      <td>Welsh_springer_spaniel</td>\n",
       "      <td>0.137186</td>\n",
       "      <td>True</td>\n",
       "    </tr>\n",
       "    <tr>\n",
       "      <th>55</th>\n",
       "      <td>667062181243039745</td>\n",
       "      <td>https://pbs.twimg.com/media/CUHhgvHUAAA4aB0.jpg</td>\n",
       "      <td>1</td>\n",
       "      <td>Chesapeake_Bay_retriever</td>\n",
       "      <td>0.825678</td>\n",
       "      <td>True</td>\n",
       "      <td>vizsla</td>\n",
       "      <td>0.090998</td>\n",
       "      <td>True</td>\n",
       "      <td>kelpie</td>\n",
       "      <td>0.022956</td>\n",
       "      <td>True</td>\n",
       "    </tr>\n",
       "    <tr>\n",
       "      <th>499</th>\n",
       "      <td>675822767435051008</td>\n",
       "      <td>https://pbs.twimg.com/media/CWEBOFYWwAA-O2c.jpg</td>\n",
       "      <td>1</td>\n",
       "      <td>Pomeranian</td>\n",
       "      <td>0.460710</td>\n",
       "      <td>True</td>\n",
       "      <td>chow</td>\n",
       "      <td>0.202765</td>\n",
       "      <td>True</td>\n",
       "      <td>Pekinese</td>\n",
       "      <td>0.133266</td>\n",
       "      <td>True</td>\n",
       "    </tr>\n",
       "    <tr>\n",
       "      <th>1794</th>\n",
       "      <td>831309418084069378</td>\n",
       "      <td>https://pbs.twimg.com/media/C4lngK5VUAEVrNO.jpg</td>\n",
       "      <td>1</td>\n",
       "      <td>Doberman</td>\n",
       "      <td>0.369389</td>\n",
       "      <td>True</td>\n",
       "      <td>kelpie</td>\n",
       "      <td>0.132449</td>\n",
       "      <td>True</td>\n",
       "      <td>Labrador_retriever</td>\n",
       "      <td>0.074727</td>\n",
       "      <td>True</td>\n",
       "    </tr>\n",
       "    <tr>\n",
       "      <th>77</th>\n",
       "      <td>667437278097252352</td>\n",
       "      <td>https://pbs.twimg.com/media/CUM2qWaWoAUZ06L.jpg</td>\n",
       "      <td>1</td>\n",
       "      <td>porcupine</td>\n",
       "      <td>0.989154</td>\n",
       "      <td>False</td>\n",
       "      <td>bath_towel</td>\n",
       "      <td>0.006300</td>\n",
       "      <td>False</td>\n",
       "      <td>badger</td>\n",
       "      <td>0.000966</td>\n",
       "      <td>False</td>\n",
       "    </tr>\n",
       "    <tr>\n",
       "      <th>356</th>\n",
       "      <td>672604026190569472</td>\n",
       "      <td>https://pbs.twimg.com/media/CVWRyylWIAAMltv.jpg</td>\n",
       "      <td>1</td>\n",
       "      <td>toy_poodle</td>\n",
       "      <td>0.820158</td>\n",
       "      <td>True</td>\n",
       "      <td>miniature_poodle</td>\n",
       "      <td>0.178404</td>\n",
       "      <td>True</td>\n",
       "      <td>toilet_tissue</td>\n",
       "      <td>0.000291</td>\n",
       "      <td>False</td>\n",
       "    </tr>\n",
       "    <tr>\n",
       "      <th>1508</th>\n",
       "      <td>785872687017132033</td>\n",
       "      <td>https://pbs.twimg.com/ext_tw_video_thumb/78587...</td>\n",
       "      <td>1</td>\n",
       "      <td>Great_Pyrenees</td>\n",
       "      <td>0.392108</td>\n",
       "      <td>True</td>\n",
       "      <td>golden_retriever</td>\n",
       "      <td>0.198358</td>\n",
       "      <td>True</td>\n",
       "      <td>Pekinese</td>\n",
       "      <td>0.143328</td>\n",
       "      <td>True</td>\n",
       "    </tr>\n",
       "    <tr>\n",
       "      <th>333</th>\n",
       "      <td>672160042234327040</td>\n",
       "      <td>https://pbs.twimg.com/media/CVP9_beUEAAwURR.jpg</td>\n",
       "      <td>1</td>\n",
       "      <td>pug</td>\n",
       "      <td>0.561027</td>\n",
       "      <td>True</td>\n",
       "      <td>French_bulldog</td>\n",
       "      <td>0.222114</td>\n",
       "      <td>True</td>\n",
       "      <td>Labrador_retriever</td>\n",
       "      <td>0.065456</td>\n",
       "      <td>True</td>\n",
       "    </tr>\n",
       "    <tr>\n",
       "      <th>2057</th>\n",
       "      <td>888804989199671297</td>\n",
       "      <td>https://pbs.twimg.com/media/DFWra-3VYAA2piG.jpg</td>\n",
       "      <td>1</td>\n",
       "      <td>golden_retriever</td>\n",
       "      <td>0.469760</td>\n",
       "      <td>True</td>\n",
       "      <td>Labrador_retriever</td>\n",
       "      <td>0.184172</td>\n",
       "      <td>True</td>\n",
       "      <td>English_setter</td>\n",
       "      <td>0.073482</td>\n",
       "      <td>True</td>\n",
       "    </tr>\n",
       "    <tr>\n",
       "      <th>1197</th>\n",
       "      <td>740676976021798912</td>\n",
       "      <td>https://pbs.twimg.com/media/Ckdpx5KWsAANF6b.jpg</td>\n",
       "      <td>1</td>\n",
       "      <td>wombat</td>\n",
       "      <td>0.462952</td>\n",
       "      <td>False</td>\n",
       "      <td>Norwegian_elkhound</td>\n",
       "      <td>0.275225</td>\n",
       "      <td>True</td>\n",
       "      <td>Siamese_cat</td>\n",
       "      <td>0.043559</td>\n",
       "      <td>False</td>\n",
       "    </tr>\n",
       "  </tbody>\n",
       "</table>\n",
       "</div>"
      ],
      "text/plain": [
       "                tweet_id                                            jpg_url  \\\n",
       "1590  798644042770751489    https://pbs.twimg.com/media/CU3mITUWIAAfyQS.jpg   \n",
       "55    667062181243039745    https://pbs.twimg.com/media/CUHhgvHUAAA4aB0.jpg   \n",
       "499   675822767435051008    https://pbs.twimg.com/media/CWEBOFYWwAA-O2c.jpg   \n",
       "1794  831309418084069378    https://pbs.twimg.com/media/C4lngK5VUAEVrNO.jpg   \n",
       "77    667437278097252352    https://pbs.twimg.com/media/CUM2qWaWoAUZ06L.jpg   \n",
       "356   672604026190569472    https://pbs.twimg.com/media/CVWRyylWIAAMltv.jpg   \n",
       "1508  785872687017132033  https://pbs.twimg.com/ext_tw_video_thumb/78587...   \n",
       "333   672160042234327040    https://pbs.twimg.com/media/CVP9_beUEAAwURR.jpg   \n",
       "2057  888804989199671297    https://pbs.twimg.com/media/DFWra-3VYAA2piG.jpg   \n",
       "1197  740676976021798912    https://pbs.twimg.com/media/Ckdpx5KWsAANF6b.jpg   \n",
       "\n",
       "      img_num                        p1   p1_conf  p1_dog                  p2  \\\n",
       "1590        1          English_springer  0.403698    True    Brittany_spaniel   \n",
       "55          1  Chesapeake_Bay_retriever  0.825678    True              vizsla   \n",
       "499         1                Pomeranian  0.460710    True                chow   \n",
       "1794        1                  Doberman  0.369389    True              kelpie   \n",
       "77          1                 porcupine  0.989154   False          bath_towel   \n",
       "356         1                toy_poodle  0.820158    True    miniature_poodle   \n",
       "1508        1            Great_Pyrenees  0.392108    True    golden_retriever   \n",
       "333         1                       pug  0.561027    True      French_bulldog   \n",
       "2057        1          golden_retriever  0.469760    True  Labrador_retriever   \n",
       "1197        1                    wombat  0.462952   False  Norwegian_elkhound   \n",
       "\n",
       "       p2_conf  p2_dog                      p3   p3_conf  p3_dog  \n",
       "1590  0.347609    True  Welsh_springer_spaniel  0.137186    True  \n",
       "55    0.090998    True                  kelpie  0.022956    True  \n",
       "499   0.202765    True                Pekinese  0.133266    True  \n",
       "1794  0.132449    True      Labrador_retriever  0.074727    True  \n",
       "77    0.006300   False                  badger  0.000966   False  \n",
       "356   0.178404    True           toilet_tissue  0.000291   False  \n",
       "1508  0.198358    True                Pekinese  0.143328    True  \n",
       "333   0.222114    True      Labrador_retriever  0.065456    True  \n",
       "2057  0.184172    True          English_setter  0.073482    True  \n",
       "1197  0.275225    True             Siamese_cat  0.043559   False  "
      ]
     },
     "execution_count": 39,
     "metadata": {},
     "output_type": "execute_result"
    }
   ],
   "source": [
    "# sample img predictions randomly\n",
    "df_imgpre.sample(10, random_state=9)"
   ]
  },
  {
   "cell_type": "markdown",
   "metadata": {},
   "source": [
    "The first problem is with the way the dog species are formatted - the formatting is inconsistent. Some are in uppercase, some are in lowercase.\n",
    "The second problem is that some tweets are not about dogs at all. For example, tweetID 667437278097252352 is about a [porcupine](https://pbs.twimg.com/media/CUM2qWaWoAUZ06L.jpg). This suggests that the datasets are dirty.\n",
    "\n",
    "Assessing each image individually would be tedious so let's trust the Neural Network and rely on its most confident predictions.\n",
    "\n",
    "Let's count how many predictions fail to be dogs."
   ]
  },
  {
   "cell_type": "code",
   "execution_count": 40,
   "metadata": {},
   "outputs": [],
   "source": [
    "# how many predictions are not dogs?\n",
    "# use series objects\n",
    "p1_dog = tuple(df_imgpre[\"p1_dog\"])\n",
    "p2_dog = tuple(df_imgpre[\"p2_dog\"])\n",
    "non_dogs_count = 0\n",
    "non_dogs_list = []\n",
    "\n",
    "for ind,val in enumerate(p1_dog):\n",
    "    condition = ((val==True) and (p2_dog[ind]==True))\n",
    "    if (not condition):\n",
    "        non_dogs_count += 1\n",
    "        non_dogs_list.append(ind)\n",
    "    "
   ]
  },
  {
   "cell_type": "code",
   "execution_count": 41,
   "metadata": {},
   "outputs": [
    {
     "name": "stdout",
     "output_type": "stream",
     "text": [
      "There are 677 tweets not about dogs.\n",
      "A few rows in question are\n",
      " [6, 8, 17, 18, 21, 22, 25, 29, 33, 34]\n"
     ]
    }
   ],
   "source": [
    "# which tweets are not about dogs?\n",
    "print(\"There are\", non_dogs_count, \"tweets not about dogs.\")\n",
    "print(\"A few rows in question are\\n\", non_dogs_list[:10])"
   ]
  },
  {
   "cell_type": "markdown",
   "metadata": {},
   "source": [
    "### Quality issues\n",
    "1. The dataframes are not complete when taken together - rows are missing in each.\n",
    "2. There are retweets, quotes and replies (i.e. unoriginal tweets) present in the Enhanced Twitter and Twitter API dataframes.\n",
    "3. There are unusual dog names in the Enhanced Twitter dataframe - names like 'a', 'an', 'one', 'this', etc. There are also missing names.\n",
    "4. Dog stages are spread across multiple columns instead of being in one column.\n",
    "5. There are plenty rows without any information about which dog stage the dog is in.\n",
    "6. There are some rows with multiple dog stages for the same dog. These are tweets reviewing multiple dogs at once.\n",
    "7. There are ratings with denominators other than 10.\n",
    "8. Some tweets are not about dogs.\n",
    "9. The dog species in Image Predictions have inconsistent case.\n",
    "10. The dates in the Enhanced Twitter Archive are not in datetime format.\n",
    "11. Multiple columns (retweet_status_id, retweeted_status_user_id, etc.) communicate the same information."
   ]
  },
  {
   "cell_type": "markdown",
   "metadata": {
    "extensions": {
     "jupyter_dashboards": {
      "version": 1,
      "views": {
       "grid_default": {
        "col": 0,
        "height": 7,
        "hidden": false,
        "row": 40,
        "width": 12
       },
       "report_default": {
        "hidden": false
       }
      }
     }
    }
   },
   "source": [
    "### Tidiness issues\n",
    "1. Tweet metadata and dog information in the same table (Enhanced Twitter Archive)\n",
    "\n",
    "2. Important Tweet data (likes, favorites, etc.) scattered across different tables (Enhanced Twitter Archive, Additional/Extra Twitter Dataset, Image Predictions)\n",
    "\n",
    "3. The same information (originality of the tweet) is spread across different columns."
   ]
  },
  {
   "cell_type": "markdown",
   "metadata": {},
   "source": [
    "      "
   ]
  },
  {
   "cell_type": "markdown",
   "metadata": {
    "extensions": {
     "jupyter_dashboards": {
      "version": 1,
      "views": {
       "grid_default": {
        "col": 4,
        "height": 4,
        "hidden": false,
        "row": 32,
        "width": 4
       },
       "report_default": {
        "hidden": false
       }
      }
     }
    }
   },
   "source": [
    "## Cleaning Data\n",
    "The first thing to do is to back up the important files we have so far..."
   ]
  },
  {
   "cell_type": "code",
   "execution_count": 42,
   "metadata": {},
   "outputs": [],
   "source": [
    "# a 'wrapper-like' function for making paths if they don't exist\n",
    "def create_dir(path):\n",
    "    if not os.path.exists(path):\n",
    "        os.mkdir(path)\n",
    "\n",
    "# 'wrapper-like function' which returns filepath\n",
    "def filepath(base,filename):\n",
    "    total = os.path.join(base,filename)\n",
    "    return total"
   ]
  },
  {
   "cell_type": "code",
   "execution_count": 43,
   "metadata": {},
   "outputs": [],
   "source": [
    "# create a folder to backup the original dataframes\n",
    "cwd = os.getcwd()\n",
    "bck_orig = os.path.join(cwd, 'backups_orig')\n",
    "create_dir(bck_orig)"
   ]
  },
  {
   "cell_type": "code",
   "execution_count": 44,
   "metadata": {},
   "outputs": [],
   "source": [
    "# first save the newly-constructed dataframe. The rest are in the workspace directory.\n",
    "twxtra_filepath = os.path.join(bck_orig,'tweets_xtra.csv')\n",
    "if not os.path.exists(twxtra_filepath):\n",
    "    df_twitxtra.to_csv(twxtra_filepath,index=False)"
   ]
  },
  {
   "cell_type": "code",
   "execution_count": 45,
   "metadata": {},
   "outputs": [],
   "source": [
    "# save all these in one zip file\n",
    "# first make a path for the zip\n",
    "zip_path_orig = filepath(bck_orig, 'backups_orig.zip')\n",
    "\n",
    "with ZipFile(zip_path_orig,'w') as backups:\n",
    "    backups.write(filepath(cwd,'twitter-archive-enhanced.csv'))\n",
    "    backups.write(filepath(cwd,'image_predictions.tsv'))\n",
    "    backups.write(filepath(bck_orig,'tweets_xtra.csv'))\n",
    "    backups.write(filepath(cwd,'tweet-json.txt'))"
   ]
  },
  {
   "cell_type": "markdown",
   "metadata": {},
   "source": [
    "Next we'll copy the original dataframes..."
   ]
  },
  {
   "cell_type": "code",
   "execution_count": 46,
   "metadata": {},
   "outputs": [],
   "source": [
    "# copying the dataframes\n",
    "# dfc means 'DataFrame Cleaned/Cleaning/to be Cleaned'\n",
    "dfc_twitenh = df_twitenh.copy()\n",
    "dfc_twitxtra = df_twitxtra.copy()\n",
    "dfc_imgpre = df_imgpre.copy()"
   ]
  },
  {
   "cell_type": "markdown",
   "metadata": {},
   "source": [
    "Next we'll define a custom function to programmatically test if a cleaning step was successful.\n",
    "The function iterates over a column and checks if every item in that column matches a condition. As soon as a mismatch is found, the function tells us the test failed and it breaks. Otherwise, it tells us that the test passed."
   ]
  },
  {
   "cell_type": "code",
   "execution_count": 47,
   "metadata": {},
   "outputs": [],
   "source": [
    "# works for one kind of test\n",
    "def column_assert(column,cond_pass):\n",
    "    \"\"\"supply the column as a series object or array\n",
    "    cond_pass is a function that checks if the item passes the test\n",
    "    \"\"\"\n",
    "    passed = True\n",
    "    for item in column:\n",
    "        if not cond_pass(item):\n",
    "            print(f\"Test failed. {item} found.\")\n",
    "            passed = False\n",
    "            break\n",
    "    if passed:\n",
    "        print(\"Test passed.\")"
   ]
  },
  {
   "cell_type": "markdown",
   "metadata": {},
   "source": [
    "Now we can start cleaning these copies."
   ]
  },
  {
   "cell_type": "markdown",
   "metadata": {},
   "source": [
    "### Issue #1: Tweet data is scattered across different tables."
   ]
  },
  {
   "cell_type": "markdown",
   "metadata": {},
   "source": [
    "#### Define: Join the Enhanced Twitter Archive and the Extra Twitter Info dataframes using pandas' merge function."
   ]
  },
  {
   "cell_type": "markdown",
   "metadata": {},
   "source": [
    "#### Code"
   ]
  },
  {
   "cell_type": "code",
   "execution_count": 48,
   "metadata": {},
   "outputs": [
    {
     "data": {
      "text/plain": [
       "Index(['tweet_id', 'id_str', 'retweet_count', 'favorite_count',\n",
       "       'retweeted_status', 'quoted_status'],\n",
       "      dtype='object')"
      ]
     },
     "execution_count": 48,
     "metadata": {},
     "output_type": "execute_result"
    }
   ],
   "source": [
    "# rename the columns in twitxtra\n",
    "dfc_twitxtra.rename(columns={'id':'tweet_id'}, inplace=True)\n",
    "dfc_twitxtra.columns"
   ]
  },
  {
   "cell_type": "code",
   "execution_count": 49,
   "metadata": {},
   "outputs": [],
   "source": [
    "# Now merge the columns on id.\n",
    "dfc_tweets = pd.merge(dfc_twitenh, dfc_twitxtra, on='tweet_id')"
   ]
  },
  {
   "cell_type": "markdown",
   "metadata": {},
   "source": [
    "#### Test"
   ]
  },
  {
   "cell_type": "code",
   "execution_count": 50,
   "metadata": {},
   "outputs": [
    {
     "name": "stdout",
     "output_type": "stream",
     "text": [
      "<class 'pandas.core.frame.DataFrame'>\n",
      "Int64Index: 2354 entries, 0 to 2353\n",
      "Data columns (total 22 columns):\n",
      "tweet_id                      2354 non-null int64\n",
      "in_reply_to_status_id         78 non-null float64\n",
      "in_reply_to_user_id           78 non-null float64\n",
      "timestamp                     2354 non-null object\n",
      "source                        2354 non-null object\n",
      "text                          2354 non-null object\n",
      "retweeted_status_id           179 non-null float64\n",
      "retweeted_status_user_id      179 non-null float64\n",
      "retweeted_status_timestamp    179 non-null object\n",
      "expanded_urls                 2295 non-null object\n",
      "rating_numerator              2354 non-null int64\n",
      "rating_denominator            2354 non-null int64\n",
      "name                          2354 non-null object\n",
      "doggo                         2354 non-null object\n",
      "floofer                       2354 non-null object\n",
      "pupper                        2354 non-null object\n",
      "puppo                         2354 non-null object\n",
      "id_str                        2354 non-null object\n",
      "retweet_count                 2354 non-null int64\n",
      "favorite_count                2354 non-null int64\n",
      "retweeted_status              179 non-null object\n",
      "quoted_status                 28 non-null object\n",
      "dtypes: float64(4), int64(5), object(13)\n",
      "memory usage: 423.0+ KB\n"
     ]
    }
   ],
   "source": [
    "# check the columns\n",
    "dfc_tweets.info()"
   ]
  },
  {
   "cell_type": "markdown",
   "metadata": {},
   "source": [
    "### Issue #2: Retweets, quotes and replies present in the composite dataframe."
   ]
  },
  {
   "cell_type": "markdown",
   "metadata": {},
   "source": [
    "#### Define: Filter the dataframe for only null retweeted_status, quoted_status, etc. values."
   ]
  },
  {
   "cell_type": "markdown",
   "metadata": {},
   "source": [
    "#### Code"
   ]
  },
  {
   "cell_type": "code",
   "execution_count": 51,
   "metadata": {},
   "outputs": [],
   "source": [
    "# filter away the retweets, quotes and replies\n",
    "dfc_tweets = dfc_tweets[dfc_tweets['retweeted_status'].isnull()]\n",
    "dfc_tweets = dfc_tweets[dfc_tweets['quoted_status'].isnull()]\n",
    "dfc_tweets = dfc_tweets[dfc_tweets['in_reply_to_user_id'].isnull()]\n",
    "dfc_tweets = dfc_tweets[dfc_tweets['in_reply_to_status_id'].isnull()]"
   ]
  },
  {
   "cell_type": "markdown",
   "metadata": {},
   "source": [
    "#### Test"
   ]
  },
  {
   "cell_type": "code",
   "execution_count": 52,
   "metadata": {},
   "outputs": [
    {
     "name": "stdout",
     "output_type": "stream",
     "text": [
      "<class 'pandas.core.frame.DataFrame'>\n",
      "Int64Index: 2069 entries, 0 to 2353\n",
      "Data columns (total 22 columns):\n",
      "tweet_id                      2069 non-null int64\n",
      "in_reply_to_status_id         0 non-null float64\n",
      "in_reply_to_user_id           0 non-null float64\n",
      "timestamp                     2069 non-null object\n",
      "source                        2069 non-null object\n",
      "text                          2069 non-null object\n",
      "retweeted_status_id           0 non-null float64\n",
      "retweeted_status_user_id      0 non-null float64\n",
      "retweeted_status_timestamp    0 non-null object\n",
      "expanded_urls                 2066 non-null object\n",
      "rating_numerator              2069 non-null int64\n",
      "rating_denominator            2069 non-null int64\n",
      "name                          2069 non-null object\n",
      "doggo                         2069 non-null object\n",
      "floofer                       2069 non-null object\n",
      "pupper                        2069 non-null object\n",
      "puppo                         2069 non-null object\n",
      "id_str                        2069 non-null object\n",
      "retweet_count                 2069 non-null int64\n",
      "favorite_count                2069 non-null int64\n",
      "retweeted_status              0 non-null object\n",
      "quoted_status                 0 non-null object\n",
      "dtypes: float64(4), int64(5), object(13)\n",
      "memory usage: 371.8+ KB\n"
     ]
    }
   ],
   "source": [
    "# visual assessment - check if retweeted_status etc are non-null\n",
    "dfc_tweets.info()"
   ]
  },
  {
   "cell_type": "markdown",
   "metadata": {},
   "source": [
    "### Issue #3: The same information (originality of tweet) is scattered across multiple columns."
   ]
  },
  {
   "cell_type": "markdown",
   "metadata": {},
   "source": [
    "#### Define: Remove extraneous columns by using the drop() method."
   ]
  },
  {
   "cell_type": "markdown",
   "metadata": {},
   "source": [
    "#### Code\n",
    "Since all the columns indicating the originality of the tweet have served their purpose, we can exclude them from the dataframe.\n",
    "From visual assessment we know that these are the only majority-null columns in the combined dataframe, so we can fetch them programmatically using a test."
   ]
  },
  {
   "cell_type": "code",
   "execution_count": 53,
   "metadata": {},
   "outputs": [],
   "source": [
    "# define a test\n",
    "def is_mostly_null(series):\n",
    "    threshold = 0.5*len(series) # half is an arbitrary choice\n",
    "    count = series.isnull().sum() # how many null values are there?\n",
    "    return count>=threshold # ie at least as many of these are null"
   ]
  },
  {
   "cell_type": "code",
   "execution_count": 54,
   "metadata": {},
   "outputs": [],
   "source": [
    "# drop these columns\n",
    "drop_these = []\n",
    "for col in dfc_tweets.columns:\n",
    "    if is_mostly_null(dfc_tweets[col]):\n",
    "        drop_these.append(col)"
   ]
  },
  {
   "cell_type": "code",
   "execution_count": 55,
   "metadata": {},
   "outputs": [
    {
     "name": "stdout",
     "output_type": "stream",
     "text": [
      "['in_reply_to_status_id', 'in_reply_to_user_id', 'retweeted_status_id', 'retweeted_status_user_id', 'retweeted_status_timestamp', 'retweeted_status', 'quoted_status']\n"
     ]
    }
   ],
   "source": [
    "# which ones are mostly null?\n",
    "print(drop_these)"
   ]
  },
  {
   "cell_type": "code",
   "execution_count": 56,
   "metadata": {},
   "outputs": [],
   "source": [
    "# Now we can drop them.\n",
    "for col in drop_these:\n",
    "    if col not in dfc_tweets.columns: # if one is absent, skip it\n",
    "        continue\n",
    "    elif col in dfc_tweets.columns:\n",
    "        dfc_tweets.drop(col, axis=1, inplace=True)"
   ]
  },
  {
   "cell_type": "markdown",
   "metadata": {},
   "source": [
    "#### Test"
   ]
  },
  {
   "cell_type": "code",
   "execution_count": 57,
   "metadata": {},
   "outputs": [
    {
     "name": "stdout",
     "output_type": "stream",
     "text": [
      "<class 'pandas.core.frame.DataFrame'>\n",
      "Int64Index: 2069 entries, 0 to 2353\n",
      "Data columns (total 15 columns):\n",
      "tweet_id              2069 non-null int64\n",
      "timestamp             2069 non-null object\n",
      "source                2069 non-null object\n",
      "text                  2069 non-null object\n",
      "expanded_urls         2066 non-null object\n",
      "rating_numerator      2069 non-null int64\n",
      "rating_denominator    2069 non-null int64\n",
      "name                  2069 non-null object\n",
      "doggo                 2069 non-null object\n",
      "floofer               2069 non-null object\n",
      "pupper                2069 non-null object\n",
      "puppo                 2069 non-null object\n",
      "id_str                2069 non-null object\n",
      "retweet_count         2069 non-null int64\n",
      "favorite_count        2069 non-null int64\n",
      "dtypes: int64(5), object(10)\n",
      "memory usage: 258.6+ KB\n"
     ]
    }
   ],
   "source": [
    "# visually assess\n",
    "dfc_tweets.info()"
   ]
  },
  {
   "cell_type": "code",
   "execution_count": 58,
   "metadata": {},
   "outputs": [
    {
     "data": {
      "text/html": [
       "<div>\n",
       "<style scoped>\n",
       "    .dataframe tbody tr th:only-of-type {\n",
       "        vertical-align: middle;\n",
       "    }\n",
       "\n",
       "    .dataframe tbody tr th {\n",
       "        vertical-align: top;\n",
       "    }\n",
       "\n",
       "    .dataframe thead th {\n",
       "        text-align: right;\n",
       "    }\n",
       "</style>\n",
       "<table border=\"1\" class=\"dataframe\">\n",
       "  <thead>\n",
       "    <tr style=\"text-align: right;\">\n",
       "      <th></th>\n",
       "      <th>tweet_id</th>\n",
       "      <th>timestamp</th>\n",
       "      <th>source</th>\n",
       "      <th>text</th>\n",
       "      <th>expanded_urls</th>\n",
       "      <th>rating_numerator</th>\n",
       "      <th>rating_denominator</th>\n",
       "      <th>name</th>\n",
       "      <th>doggo</th>\n",
       "      <th>floofer</th>\n",
       "      <th>pupper</th>\n",
       "      <th>puppo</th>\n",
       "      <th>id_str</th>\n",
       "      <th>retweet_count</th>\n",
       "      <th>favorite_count</th>\n",
       "    </tr>\n",
       "  </thead>\n",
       "  <tbody>\n",
       "    <tr>\n",
       "      <th>1187</th>\n",
       "      <td>718246886998687744</td>\n",
       "      <td>2016-04-08 01:19:36 +0000</td>\n",
       "      <td>&lt;a href=\"http://twitter.com/download/iphone\" r...</td>\n",
       "      <td>This is Alexanderson. He's got a weird ass bir...</td>\n",
       "      <td>https://twitter.com/dog_rates/status/718246886...</td>\n",
       "      <td>3</td>\n",
       "      <td>10</td>\n",
       "      <td>Alexanderson</td>\n",
       "      <td>None</td>\n",
       "      <td>None</td>\n",
       "      <td>None</td>\n",
       "      <td>None</td>\n",
       "      <td>718246886998687744</td>\n",
       "      <td>565</td>\n",
       "      <td>2115</td>\n",
       "    </tr>\n",
       "    <tr>\n",
       "      <th>835</th>\n",
       "      <td>767754930266464257</td>\n",
       "      <td>2016-08-22 16:06:54 +0000</td>\n",
       "      <td>&lt;a href=\"http://twitter.com/download/iphone\" r...</td>\n",
       "      <td>This is Philbert. His toilet broke and he does...</td>\n",
       "      <td>https://twitter.com/dog_rates/status/767754930...</td>\n",
       "      <td>11</td>\n",
       "      <td>10</td>\n",
       "      <td>Philbert</td>\n",
       "      <td>None</td>\n",
       "      <td>None</td>\n",
       "      <td>None</td>\n",
       "      <td>None</td>\n",
       "      <td>767754930266464257</td>\n",
       "      <td>6221</td>\n",
       "      <td>17814</td>\n",
       "    </tr>\n",
       "    <tr>\n",
       "      <th>1525</th>\n",
       "      <td>690360449368465409</td>\n",
       "      <td>2016-01-22 02:28:52 +0000</td>\n",
       "      <td>&lt;a href=\"http://twitter.com/download/iphone\" r...</td>\n",
       "      <td>Stop sending in lobsters. This is the final wa...</td>\n",
       "      <td>https://twitter.com/dog_rates/status/690360449...</td>\n",
       "      <td>9</td>\n",
       "      <td>10</td>\n",
       "      <td>the</td>\n",
       "      <td>None</td>\n",
       "      <td>None</td>\n",
       "      <td>None</td>\n",
       "      <td>None</td>\n",
       "      <td>690360449368465409</td>\n",
       "      <td>1006</td>\n",
       "      <td>2925</td>\n",
       "    </tr>\n",
       "    <tr>\n",
       "      <th>1651</th>\n",
       "      <td>683462770029932544</td>\n",
       "      <td>2016-01-03 01:39:57 +0000</td>\n",
       "      <td>&lt;a href=\"http://twitter.com/download/iphone\" r...</td>\n",
       "      <td>\"Hello forest pupper I am house pupper welcome...</td>\n",
       "      <td>https://twitter.com/dog_rates/status/683462770...</td>\n",
       "      <td>8</td>\n",
       "      <td>10</td>\n",
       "      <td>None</td>\n",
       "      <td>None</td>\n",
       "      <td>None</td>\n",
       "      <td>pupper</td>\n",
       "      <td>None</td>\n",
       "      <td>683462770029932544</td>\n",
       "      <td>761</td>\n",
       "      <td>2676</td>\n",
       "    </tr>\n",
       "    <tr>\n",
       "      <th>686</th>\n",
       "      <td>788039637453406209</td>\n",
       "      <td>2016-10-17 15:31:05 +0000</td>\n",
       "      <td>&lt;a href=\"http://twitter.com/download/iphone\" r...</td>\n",
       "      <td>Did... did they pick out that license plate? 1...</td>\n",
       "      <td>https://twitter.com/dog_rates/status/788039637...</td>\n",
       "      <td>12</td>\n",
       "      <td>10</td>\n",
       "      <td>None</td>\n",
       "      <td>None</td>\n",
       "      <td>None</td>\n",
       "      <td>None</td>\n",
       "      <td>None</td>\n",
       "      <td>788039637453406209</td>\n",
       "      <td>1535</td>\n",
       "      <td>6867</td>\n",
       "    </tr>\n",
       "  </tbody>\n",
       "</table>\n",
       "</div>"
      ],
      "text/plain": [
       "                tweet_id                  timestamp  \\\n",
       "1187  718246886998687744  2016-04-08 01:19:36 +0000   \n",
       "835   767754930266464257  2016-08-22 16:06:54 +0000   \n",
       "1525  690360449368465409  2016-01-22 02:28:52 +0000   \n",
       "1651  683462770029932544  2016-01-03 01:39:57 +0000   \n",
       "686   788039637453406209  2016-10-17 15:31:05 +0000   \n",
       "\n",
       "                                                 source  \\\n",
       "1187  <a href=\"http://twitter.com/download/iphone\" r...   \n",
       "835   <a href=\"http://twitter.com/download/iphone\" r...   \n",
       "1525  <a href=\"http://twitter.com/download/iphone\" r...   \n",
       "1651  <a href=\"http://twitter.com/download/iphone\" r...   \n",
       "686   <a href=\"http://twitter.com/download/iphone\" r...   \n",
       "\n",
       "                                                   text  \\\n",
       "1187  This is Alexanderson. He's got a weird ass bir...   \n",
       "835   This is Philbert. His toilet broke and he does...   \n",
       "1525  Stop sending in lobsters. This is the final wa...   \n",
       "1651  \"Hello forest pupper I am house pupper welcome...   \n",
       "686   Did... did they pick out that license plate? 1...   \n",
       "\n",
       "                                          expanded_urls  rating_numerator  \\\n",
       "1187  https://twitter.com/dog_rates/status/718246886...                 3   \n",
       "835   https://twitter.com/dog_rates/status/767754930...                11   \n",
       "1525  https://twitter.com/dog_rates/status/690360449...                 9   \n",
       "1651  https://twitter.com/dog_rates/status/683462770...                 8   \n",
       "686   https://twitter.com/dog_rates/status/788039637...                12   \n",
       "\n",
       "      rating_denominator          name doggo floofer  pupper puppo  \\\n",
       "1187                  10  Alexanderson  None    None    None  None   \n",
       "835                   10      Philbert  None    None    None  None   \n",
       "1525                  10           the  None    None    None  None   \n",
       "1651                  10          None  None    None  pupper  None   \n",
       "686                   10          None  None    None    None  None   \n",
       "\n",
       "                  id_str  retweet_count  favorite_count  \n",
       "1187  718246886998687744            565            2115  \n",
       "835   767754930266464257           6221           17814  \n",
       "1525  690360449368465409           1006            2925  \n",
       "1651  683462770029932544            761            2676  \n",
       "686   788039637453406209           1535            6867  "
      ]
     },
     "execution_count": 58,
     "metadata": {},
     "output_type": "execute_result"
    }
   ],
   "source": [
    "# a bit more visual assessment\n",
    "dfc_tweets.sample(5,random_state=7)"
   ]
  },
  {
   "cell_type": "markdown",
   "metadata": {},
   "source": [
    "### Issue #4: Dates are not in Datetime format"
   ]
  },
  {
   "cell_type": "markdown",
   "metadata": {},
   "source": [
    "#### Define: Convert the dates in timestamp column to datetimes objects using pd's to_datetime function."
   ]
  },
  {
   "cell_type": "markdown",
   "metadata": {},
   "source": [
    "#### Code"
   ]
  },
  {
   "cell_type": "code",
   "execution_count": 59,
   "metadata": {},
   "outputs": [],
   "source": [
    "# convert to dtime\n",
    "dfc_tweets['timestamp'] = pd.to_datetime(dfc_tweets['timestamp'])"
   ]
  },
  {
   "cell_type": "markdown",
   "metadata": {},
   "source": [
    "#### Test"
   ]
  },
  {
   "cell_type": "code",
   "execution_count": 60,
   "metadata": {},
   "outputs": [
    {
     "data": {
      "text/plain": [
       "1187   2016-04-08 01:19:36\n",
       "835    2016-08-22 16:06:54\n",
       "1525   2016-01-22 02:28:52\n",
       "1651   2016-01-03 01:39:57\n",
       "686    2016-10-17 15:31:05\n",
       "Name: timestamp, dtype: datetime64[ns]"
      ]
     },
     "execution_count": 60,
     "metadata": {},
     "output_type": "execute_result"
    }
   ],
   "source": [
    "# visual inspection of timestamp\n",
    "dfc_tweets['timestamp'].sample(5,random_state=7)"
   ]
  },
  {
   "cell_type": "code",
   "execution_count": 61,
   "metadata": {},
   "outputs": [
    {
     "data": {
      "text/plain": [
       "tweet_id                       int64\n",
       "timestamp             datetime64[ns]\n",
       "source                        object\n",
       "text                          object\n",
       "expanded_urls                 object\n",
       "rating_numerator               int64\n",
       "rating_denominator             int64\n",
       "name                          object\n",
       "doggo                         object\n",
       "floofer                       object\n",
       "pupper                        object\n",
       "puppo                         object\n",
       "id_str                        object\n",
       "retweet_count                  int64\n",
       "favorite_count                 int64\n",
       "dtype: object"
      ]
     },
     "execution_count": 61,
     "metadata": {},
     "output_type": "execute_result"
    }
   ],
   "source": [
    "# what type is the timestamp column?\n",
    "dfc_tweets.dtypes"
   ]
  },
  {
   "cell_type": "markdown",
   "metadata": {},
   "source": [
    "### Issue #5: Some tweets have denominators other than 10."
   ]
  },
  {
   "cell_type": "markdown",
   "metadata": {
    "collapsed": true,
    "extensions": {
     "jupyter_dashboards": {
      "version": 1,
      "views": {
       "grid_default": {
        "hidden": true
       },
       "report_default": {
        "hidden": true
       }
      }
     }
    }
   },
   "source": [
    "#### Define: Try to extract the proper rating for the dog using regex. If that fails, remove the rows."
   ]
  },
  {
   "cell_type": "markdown",
   "metadata": {},
   "source": [
    "#### Code\n",
    "Regex (Regular Expressions) will help us with this aspect.\n",
    "For the sake of presentation and explicitness, we'll reproduce some code we used in the assessment stage."
   ]
  },
  {
   "cell_type": "code",
   "execution_count": 62,
   "metadata": {},
   "outputs": [],
   "source": [
    "# A function to extract the rating from tweet text using regex.\n",
    "# first describe the text pattern of a rating.\n",
    "rx = re.compile(r\"[0-9]+?[/\\\\]10\")\n",
    "def get_rating(text):\n",
    "    # assumes there's only one rating\n",
    "    try:\n",
    "        rating_location = re.search(rx,text).span()\n",
    "        start_slicing = rating_location[0]\n",
    "        stop_slicing = rating_location[1]\n",
    "        return text[start_slicing:stop_slicing].strip()\n",
    "    except:\n",
    "        return None"
   ]
  },
  {
   "cell_type": "code",
   "execution_count": 63,
   "metadata": {},
   "outputs": [
    {
     "name": "stdout",
     "output_type": "stream",
     "text": [
      "[432, 515, 900, 1066, 1118, 1163, 1200, 1226, 1252, 1272, 1349, 1431, 1633, 1660, 1777, 1841, 2333]\n"
     ]
    }
   ],
   "source": [
    "# which rows have denominators other than 10?\n",
    "non10_rows = []\n",
    "\n",
    "# because we've dropped some rows, the indexing has changed.\n",
    "iterable = tuple(zip(dfc_tweets.index, dfc_tweets['rating_denominator']))\n",
    "for pair in iterable:\n",
    "    ind = pair[0]\n",
    "    val = pair[1]\n",
    "    if val != 10:\n",
    "        non10_rows.append(ind)\n",
    "print(non10_rows)"
   ]
  },
  {
   "cell_type": "markdown",
   "metadata": {},
   "source": [
    "Next, we will select the numerator of the ratings using regex once again.\n",
    "Because of the strict definition of our original regular expression...\n",
    "- \\[0-9\\]+?[/\\\\]10, which means \"one or more digits, then a single forward or back slash, then the string '10'\n",
    "\n",
    "...all we have to do is just collect the first few digits of any rating we got. The denominators are guaranteed to be 10. We'll select the last two characters of each string just to be sure."
   ]
  },
  {
   "cell_type": "code",
   "execution_count": 64,
   "metadata": {},
   "outputs": [],
   "source": [
    "# match the first few digits\n",
    "def get_numerator(full_rating):\n",
    "    match = re.match(r\"[0-9]+\", full_rating).span()\n",
    "    start_slicing = match[0]\n",
    "    stop_slicing = match[1]\n",
    "    return full_rating[start_slicing:stop_slicing]"
   ]
  },
  {
   "cell_type": "code",
   "execution_count": 65,
   "metadata": {},
   "outputs": [
    {
     "name": "stdout",
     "output_type": "stream",
     "text": [
      "full rating--> 14/10 numerator--> 14 denominator--> 10\n",
      "full rating--> 13/10 numerator--> 13 denominator--> 10\n",
      "full rating--> 11/10 numerator--> 11 denominator--> 10\n",
      "full rating--> 10/10 numerator--> 10 denominator--> 10\n",
      "full rating--> 9/10 numerator--> 9 denominator--> 10\n"
     ]
    }
   ],
   "source": [
    "# the test for our function\n",
    "for r in non10_rows:\n",
    "    rating = get_rating(dfc_tweets['text'][r])\n",
    "    if rating:\n",
    "        print('full rating-->', rating,\n",
    "              'numerator-->', get_numerator(rating),\n",
    "             'denominator-->', rating[-2:])"
   ]
  },
  {
   "cell_type": "markdown",
   "metadata": {},
   "source": [
    "Now we can supply some of the unavailable ratings."
   ]
  },
  {
   "cell_type": "code",
   "execution_count": 66,
   "metadata": {},
   "outputs": [],
   "source": [
    "# if denominator is not 10, change the value of the numerator and denominator\n",
    "for r in non10_rows:\n",
    "    rating = get_rating(dfc_tweets['text'][r])\n",
    "    if rating:\n",
    "        dfc_tweets.at[r,'rating_numerator'] = int(get_numerator(rating))\n",
    "        dfc_tweets.at[r,'rating_denominator'] = 10 # we've seen it's 10."
   ]
  },
  {
   "cell_type": "code",
   "execution_count": 67,
   "metadata": {},
   "outputs": [],
   "source": [
    "# now filter those rows which have a denominator of 10\n",
    "dfc_tweets = dfc_tweets[dfc_tweets['rating_denominator']==10]"
   ]
  },
  {
   "cell_type": "markdown",
   "metadata": {},
   "source": [
    "#### Test"
   ]
  },
  {
   "cell_type": "code",
   "execution_count": 68,
   "metadata": {},
   "outputs": [
    {
     "name": "stdout",
     "output_type": "stream",
     "text": [
      "Test passed.\n"
     ]
    }
   ],
   "source": [
    "# do the test\n",
    "# condition is anonymous lambda function.\n",
    "column_assert(dfc_tweets['rating_denominator'], lambda x:x==10)"
   ]
  },
  {
   "cell_type": "markdown",
   "metadata": {},
   "source": [
    "### Issue #6: The dog species in the image predictions dataframe have inconsistent case"
   ]
  },
  {
   "cell_type": "markdown",
   "metadata": {},
   "source": [
    "#### Define: Use pandas built-in methods to change all species names to lowercase."
   ]
  },
  {
   "cell_type": "markdown",
   "metadata": {},
   "source": [
    "#### Code"
   ]
  },
  {
   "cell_type": "code",
   "execution_count": 69,
   "metadata": {},
   "outputs": [],
   "source": [
    "# columns to change\n",
    "cols = ['p1','p2','p3']\n",
    "for col in cols:\n",
    "    dfc_imgpre[col] = tuple(map(lambda s:s.lower(), dfc_imgpre[col]))"
   ]
  },
  {
   "cell_type": "markdown",
   "metadata": {},
   "source": [
    "#### Test"
   ]
  },
  {
   "cell_type": "code",
   "execution_count": 70,
   "metadata": {},
   "outputs": [
    {
     "data": {
      "text/html": [
       "<div>\n",
       "<style scoped>\n",
       "    .dataframe tbody tr th:only-of-type {\n",
       "        vertical-align: middle;\n",
       "    }\n",
       "\n",
       "    .dataframe tbody tr th {\n",
       "        vertical-align: top;\n",
       "    }\n",
       "\n",
       "    .dataframe thead th {\n",
       "        text-align: right;\n",
       "    }\n",
       "</style>\n",
       "<table border=\"1\" class=\"dataframe\">\n",
       "  <thead>\n",
       "    <tr style=\"text-align: right;\">\n",
       "      <th></th>\n",
       "      <th>tweet_id</th>\n",
       "      <th>jpg_url</th>\n",
       "      <th>img_num</th>\n",
       "      <th>p1</th>\n",
       "      <th>p1_conf</th>\n",
       "      <th>p1_dog</th>\n",
       "      <th>p2</th>\n",
       "      <th>p2_conf</th>\n",
       "      <th>p2_dog</th>\n",
       "      <th>p3</th>\n",
       "      <th>p3_conf</th>\n",
       "      <th>p3_dog</th>\n",
       "    </tr>\n",
       "  </thead>\n",
       "  <tbody>\n",
       "    <tr>\n",
       "      <th>1590</th>\n",
       "      <td>798644042770751489</td>\n",
       "      <td>https://pbs.twimg.com/media/CU3mITUWIAAfyQS.jpg</td>\n",
       "      <td>1</td>\n",
       "      <td>english_springer</td>\n",
       "      <td>0.403698</td>\n",
       "      <td>True</td>\n",
       "      <td>brittany_spaniel</td>\n",
       "      <td>0.347609</td>\n",
       "      <td>True</td>\n",
       "      <td>welsh_springer_spaniel</td>\n",
       "      <td>0.137186</td>\n",
       "      <td>True</td>\n",
       "    </tr>\n",
       "    <tr>\n",
       "      <th>55</th>\n",
       "      <td>667062181243039745</td>\n",
       "      <td>https://pbs.twimg.com/media/CUHhgvHUAAA4aB0.jpg</td>\n",
       "      <td>1</td>\n",
       "      <td>chesapeake_bay_retriever</td>\n",
       "      <td>0.825678</td>\n",
       "      <td>True</td>\n",
       "      <td>vizsla</td>\n",
       "      <td>0.090998</td>\n",
       "      <td>True</td>\n",
       "      <td>kelpie</td>\n",
       "      <td>0.022956</td>\n",
       "      <td>True</td>\n",
       "    </tr>\n",
       "    <tr>\n",
       "      <th>499</th>\n",
       "      <td>675822767435051008</td>\n",
       "      <td>https://pbs.twimg.com/media/CWEBOFYWwAA-O2c.jpg</td>\n",
       "      <td>1</td>\n",
       "      <td>pomeranian</td>\n",
       "      <td>0.460710</td>\n",
       "      <td>True</td>\n",
       "      <td>chow</td>\n",
       "      <td>0.202765</td>\n",
       "      <td>True</td>\n",
       "      <td>pekinese</td>\n",
       "      <td>0.133266</td>\n",
       "      <td>True</td>\n",
       "    </tr>\n",
       "    <tr>\n",
       "      <th>1794</th>\n",
       "      <td>831309418084069378</td>\n",
       "      <td>https://pbs.twimg.com/media/C4lngK5VUAEVrNO.jpg</td>\n",
       "      <td>1</td>\n",
       "      <td>doberman</td>\n",
       "      <td>0.369389</td>\n",
       "      <td>True</td>\n",
       "      <td>kelpie</td>\n",
       "      <td>0.132449</td>\n",
       "      <td>True</td>\n",
       "      <td>labrador_retriever</td>\n",
       "      <td>0.074727</td>\n",
       "      <td>True</td>\n",
       "    </tr>\n",
       "    <tr>\n",
       "      <th>77</th>\n",
       "      <td>667437278097252352</td>\n",
       "      <td>https://pbs.twimg.com/media/CUM2qWaWoAUZ06L.jpg</td>\n",
       "      <td>1</td>\n",
       "      <td>porcupine</td>\n",
       "      <td>0.989154</td>\n",
       "      <td>False</td>\n",
       "      <td>bath_towel</td>\n",
       "      <td>0.006300</td>\n",
       "      <td>False</td>\n",
       "      <td>badger</td>\n",
       "      <td>0.000966</td>\n",
       "      <td>False</td>\n",
       "    </tr>\n",
       "    <tr>\n",
       "      <th>356</th>\n",
       "      <td>672604026190569472</td>\n",
       "      <td>https://pbs.twimg.com/media/CVWRyylWIAAMltv.jpg</td>\n",
       "      <td>1</td>\n",
       "      <td>toy_poodle</td>\n",
       "      <td>0.820158</td>\n",
       "      <td>True</td>\n",
       "      <td>miniature_poodle</td>\n",
       "      <td>0.178404</td>\n",
       "      <td>True</td>\n",
       "      <td>toilet_tissue</td>\n",
       "      <td>0.000291</td>\n",
       "      <td>False</td>\n",
       "    </tr>\n",
       "    <tr>\n",
       "      <th>1508</th>\n",
       "      <td>785872687017132033</td>\n",
       "      <td>https://pbs.twimg.com/ext_tw_video_thumb/78587...</td>\n",
       "      <td>1</td>\n",
       "      <td>great_pyrenees</td>\n",
       "      <td>0.392108</td>\n",
       "      <td>True</td>\n",
       "      <td>golden_retriever</td>\n",
       "      <td>0.198358</td>\n",
       "      <td>True</td>\n",
       "      <td>pekinese</td>\n",
       "      <td>0.143328</td>\n",
       "      <td>True</td>\n",
       "    </tr>\n",
       "    <tr>\n",
       "      <th>333</th>\n",
       "      <td>672160042234327040</td>\n",
       "      <td>https://pbs.twimg.com/media/CVP9_beUEAAwURR.jpg</td>\n",
       "      <td>1</td>\n",
       "      <td>pug</td>\n",
       "      <td>0.561027</td>\n",
       "      <td>True</td>\n",
       "      <td>french_bulldog</td>\n",
       "      <td>0.222114</td>\n",
       "      <td>True</td>\n",
       "      <td>labrador_retriever</td>\n",
       "      <td>0.065456</td>\n",
       "      <td>True</td>\n",
       "    </tr>\n",
       "    <tr>\n",
       "      <th>2057</th>\n",
       "      <td>888804989199671297</td>\n",
       "      <td>https://pbs.twimg.com/media/DFWra-3VYAA2piG.jpg</td>\n",
       "      <td>1</td>\n",
       "      <td>golden_retriever</td>\n",
       "      <td>0.469760</td>\n",
       "      <td>True</td>\n",
       "      <td>labrador_retriever</td>\n",
       "      <td>0.184172</td>\n",
       "      <td>True</td>\n",
       "      <td>english_setter</td>\n",
       "      <td>0.073482</td>\n",
       "      <td>True</td>\n",
       "    </tr>\n",
       "    <tr>\n",
       "      <th>1197</th>\n",
       "      <td>740676976021798912</td>\n",
       "      <td>https://pbs.twimg.com/media/Ckdpx5KWsAANF6b.jpg</td>\n",
       "      <td>1</td>\n",
       "      <td>wombat</td>\n",
       "      <td>0.462952</td>\n",
       "      <td>False</td>\n",
       "      <td>norwegian_elkhound</td>\n",
       "      <td>0.275225</td>\n",
       "      <td>True</td>\n",
       "      <td>siamese_cat</td>\n",
       "      <td>0.043559</td>\n",
       "      <td>False</td>\n",
       "    </tr>\n",
       "  </tbody>\n",
       "</table>\n",
       "</div>"
      ],
      "text/plain": [
       "                tweet_id                                            jpg_url  \\\n",
       "1590  798644042770751489    https://pbs.twimg.com/media/CU3mITUWIAAfyQS.jpg   \n",
       "55    667062181243039745    https://pbs.twimg.com/media/CUHhgvHUAAA4aB0.jpg   \n",
       "499   675822767435051008    https://pbs.twimg.com/media/CWEBOFYWwAA-O2c.jpg   \n",
       "1794  831309418084069378    https://pbs.twimg.com/media/C4lngK5VUAEVrNO.jpg   \n",
       "77    667437278097252352    https://pbs.twimg.com/media/CUM2qWaWoAUZ06L.jpg   \n",
       "356   672604026190569472    https://pbs.twimg.com/media/CVWRyylWIAAMltv.jpg   \n",
       "1508  785872687017132033  https://pbs.twimg.com/ext_tw_video_thumb/78587...   \n",
       "333   672160042234327040    https://pbs.twimg.com/media/CVP9_beUEAAwURR.jpg   \n",
       "2057  888804989199671297    https://pbs.twimg.com/media/DFWra-3VYAA2piG.jpg   \n",
       "1197  740676976021798912    https://pbs.twimg.com/media/Ckdpx5KWsAANF6b.jpg   \n",
       "\n",
       "      img_num                        p1   p1_conf  p1_dog                  p2  \\\n",
       "1590        1          english_springer  0.403698    True    brittany_spaniel   \n",
       "55          1  chesapeake_bay_retriever  0.825678    True              vizsla   \n",
       "499         1                pomeranian  0.460710    True                chow   \n",
       "1794        1                  doberman  0.369389    True              kelpie   \n",
       "77          1                 porcupine  0.989154   False          bath_towel   \n",
       "356         1                toy_poodle  0.820158    True    miniature_poodle   \n",
       "1508        1            great_pyrenees  0.392108    True    golden_retriever   \n",
       "333         1                       pug  0.561027    True      french_bulldog   \n",
       "2057        1          golden_retriever  0.469760    True  labrador_retriever   \n",
       "1197        1                    wombat  0.462952   False  norwegian_elkhound   \n",
       "\n",
       "       p2_conf  p2_dog                      p3   p3_conf  p3_dog  \n",
       "1590  0.347609    True  welsh_springer_spaniel  0.137186    True  \n",
       "55    0.090998    True                  kelpie  0.022956    True  \n",
       "499   0.202765    True                pekinese  0.133266    True  \n",
       "1794  0.132449    True      labrador_retriever  0.074727    True  \n",
       "77    0.006300   False                  badger  0.000966   False  \n",
       "356   0.178404    True           toilet_tissue  0.000291   False  \n",
       "1508  0.198358    True                pekinese  0.143328    True  \n",
       "333   0.222114    True      labrador_retriever  0.065456    True  \n",
       "2057  0.184172    True          english_setter  0.073482    True  \n",
       "1197  0.275225    True             siamese_cat  0.043559   False  "
      ]
     },
     "execution_count": 70,
     "metadata": {},
     "output_type": "execute_result"
    }
   ],
   "source": [
    "# visual inspection\n",
    "dfc_imgpre.sample(10, random_state=9)"
   ]
  },
  {
   "cell_type": "code",
   "execution_count": 71,
   "metadata": {},
   "outputs": [
    {
     "name": "stdout",
     "output_type": "stream",
     "text": [
      "Test passed.\n",
      "Test passed.\n",
      "Test passed.\n"
     ]
    }
   ],
   "source": [
    "# run the test. Condition is implemented anonymously.\n",
    "for col in cols:\n",
    "    column_assert(dfc_imgpre[col], lambda s:s==s.lower())"
   ]
  },
  {
   "cell_type": "markdown",
   "metadata": {},
   "source": [
    "### Issue #7: Some dog names are unusual, or missing."
   ]
  },
  {
   "cell_type": "markdown",
   "metadata": {},
   "source": [
    "#### Define: Create a list of strange dog names, refine the list then replace the values with \"N/A\"\n",
    "N/A means \"Not Available\". \n",
    "Earlier in the Assessing stage, we defined a function to filter for strange dog names. We'll use the function again. It's worth noting that the function also selects names that are in lowercase. This means that all the names not caught in the net will necessarily be in title or uppercase."
   ]
  },
  {
   "cell_type": "markdown",
   "metadata": {},
   "source": [
    "#### Code"
   ]
  },
  {
   "cell_type": "code",
   "execution_count": 72,
   "metadata": {},
   "outputs": [
    {
     "name": "stdout",
     "output_type": "stream",
     "text": [
      "['None', 'such', 'a', 'quite', 'not', 'one', 'Mo', 'Bo', 'incredibly', 'O', 'very', 'Al', 'my', 'his', 'an', 'just', 'getting', 'mad', 'unacceptable', 'all', 'old', 'infuriating', 'the', 'actually', 'by', 'officially', 'life', 'Ed', 'light', 'space', 'JD', 'Jo']\n"
     ]
    }
   ],
   "source": [
    "# a filter for unusual dog names\n",
    "weird_dog_names = get_strange_names(dfc_tweets['name'].unique())\n",
    "print(weird_dog_names)"
   ]
  },
  {
   "cell_type": "markdown",
   "metadata": {},
   "source": [
    "Thankfully the list is small enough that we can manually remove the valid-looking dog names from the list. One common property is that all these valid names are two characters long and start with an uppercase character."
   ]
  },
  {
   "cell_type": "code",
   "execution_count": 73,
   "metadata": {},
   "outputs": [
    {
     "name": "stdout",
     "output_type": "stream",
     "text": [
      "['Mo', 'Bo', 'Al', 'Ed', 'JD', 'Jo']\n"
     ]
    }
   ],
   "source": [
    "# build a list of ok names\n",
    "ok_names = []\n",
    "for name in weird_dog_names:\n",
    "    cond = ((len(name)==2) and (name[0]==name[0].upper()))\n",
    "    if cond:\n",
    "        ok_names.append(name)\n",
    "print(ok_names)"
   ]
  },
  {
   "cell_type": "markdown",
   "metadata": {},
   "source": [
    "Now we can drop the acceptable names from the list of weird dog names."
   ]
  },
  {
   "cell_type": "code",
   "execution_count": 74,
   "metadata": {},
   "outputs": [],
   "source": [
    "# refine the list\n",
    "temp = []\n",
    "for name in weird_dog_names:\n",
    "    if name not in ok_names:\n",
    "        temp.append(name)\n",
    "weird_dog_names = temp.copy()"
   ]
  },
  {
   "cell_type": "code",
   "execution_count": 75,
   "metadata": {},
   "outputs": [
    {
     "name": "stdout",
     "output_type": "stream",
     "text": [
      "['None', 'such', 'a', 'quite', 'not', 'one', 'incredibly', 'O', 'very', 'my', 'his', 'an', 'just', 'getting', 'mad', 'unacceptable', 'all', 'old', 'infuriating', 'the', 'actually', 'by', 'officially', 'life', 'light', 'space']\n"
     ]
    }
   ],
   "source": [
    "# visual assessment\n",
    "print(weird_dog_names)"
   ]
  },
  {
   "cell_type": "markdown",
   "metadata": {},
   "source": [
    "Next we'll need the indices of all the rows where weird names are."
   ]
  },
  {
   "cell_type": "code",
   "execution_count": 76,
   "metadata": {},
   "outputs": [],
   "source": [
    "# get a list of indices for all weird names\n",
    "weird_names_indices = []\n",
    "\n",
    "# this is better than using enumerate\n",
    "for pair in tuple(zip(dfc_tweets.index,dfc_tweets['name'])):\n",
    "    ind = pair[0]\n",
    "    name = pair[1]\n",
    "    if name in weird_dog_names:\n",
    "        weird_names_indices.append(ind)"
   ]
  },
  {
   "cell_type": "code",
   "execution_count": 77,
   "metadata": {},
   "outputs": [
    {
     "name": "stdout",
     "output_type": "stream",
     "text": [
      "There are 669 rows with bad names.\n",
      "First few rows -->  [5, 7, 12, 21, 23, 24, 36, 40, 46, 55, 58, 61, 88, 92, 95, 98, 99, 102, 111, 124]\n"
     ]
    }
   ],
   "source": [
    "# visually assess\n",
    "if len(weird_names_indices)<30:\n",
    "    print(weird_names_indices)\n",
    "else:\n",
    "    print(\"There are\", len(weird_names_indices), \"rows with bad names.\")\n",
    "    print(\"First few rows --> \", weird_names_indices[0:20])"
   ]
  },
  {
   "cell_type": "markdown",
   "metadata": {},
   "source": [
    "Initially I planned to search the tweet text for the names using regex but there were too many false positives, and the number of rows was too much to manually clean so I just decided to replace the invalid names with \"N/A\"."
   ]
  },
  {
   "cell_type": "code",
   "execution_count": 78,
   "metadata": {},
   "outputs": [],
   "source": [
    "# comment here\n",
    "for ind in weird_names_indices:\n",
    "    dfc_tweets.at[ind,'name'] = 'N/A'"
   ]
  },
  {
   "cell_type": "markdown",
   "metadata": {},
   "source": [
    "#### Test"
   ]
  },
  {
   "cell_type": "code",
   "execution_count": 79,
   "metadata": {},
   "outputs": [
    {
     "data": {
      "text/plain": [
       "643        Newt\n",
       "267         N/A\n",
       "218       Riley\n",
       "89         Cash\n",
       "523        Kyro\n",
       "2144        N/A\n",
       "980         N/A\n",
       "851       Louie\n",
       "972     Jameson\n",
       "1227      Piper\n",
       "Name: name, dtype: object"
      ]
     },
     "execution_count": 79,
     "metadata": {},
     "output_type": "execute_result"
    }
   ],
   "source": [
    "# visual test\n",
    "dfc_tweets['name'].sample(10, random_state=12)"
   ]
  },
  {
   "cell_type": "code",
   "execution_count": 80,
   "metadata": {},
   "outputs": [
    {
     "name": "stdout",
     "output_type": "stream",
     "text": [
      "Test passed.\n"
     ]
    }
   ],
   "source": [
    "# for supposed efficiency\n",
    "# define the pass condition as a negation of the 'or' failure\n",
    "def name_pass(name):\n",
    "    # not fail means pass.\n",
    "    return not ((name in weird_dog_names) or (name[0]==name.lower()[0]))\n",
    "\n",
    "# run the test\n",
    "column_assert(dfc_tweets['name'], name_pass)"
   ]
  },
  {
   "cell_type": "markdown",
   "metadata": {},
   "source": [
    "### Issue #8: Missing dogstage values"
   ]
  },
  {
   "cell_type": "markdown",
   "metadata": {},
   "source": [
    "#### Define: Check the tweet text for missing information and set the correct dog-stage if found."
   ]
  },
  {
   "cell_type": "markdown",
   "metadata": {},
   "source": [
    "#### Code\n",
    "We'll be using regular expressions to search for the dogstages 'doggo', etc. We'll then assign the dogstage to the corresponding column."
   ]
  },
  {
   "cell_type": "code",
   "execution_count": 81,
   "metadata": {},
   "outputs": [],
   "source": [
    "# return a list of dogstages found in the text\n",
    "def get_dogstages(text):\n",
    "    search_these = ('doggo','pupper','floofer','puppo')\n",
    "    dogstages_found = []\n",
    "    for srch in search_these:\n",
    "        find = re.search(srch, text.lower())\n",
    "        if find: # i.e. find != None\n",
    "            match = find.span()\n",
    "            dogstages_found.append(text[match[0]:match[1]].lower().strip())\n",
    "    return dogstages_found"
   ]
  },
  {
   "cell_type": "code",
   "execution_count": 82,
   "metadata": {},
   "outputs": [
    {
     "name": "stdout",
     "output_type": "stream",
     "text": [
      "row9 ['doggo']\n",
      "row12 ['puppo']\n",
      "row14 ['puppo']\n",
      "row28 ['pupper']\n",
      "row42 ['doggo']\n",
      "row45 ['floofer']\n",
      "row48 ['pupper']\n",
      "row53 ['pupper']\n",
      "row55 ['pupper']\n"
     ]
    }
   ],
   "source": [
    "# quick visual test\n",
    "for i in dfc_tweets.index[0:50]:\n",
    "    t = dfc_tweets.at[i,'text']\n",
    "    dogst = get_dogstages(t)\n",
    "    lngth = len(dogst)\n",
    "    if lngth:\n",
    "        print(f'row{i}', dogst)"
   ]
  },
  {
   "cell_type": "code",
   "execution_count": 83,
   "metadata": {},
   "outputs": [],
   "source": [
    "# scan the row of columns if a dogstage exists\n",
    "def dogstage_exists(row):\n",
    "    nones = 0\n",
    "    for stage in row:   # stage is assumed to be string\n",
    "        if stage.lower() == 'none':\n",
    "            nones += 1\n",
    "    # a dogstage fails to exist if 'none','none','none','none',\n",
    "    # or NaN,NaN,NaN,NaN. However, cols don't have NaN.\n",
    "    return (nones!=4)"
   ]
  },
  {
   "cell_type": "code",
   "execution_count": 84,
   "metadata": {},
   "outputs": [
    {
     "name": "stdout",
     "output_type": "stream",
     "text": [
      "row0 ['None', 'None', 'None', 'None']\n",
      "False that dogstage exists.\n",
      "___________________\n",
      "row1 ['None', 'None', 'None', 'None']\n",
      "False that dogstage exists.\n",
      "___________________\n",
      "row2 ['None', 'None', 'None', 'None']\n",
      "False that dogstage exists.\n",
      "___________________\n",
      "row3 ['None', 'None', 'None', 'None']\n",
      "False that dogstage exists.\n",
      "___________________\n",
      "row4 ['None', 'None', 'None', 'None']\n",
      "False that dogstage exists.\n",
      "___________________\n",
      "row5 ['None', 'None', 'None', 'None']\n",
      "False that dogstage exists.\n",
      "___________________\n",
      "row6 ['None', 'None', 'None', 'None']\n",
      "False that dogstage exists.\n",
      "___________________\n",
      "row7 ['None', 'None', 'None', 'None']\n",
      "False that dogstage exists.\n",
      "___________________\n",
      "row8 ['None', 'None', 'None', 'None']\n",
      "False that dogstage exists.\n",
      "___________________\n",
      "row9 ['doggo', 'None', 'None', 'None']\n",
      "True that dogstage exists.\n",
      "___________________\n"
     ]
    }
   ],
   "source": [
    "# quick visual test\n",
    "for i in dfc_tweets.index[0:10]:\n",
    "    r = [dfc_tweets.at[i,col] for col in ('doggo','pupper','floofer','puppo')]\n",
    "    print(f'row{i}', r)\n",
    "    print(dogstage_exists(r), 'that dogstage exists.')\n",
    "    print('___________________')"
   ]
  },
  {
   "cell_type": "code",
   "execution_count": 85,
   "metadata": {},
   "outputs": [],
   "source": [
    "# get the indices which have no dogstages\n",
    "no_dogstage_inds = []\n",
    "\n",
    "for i in dfc_tweets.index:\n",
    "    row = [dfc_tweets.at[i,col] for col in ('doggo','pupper','floofer','puppo')]\n",
    "    if not dogstage_exists(row):\n",
    "        no_dogstage_inds.append(i)"
   ]
  },
  {
   "cell_type": "code",
   "execution_count": 86,
   "metadata": {},
   "outputs": [
    {
     "name": "stdout",
     "output_type": "stream",
     "text": [
      "1726 rows out of 2057 have no dogstage information.\n",
      "That's about 83 percent of rows.\n"
     ]
    }
   ],
   "source": [
    "# how many don't have any dogstage info?\n",
    "print(f\"{len(no_dogstage_inds)} rows out of {dfc_tweets.shape[0]} have no dogstage information.\")\n",
    "print(f\"That's about {int(100*len(no_dogstage_inds)/dfc_tweets.shape[0])} percent of rows.\")"
   ]
  },
  {
   "cell_type": "code",
   "execution_count": 87,
   "metadata": {},
   "outputs": [],
   "source": [
    "# find the single dogstages and put them where they belong\n",
    "multiple_dogstage_inds = [] # those with multiple dogstages.\n",
    "still_no_dogstage_inds = [] # those we still couldn't save\n",
    "\n",
    "for ind in no_dogstage_inds:\n",
    "    text = dfc_tweets.at[ind,'text']\n",
    "    dogstages = get_dogstages(text)\n",
    "    lngth = len(dogstages)\n",
    "    if lngth==0:\n",
    "        still_no_dogstage_inds.append(ind)\n",
    "    elif lngth==1:\n",
    "        ### just to be extra careful:\n",
    "        d = dogstages[0]\n",
    "        if d in ('doggo','pupper','floofer','puppo'):\n",
    "            dfc_tweets.at[ind,d] = d # assign the proper dogstage\n",
    "    elif lngth>1:\n",
    "        multiple_dogstage_ind.append(ind)\n",
    "        # assign so that we'll catch them in the next cleaning stage\n",
    "        for d in dogstages:\n",
    "            if d in ('doggo','pupper','floofer','puppo'):\n",
    "                dfc_tweets.at[ind,d] = d"
   ]
  },
  {
   "cell_type": "markdown",
   "metadata": {},
   "source": [
    "#### Test\n",
    "There isn't much to test here. That we couldn't get all the dogstages isn't something that can be helped. All we can hope is that we at least improved the cleanliness a bit."
   ]
  },
  {
   "cell_type": "code",
   "execution_count": 88,
   "metadata": {
    "scrolled": true
   },
   "outputs": [
    {
     "name": "stdout",
     "output_type": "stream",
     "text": [
      "1696 rows out of 2057 still have no dogstage information.\n",
      "That's about 82 percent of rows.\n",
      "Previously it was 83 percent of rows.\n"
     ]
    }
   ],
   "source": [
    "# how many could we get?\n",
    "print(f\"{len(still_no_dogstage_inds)} rows out of {dfc_tweets.shape[0]} still have no dogstage information.\")\n",
    "print(f\"That's about {int(100*len(still_no_dogstage_inds)/dfc_tweets.shape[0])} percent of rows.\")\n",
    "print(f\"Previously it was {int(100*len(no_dogstage_inds)/dfc_tweets.shape[0])} percent of rows.\")"
   ]
  },
  {
   "cell_type": "markdown",
   "metadata": {},
   "source": [
    "The improvement is meagre but it's better than nothing.\n",
    "Let's check how many additional rows we caught which have multiple dogstages."
   ]
  },
  {
   "cell_type": "code",
   "execution_count": 89,
   "metadata": {},
   "outputs": [
    {
     "name": "stdout",
     "output_type": "stream",
     "text": [
      "So far we found 0 rows with multiple dogstages\n"
     ]
    }
   ],
   "source": [
    "print(f\"So far we found {len(multiple_dogstage_inds)} rows with multiple dogstages\")"
   ]
  },
  {
   "cell_type": "markdown",
   "metadata": {},
   "source": [
    "### Issue #9: Some rows have multiple dog stages/multiple dog ratings in one tweet."
   ]
  },
  {
   "cell_type": "markdown",
   "metadata": {},
   "source": [
    "#### Define: Find the rows in the composite dataframe with multiple dog stages and manually correct or drop them."
   ]
  },
  {
   "cell_type": "markdown",
   "metadata": {},
   "source": [
    "#### Code\n",
    "We'll search for the indices of the offending rows, manually correct the good ones and drop the bad ones. First we have to visually inspect the texts themselves for reference."
   ]
  },
  {
   "cell_type": "code",
   "execution_count": 90,
   "metadata": {},
   "outputs": [
    {
     "name": "stdout",
     "output_type": "stream",
     "text": [
      "190 ('doggo', 'None', 'None', 'puppo') Here's a puppo participating in the #ScienceMarch. Cleverly disguising her own doggo agenda. 13/10 would keep the planet habitable for https://t.co/cMhq16isel\n",
      "______________________________________________________________________\n",
      "199 ('doggo', 'floofer', 'None', 'None') At first I thought this was a shy doggo, but it's actually a Rare Canadian Floofer Owl. Amateurs would confuse the two. 11/10 only send dogs https://t.co/TXdT3tmuYk\n",
      "______________________________________________________________________\n",
      "459 ('doggo', 'None', 'pupper', 'None') This is Dido. She's playing the lead role in \"Pupper Stops to Catch Snow Before Resuming Shadow Box with Dried Apple.\" 13/10 (IG: didodoggo) https://t.co/m7isZrOBX7\n",
      "______________________________________________________________________\n",
      "530 ('doggo', 'None', 'pupper', 'None') Here we have Burke (pupper) and Dexter (doggo). Pupper wants to be exactly like doggo. Both 12/10 would pet at same time https://t.co/ANBpEYHaho\n",
      "______________________________________________________________________\n",
      "574 ('doggo', 'None', 'pupper', 'None') This is Bones. He's being haunted by another doggo of roughly the same size. 12/10 deep breaths pupper everything's fine https://t.co/55Dqe0SJNj\n",
      "______________________________________________________________________\n",
      "704 ('doggo', 'None', 'pupper', 'None') This is Pinot. He's a sophisticated doggo. You can tell by the hat. Also pointier than your average pupper. Still 10/10 would pet cautiously https://t.co/f2wmLZTPHd\n",
      "______________________________________________________________________\n",
      "732 ('doggo', 'None', 'pupper', 'None') Pupper butt 1, Doggo 0. Both 12/10 https://t.co/WQvcPEpH2u\n",
      "______________________________________________________________________\n",
      "887 ('doggo', 'None', 'pupper', 'None') Meet Maggie &amp; Lila. Maggie is the doggo, Lila is the pupper. They are sisters. Both 12/10 would pet at the same time https://t.co/MYwR4DQKll\n",
      "______________________________________________________________________\n",
      "954 ('doggo', 'None', 'pupper', 'None') Please stop sending it pictures that don't even have a doggo or pupper in them. Churlish af. 5/10 neat couch tho https://t.co/u2c9c7qSg8\n",
      "______________________________________________________________________\n",
      "1061 ('doggo', 'None', 'pupper', 'None') This is just downright precious af. 12/10 for both pupper and doggo https://t.co/o5J479bZUC\n",
      "______________________________________________________________________\n",
      "1111 ('doggo', 'None', 'pupper', 'None') Like father (doggo), like son (pupper). Both 12/10 https://t.co/pG2inLaOda\n",
      "______________________________________________________________________\n"
     ]
    }
   ],
   "source": [
    "# visually inspect the text\n",
    "multi_dogstage_dict = {}\n",
    "\n",
    "for i in dfc_tweets.index:\n",
    "    row = dfc_tweets.loc[i,'doggo':'puppo']\n",
    "    if not is_two_or_fewer(row):\n",
    "        text = dfc_tweets.loc[i,'text']\n",
    "        multi_dogstage_dict[i] = text\n",
    "        print(i, tuple(row), text)\n",
    "        print(70*'_') # for better presentation"
   ]
  },
  {
   "cell_type": "markdown",
   "metadata": {},
   "source": [
    "For the sake of reproducibility (in case the dataset's indexing changes), instead of directly looking at and writing down the indexes, we'll get the indexes of the 'safe' tweets by searching for text peculiar to those tweets and storing the indexes without directly referencing them."
   ]
  },
  {
   "cell_type": "code",
   "execution_count": 91,
   "metadata": {},
   "outputs": [],
   "source": [
    "# from visual assessment of each tweet, write a list of safe tweets indexes\n",
    "safe_phrases = ('ScienceMarch','Canadian Floofer',\n",
    "                 'didodoggo','deep breaths pupper')\n",
    "safe_indices = []\n",
    "\n",
    "# not the most efficient loop but it works.\n",
    "for ind,text in multi_dogstage_dict.items():\n",
    "    for phrase in safe_phrases:\n",
    "        if phrase in text:\n",
    "            if ind not in safe_indices:\n",
    "                safe_indices.append(ind)"
   ]
  },
  {
   "cell_type": "code",
   "execution_count": 92,
   "metadata": {},
   "outputs": [],
   "source": [
    "# exclude the safe indices\n",
    "multi_dogstage_ind = [ind for ind in multi_dogstage_dict.keys() if ind not in safe_indices]"
   ]
  },
  {
   "cell_type": "code",
   "execution_count": 93,
   "metadata": {},
   "outputs": [
    {
     "name": "stdout",
     "output_type": "stream",
     "text": [
      "190 --> Here's a puppo participating in the #ScienceMarch. Cleverly disguising her own doggo agenda. 13/10 would keep the planet habitable for https://t.co/cMhq16isel\n",
      "______________________________________________________________________\n",
      "199 --> At first I thought this was a shy doggo, but it's actually a Rare Canadian Floofer Owl. Amateurs would confuse the two. 11/10 only send dogs https://t.co/TXdT3tmuYk\n",
      "______________________________________________________________________\n",
      "459 --> This is Dido. She's playing the lead role in \"Pupper Stops to Catch Snow Before Resuming Shadow Box with Dried Apple.\" 13/10 (IG: didodoggo) https://t.co/m7isZrOBX7\n",
      "______________________________________________________________________\n",
      "574 --> This is Bones. He's being haunted by another doggo of roughly the same size. 12/10 deep breaths pupper everything's fine https://t.co/55Dqe0SJNj\n",
      "______________________________________________________________________\n"
     ]
    }
   ],
   "source": [
    "# visual inspection\n",
    "for ind in safe_indices:\n",
    "    print(ind, '-->', dfc_tweets.text[ind])\n",
    "    print(70*'_')"
   ]
  },
  {
   "cell_type": "markdown",
   "metadata": {},
   "source": [
    "From visual inspection, the first dog is a puppo, the second is a doggo, the third is a pupper and the fourth is a pupper. We'll fix these without explicitly referring to the indexes.\n",
    "The idea is that when we find a tweet that matches the safe phrase, we'll use the index to correct the value for each dog stage."
   ]
  },
  {
   "cell_type": "code",
   "execution_count": 94,
   "metadata": {},
   "outputs": [],
   "source": [
    "# phrase to look for, and the correct dog stage for the tweet in question.\n",
    "phrase_replace = {'ScienceMarch':'puppo',\n",
    "                 'Canadian Floofer':'doggo',\n",
    "                 'didodoggo':'pupper',\n",
    "                 'deep breaths pupper':'pupper'}\n",
    "\n",
    "\n",
    "# we're assuming the multi_dogstage dict has correctly handled the indexing.\n",
    "for ind,text in multi_dogstage_dict.items():\n",
    "    for phrase,dogstage in phrase_replace.items():\n",
    "        if phrase in text:\n",
    "            complement = [stg for stg in ('doggo','puppo','pupper','floofer') if stg!=dogstage]\n",
    "            dfc_tweets.at[ind,dogstage] = dogstage\n",
    "            for stg in complement: # loop through each, replace value with None.\n",
    "                dfc_tweets.at[ind,stg] = 'None'"
   ]
  },
  {
   "cell_type": "markdown",
   "metadata": {},
   "source": [
    "Next step is to drop those that couldn't be fixed."
   ]
  },
  {
   "cell_type": "code",
   "execution_count": 95,
   "metadata": {},
   "outputs": [],
   "source": [
    "# drop what can't be saved.\n",
    "for i in multi_dogstage_ind:\n",
    "    dfc_tweets.drop(i, axis=0, inplace=True)"
   ]
  },
  {
   "cell_type": "markdown",
   "metadata": {},
   "source": [
    "#### Test"
   ]
  },
  {
   "cell_type": "code",
   "execution_count": 96,
   "metadata": {},
   "outputs": [
    {
     "name": "stdout",
     "output_type": "stream",
     "text": [
      "Test passed. There are no rows with multiple dog stages.\n"
     ]
    }
   ],
   "source": [
    "# testing\n",
    "md_passed = True\n",
    "for i in dfc_tweets.index:\n",
    "    row = dfc_tweets.loc[i,'doggo':'puppo']\n",
    "    if not is_two_or_fewer(row):\n",
    "        print(f'Test failed. {ind}--->{row} found.')\n",
    "        print(tuple(row))\n",
    "        md_passed = False\n",
    "        #break\n",
    "if md_passed:\n",
    "    print('Test passed. There are no rows with multiple dog stages.')"
   ]
  },
  {
   "cell_type": "markdown",
   "metadata": {},
   "source": [
    "### Issue #10: Some tweets are not about dogs"
   ]
  },
  {
   "cell_type": "markdown",
   "metadata": {},
   "source": [
    "#### Define: Driop the rows that aren't about dogs from the Image Predictions dataframe."
   ]
  },
  {
   "cell_type": "markdown",
   "metadata": {},
   "source": [
    "#### Code\n",
    "We'll trust that the Image Predictions are mostly correct.\n",
    "We want to remove rows satisfying the following criteria:\n",
    "- The number one prediction is *not* 'dog'\n",
    "- The number one prediction confidence is lower than the mean prediction confidence and the number two and three predictions are not both 'dog'.\n",
    "\n",
    "Hence, **the only rows that should remain** are:\n",
    "- Rows whose number one prediction is 'dog' and...\n",
    "    - The number one prediction confidence greater than or equal to the mean.\n",
    "    - The number one confidence is less than the mean but the number two and three predictions are also 'dog'.\n",
    "\n",
    "The test is somewhat arbitrary but it's puts extra bit of care in our wrangling process."
   ]
  },
  {
   "cell_type": "code",
   "execution_count": 97,
   "metadata": {},
   "outputs": [
    {
     "name": "stdout",
     "output_type": "stream",
     "text": [
      "0.594\n"
     ]
    }
   ],
   "source": [
    "# get the mean prediction confidence for the column.\n",
    "mean_conf = int(1000*dfc_imgpre['p1_conf'].mean())/1000\n",
    "print(mean_conf)"
   ]
  },
  {
   "cell_type": "code",
   "execution_count": 98,
   "metadata": {},
   "outputs": [],
   "source": [
    "# get the value, based on row index and column name.\n",
    "def get_imgpre(ind,col):\n",
    "    return dfc_imgpre.at[ind,col]"
   ]
  },
  {
   "cell_type": "code",
   "execution_count": 99,
   "metadata": {},
   "outputs": [],
   "source": [
    "# find the indexes for the troublesome rows\n",
    "dogs_unlikely_ind = []\n",
    "for i in dfc_imgpre.index:\n",
    "    is_dog1 = get_imgpre(i,'p1_dog')\n",
    "    low_conf = (get_imgpre(i,'p1_conf') < mean_conf)\n",
    "    if not is_dog1:\n",
    "        dogs_unlikely_ind.append(i)\n",
    "    elif is_dog1 and low_conf:\n",
    "        is_dog2 = get_imgpre(i,'p2_dog')\n",
    "        is_dog3 = get_imgpre(i,'p3_dog')\n",
    "        if not (is_dog2 and is_dog3):\n",
    "            dogs_unlikely_ind.append(i)"
   ]
  },
  {
   "cell_type": "code",
   "execution_count": 100,
   "metadata": {},
   "outputs": [
    {
     "name": "stdout",
     "output_type": "stream",
     "text": [
      "705\n"
     ]
    }
   ],
   "source": [
    "# just to get a feel for how many of these are present\n",
    "print(len(dogs_unlikely_ind))"
   ]
  },
  {
   "cell_type": "code",
   "execution_count": 101,
   "metadata": {},
   "outputs": [],
   "source": [
    "# print list of species of failed entries\n",
    "failed_species = []\n",
    "safe_species = []\n",
    "\n",
    "for ind in dogs_unlikely_ind:\n",
    "    specie = get_imgpre(ind,'p1')\n",
    "    if specie not in failed_species:\n",
    "        if 'dog' in specie:\n",
    "            if specie not in safe_species:\n",
    "                safe_species.append((ind,specie))\n",
    "        elif 'dog' not in specie:\n",
    "            failed_species.append(specie)"
   ]
  },
  {
   "cell_type": "code",
   "execution_count": 102,
   "metadata": {},
   "outputs": [
    {
     "name": "stdout",
     "output_type": "stream",
     "text": [
      "[(48, 'maltese_dog'), (223, 'shetland_sheepdog'), (250, 'shetland_sheepdog'), (289, 'african_hunting_dog'), (568, 'dogsled'), (772, 'eskimo_dog'), (773, 'dogsled'), (1003, 'eskimo_dog'), (1005, 'hotdog'), (1243, 'shetland_sheepdog'), (1935, 'french_bulldog'), (2030, 'eskimo_dog'), (2063, 'french_bulldog')]\n",
      "______________________________________________________________________\n",
      "['box_turtle', 'shopping_cart', 'hen', 'desktop_computer', 'three-toed_sloth', 'ox', 'guinea_pig', 'coho', 'llama', 'chesapeake_bay_retriever', 'seat_belt', 'snail', 'airedale', 'triceratops', 'swab', 'hay', 'hyena', 'jigsaw_puzzle', 'vacuum', 'teddy', 'porcupine', 'goose', 'chihuahua', 'hare', 'electric_fan', 'web_site', 'ibex', 'fire_engine', 'west_highland_white_terrier', 'lorikeet', 'toyshop', 'miniature_pinscher', 'common_iguana', 'malamute', 'frilled_lizard', 'leatherback_turtle', 'labrador_retriever', 'hamster', 'angora', 'arctic_fox', 'trombone', 'canoe', 'king_penguin', 'shopping_basket', 'bearskin', 'bustard', 'crash_helmet', 'ski_mask', 'shower_curtain', 'jellyfish', 'doormat', 'arabian_camel', 'lynx', 'hog', 'comic_book', 'minivan', 'seashore', 'cuirass', 'candle', 'weasel', 'christmas_stocking', 'washbasin', 'car_mirror', 'piggy_bank', 'pot', 'boathouse', 'mud_turtle', 'platypus', 'ping-pong_ball', 'sea_urchin', 'bow_tie', 'window_shade', \"jack-o'-lantern\", 'sorrel', 'peacock', 'axolotl', 'wool', 'banana', 'wood_rabbit', 'dhole', 'norfolk_terrier', 'lacewing', 'dingo', 'brown_bear', 'scorpion', 'malinois', 'flamingo', 'microphone', 'pitcher', 'refrigerator', 'picket_fence', 'tub', 'zebra', 'hermit_crab', 'swing', 'toy_poodle', 'pomeranian', 'park_bench', 'feather_boa', 'loafer', 'kuvasz', 'stone_wall', 'ice_bear', 'prayer_rug', 'dalmatian', 'chimpanzee', 'china_cabinet', 'bee_eater', 'chow', 'tennis_ball', 'rottweiler', 'carton', 'killer_whale', 'ostrich', 'terrapin', 'siamese_cat', 'gondola', 'microwave', 'starfish', 'sandbar', 'pembroke', 'tusker', 'motor_scooter', 'ram', 'leaf_beetle', 'wombat', 'newfoundland', 'pekinese', 'water_bottle', 'suit', 'toilet_seat', 'robin', 'shih-tzu', 'slug', 'toilet_tissue', 'acorn_squash', 'soccer_ball', 'african_crocodile', 'tick', 'dandie_dinmont', 'ocarina', 'street_sign', 'bow', 'stove', 'paper_towel', 'upright', 'dough', 'bath_towel', 'walking_stick', 'irish_water_spaniel', 'bubble', 'book_jacket', 'rain_barrel', 'black-footed_ferret', 'guenon', 'water_buffalo', 'basset', 'patio', 'cowboy_hat', 'siberian_husky', 'maze', 'harp', 'panpipe', 'cash_machine', 'italian_greyhound', 'pug', 'mailbox', 'wallaby', 'earthstar', 'pillow', 'space_heater', 'carousel', 'birdhouse', 'snorkel', 'bald_eagle', 'koala', 'cheetah', 'minibus', 'clog', 'dishwasher', 'white_wolf', 'lakeland_terrier', 'sliding_door', 'damselfly', 'cheeseburger', 'fiddler_crab', 'bannister', 'crane', 'snowmobile', 'samoyed', 'badger', 'lhasa', 'bighorn', 'geyser', 'barrow', 'borzoi', 'tibetan_terrier', 'bison', 'ice_lolly', 'sea_lion', 'dining_table', 'beaver', 'grey_fox', 'mousetrap', 'hippopotamus', 'hummingbird', 'golden_retriever', 'tailed_frog', 'kelpie', 'otter', 'egyptian_cat', 'great_pyrenees', 'four-poster', 'wild_boar', 'blenheim_spaniel', 'bathtub', 'agama', 'muzzle', 'bib', 'espresso', 'timber_wolf', 'meerkat', 'nail', 'hammer', 'home_theater', 'alp', 'standard_poodle', 'bonnet', 'cocker_spaniel', 'handkerchief', 'hand_blower', 'polecat', 'lakeside', 'staffordshire_bullterrier', 'studio_couch', 'cup', 'cliff', 'lawn_mower', 'balloon', 'sunglasses', 'rapeseed', 'traffic_light', 'coil', 'binoculars', 'basenji', 'paddle', 'tiger_shark', 'sulphur-crested_cockatoo', 'wire-haired_fox_terrier', 'american_black_bear', 'bluetick', 'rotisserie', 'conch', 'skunk', 'bookshop', 'radio_telescope', 'cougar', 'african_grey', 'miniature_poodle', 'vizsla', 'coral_reef', 'lion', 'maillot', 'madagascar_cat', 'tabby', 'giant_panda', 'long-horned_beetle', 'boston_bull', 'sundial', 'padlock', 'pool_table', 'irish_setter', 'quilt', 'beach_wagon', 'remote_control', 'bakery', 'afghan_hound', 'pedestal', 'gas_pump', 'bookcase', 'shield', 'loupe', 'restaurant', 'prison', 'school_bus', 'cowboy_boot', 'cairn', 'boxer', 'jersey', 'wooden_spoon', 'leopard', 'mortarboard', 'teapot', 'military_uniform', 'washer', 'cardigan', 'coffee_mug', 'bedlington_terrier', 'fountain', 'pencil_box', 'barbell', 'grille', 'revolver', 'envelope', 'german_shepherd', 'syringe', 'marmot', 'pole', 'laptop', 'basketball', 'tricycle', 'german_short-haired_pointer', 'weimaraner', 'convertible', 'mexican_hairless', 'limousine', 'appenzeller', 'orange']\n"
     ]
    }
   ],
   "source": [
    "# visually inspect to see if any dogs were caught in the net\n",
    "print(safe_species)\n",
    "print(70*'_')\n",
    "print(failed_species)"
   ]
  },
  {
   "cell_type": "markdown",
   "metadata": {},
   "source": [
    "After visual inspection of the list of 'failed' species (failed only in context of the test), we build a list of species to save and use that to find indexes to exclude from our filter. My knowledge of dogs isn't expert-level so I may miss some."
   ]
  },
  {
   "cell_type": "code",
   "execution_count": 103,
   "metadata": {},
   "outputs": [],
   "source": [
    "# which species are dogs?\n",
    "all_r_dogs = ('maltese_dog','shetland_sheepdog','eskimo_dog','french_bulldog',\n",
    "             'chesapeake_bay_retriever','chihuahua','miniature_pinscher',\n",
    "             'labrador_retriever','toy_poodle','dalmatian',\n",
    "             'chow','rottweiler','west_highland_white_terrier',\n",
    "             'pekinese','shih-tzu','dandie_dinmont','siberian_husky',\n",
    "             'italian_greyhound','pembroke','lhasa','borzoi',\n",
    "             'samoyed','pug','pomeranian','irish_water_spaniel','basenji',\n",
    "             'standard_poodle','golden_retriever','lakeland_terrier',\n",
    "             'bluetick','malamute','vizsla','cocker_spaniel',\n",
    "             'cairn','boston_bull','mexican_hairless',\n",
    "             'airedale','kelpie')"
   ]
  },
  {
   "cell_type": "code",
   "execution_count": 104,
   "metadata": {},
   "outputs": [],
   "source": [
    "# check the species of each dog by index.\n",
    "# if species is in all_r_dogs, take note of the index\n",
    "dogs_filter_exceptions = []\n",
    "\n",
    "for ind in dogs_unlikely_ind:\n",
    "    specie = get_imgpre(ind,'p1')\n",
    "    if specie in all_r_dogs:\n",
    "        dogs_filter_exceptions.append(ind)"
   ]
  },
  {
   "cell_type": "code",
   "execution_count": 105,
   "metadata": {},
   "outputs": [],
   "source": [
    "# exclude the exceptions\n",
    "temp = [ind for ind in dogs_unlikely_ind if ind not in dogs_filter_exceptions]\n",
    "dogs_unlikely_ind = temp.copy()"
   ]
  },
  {
   "cell_type": "markdown",
   "metadata": {},
   "source": [
    "Now we can drop all those rows caught in our net."
   ]
  },
  {
   "cell_type": "code",
   "execution_count": 106,
   "metadata": {},
   "outputs": [],
   "source": [
    "# iterate and drop\n",
    "for i in dogs_unlikely_ind:\n",
    "    dfc_imgpre.drop(i,axis=0,inplace=True)"
   ]
  },
  {
   "cell_type": "markdown",
   "metadata": {},
   "source": [
    "#### Test\n",
    "If our filtering was successful then all the values of column 'p1_dog' must be true. Should a value be false, then the values of both column 'p2_dog' and 'p3_dog' must be true. To keep the test simple we'll just check the first criterion."
   ]
  },
  {
   "cell_type": "code",
   "execution_count": 107,
   "metadata": {},
   "outputs": [
    {
     "name": "stdout",
     "output_type": "stream",
     "text": [
      "Test passed.\n"
     ]
    }
   ],
   "source": [
    "# the test\n",
    "column_assert(dfc_imgpre['p1_dog'],lambda b:b==True)"
   ]
  },
  {
   "cell_type": "markdown",
   "metadata": {},
   "source": [
    "A visual assessment of the unique species should only reveal dog species."
   ]
  },
  {
   "cell_type": "code",
   "execution_count": 108,
   "metadata": {},
   "outputs": [
    {
     "name": "stdout",
     "output_type": "stream",
     "text": [
      "welsh_springer_spaniel   redbone   german_shepherd   \n",
      "\n",
      "rhodesian_ridgeback   miniature_pinscher   bernese_mountain_dog   chow   \n",
      "\n",
      "miniature_poodle   golden_retriever   gordon_setter   walker_hound   \n",
      "\n",
      "pug   bloodhound   lhasa   english_setter   \n",
      "\n",
      "italian_greyhound   maltese_dog   malamute   soft-coated_wheaten_terrier   \n",
      "\n",
      "chihuahua   black-and-tan_coonhound   toy_terrier   blenheim_spaniel   \n",
      "\n",
      "pembroke   chesapeake_bay_retriever   curly-coated_retriever   dalmatian   \n",
      "\n",
      "ibizan_hound   border_collie   labrador_retriever   miniature_schnauzer   \n",
      "\n",
      "airedale   west_highland_white_terrier   toy_poodle   giant_schnauzer   \n",
      "\n",
      "vizsla   rottweiler   siberian_husky   papillon   \n",
      "\n",
      "saint_bernard   tibetan_terrier   borzoi   beagle   \n",
      "\n",
      "yorkshire_terrier   pomeranian   kuvasz   flat-coated_retriever   \n",
      "\n",
      "norwegian_elkhound   standard_poodle   staffordshire_bullterrier   basenji   \n",
      "\n",
      "lakeland_terrier   american_staffordshire_terrier   shih-tzu   french_bulldog   \n",
      "\n",
      "pekinese   komondor   malinois   kelpie   \n",
      "\n",
      "brittany_spaniel   cocker_spaniel   basset   brabancon_griffon   \n",
      "\n",
      "eskimo_dog   german_short-haired_pointer   shetland_sheepdog   irish_terrier   \n",
      "\n",
      "cairn   english_springer   whippet   sussex_spaniel   \n",
      "\n",
      "dandie_dinmont   norwich_terrier   keeshond   old_english_sheepdog   \n",
      "\n",
      "samoyed   doberman   great_pyrenees   schipperke   \n",
      "\n",
      "bull_mastiff   collie   cardigan   greater_swiss_mountain_dog   \n",
      "\n",
      "boxer   scottish_deerhound   standard_schnauzer   irish_water_spaniel   \n",
      "\n",
      "boston_bull   japanese_spaniel   norfolk_terrier   entlebucher   \n",
      "\n",
      "bluetick   irish_setter   leonberg   weimaraner   \n",
      "\n",
      "great_dane   tibetan_mastiff   scotch_terrier   mexican_hairless   \n",
      "\n",
      "groenendael   australian_terrier   briard   appenzeller   \n",
      "\n",
      "border_terrier   newfoundland   bedlington_terrier   saluki   \n",
      "\n",
      "silky_terrier   afghan_hound   clumber   wire-haired_fox_terrier   "
     ]
    }
   ],
   "source": [
    "# visually assess\n",
    "# for better presentation we'll print four per line and space them apart.\n",
    "count = 1\n",
    "for sp in dfc_imgpre['p1'].unique():\n",
    "    if count%4 == 0:\n",
    "        print('\\n')\n",
    "    print(sp, ' ', end=' ')\n",
    "    count += 1"
   ]
  },
  {
   "cell_type": "markdown",
   "metadata": {},
   "source": [
    "Those all look like dogs so I'll say our cleaning was a success."
   ]
  },
  {
   "cell_type": "markdown",
   "metadata": {},
   "source": [
    "### Issue #11: The dog stages should be in one column"
   ]
  },
  {
   "cell_type": "markdown",
   "metadata": {},
   "source": [
    "#### Define: Create a new column for dog_stage and iteratively assign proper values."
   ]
  },
  {
   "cell_type": "markdown",
   "metadata": {},
   "source": [
    "#### Code\n",
    "Our plan is to create a new empty column called 'dog_stage', then we'll loop through each row and assign the appropriate dog_stage value.\n",
    "Once this is done, we'll drop the unnecessary columns."
   ]
  },
  {
   "cell_type": "code",
   "execution_count": 109,
   "metadata": {},
   "outputs": [],
   "source": [
    "# create a new column called 'dog_stage'\n",
    "# initialise all entries as 'N/A' by default\n",
    "# N/A seems more meaningful that 'None'\n",
    "dfc_tweets['dog_stage'] = ['N/A' for i in range(dfc_tweets.shape[0])]"
   ]
  },
  {
   "cell_type": "code",
   "execution_count": 110,
   "metadata": {},
   "outputs": [
    {
     "data": {
      "text/plain": [
       "0    N/A\n",
       "1    N/A\n",
       "2    N/A\n",
       "3    N/A\n",
       "4    N/A\n",
       "5    N/A\n",
       "6    N/A\n",
       "7    N/A\n",
       "8    N/A\n",
       "9    N/A\n",
       "Name: dog_stage, dtype: object"
      ]
     },
     "execution_count": 110,
     "metadata": {},
     "output_type": "execute_result"
    }
   ],
   "source": [
    "# some quick visual inspection\n",
    "dfc_tweets['dog_stage'][0:10]"
   ]
  },
  {
   "cell_type": "code",
   "execution_count": 111,
   "metadata": {},
   "outputs": [],
   "source": [
    "# now iterate and assign the proper values if available\n",
    "# at this point we can assume that there are no rows with multiple dog stages.\n",
    "for i in dfc_tweets.index:\n",
    "    row = [dfc_tweets.at[i,col] for col in ('doggo','pupper','floofer','puppo')]\n",
    "    for dogst in row:\n",
    "        if dogst.lower() != 'none':\n",
    "            dfc_tweets.at[i,'dog_stage'] = dogst\n",
    "            break # because there's no point checking the others. They should be 'None'"
   ]
  },
  {
   "cell_type": "code",
   "execution_count": 112,
   "metadata": {},
   "outputs": [],
   "source": [
    "# Drop the columns doggo, etc.\n",
    "for col in ('doggo','pupper','floofer','puppo'):\n",
    "    dfc_tweets.drop(col,axis=1,inplace=True)"
   ]
  },
  {
   "cell_type": "markdown",
   "metadata": {},
   "source": [
    "#### Test\n",
    "We'll check if the dogstage is found in the tweet text."
   ]
  },
  {
   "cell_type": "code",
   "execution_count": 113,
   "metadata": {},
   "outputs": [
    {
     "name": "stdout",
     "output_type": "stream",
     "text": [
      "<class 'pandas.core.frame.DataFrame'>\n",
      "Int64Index: 2050 entries, 0 to 2353\n",
      "Data columns (total 12 columns):\n",
      "tweet_id              2050 non-null int64\n",
      "timestamp             2050 non-null datetime64[ns]\n",
      "source                2050 non-null object\n",
      "text                  2050 non-null object\n",
      "expanded_urls         2047 non-null object\n",
      "rating_numerator      2050 non-null int64\n",
      "rating_denominator    2050 non-null int64\n",
      "name                  2050 non-null object\n",
      "id_str                2050 non-null object\n",
      "retweet_count         2050 non-null int64\n",
      "favorite_count        2050 non-null int64\n",
      "dog_stage             2050 non-null object\n",
      "dtypes: datetime64[ns](1), int64(5), object(6)\n",
      "memory usage: 288.2+ KB\n"
     ]
    }
   ],
   "source": [
    "# which columns do we have?\n",
    "dfc_tweets.info()"
   ]
  },
  {
   "cell_type": "code",
   "execution_count": 114,
   "metadata": {},
   "outputs": [
    {
     "data": {
      "text/plain": [
       "N/A        1696\n",
       "pupper      240\n",
       "doggo        76\n",
       "puppo        29\n",
       "floofer       9\n",
       "Name: dog_stage, dtype: int64"
      ]
     },
     "execution_count": 114,
     "metadata": {},
     "output_type": "execute_result"
    }
   ],
   "source": [
    "# count the values\n",
    "dfc_tweets['dog_stage'].value_counts()"
   ]
  },
  {
   "cell_type": "code",
   "execution_count": 115,
   "metadata": {},
   "outputs": [
    {
     "name": "stdout",
     "output_type": "stream",
     "text": [
      "Test passed. All dogstages are in respective tweets.\n"
     ]
    }
   ],
   "source": [
    "# programmatic testing - is dogstage in the tweet text?\n",
    "test_passed = True\n",
    "for i in dfc_tweets.index:\n",
    "    dgst = dfc_tweets.at[i,'dog_stage']\n",
    "    if dgst != 'N/A':\n",
    "        txt = dfc_tweets.at[i,'text']\n",
    "        find = re.search(dgst,txt.lower())\n",
    "        if not find:\n",
    "            print(f\"Test failed. Row{i}'s dogstage '{dgst}' not in {txt.lower()}.\")\n",
    "            test_passed = False\n",
    "            break\n",
    "if test_passed:\n",
    "    print(\"Test passed. All dogstages are in respective tweets.\")"
   ]
  },
  {
   "cell_type": "markdown",
   "metadata": {},
   "source": [
    "### Issue #12: Tweet data and dog data in the same table."
   ]
  },
  {
   "cell_type": "markdown",
   "metadata": {},
   "source": [
    "#### Define: Create three separate tables - for tweets, dogs and image-predictions"
   ]
  },
  {
   "cell_type": "markdown",
   "metadata": {},
   "source": [
    "#### Code\n",
    "During our cleaning process the indexing was garbled so we'll make sure to clean that up first using the reset_index method."
   ]
  },
  {
   "cell_type": "code",
   "execution_count": 116,
   "metadata": {},
   "outputs": [],
   "source": [
    "# reset the indices\n",
    "dfc_tweets.reset_index(inplace=True, drop=True)\n",
    "dfc_imgpre.reset_index(inplace=True, drop=True)"
   ]
  },
  {
   "cell_type": "code",
   "execution_count": 117,
   "metadata": {},
   "outputs": [],
   "source": [
    "# quick test\n",
    "def is_successive(index):\n",
    "    \"\"\"we expect indexing to increment by 1 from 0 to end\"\"\"\n",
    "    n = 0\n",
    "    for i in index:\n",
    "        if i != n: # compare i to n\n",
    "            return False\n",
    "        n += 1 # if i matches n, incr n. We hope the next i is also inc by 1.\n",
    "    return True"
   ]
  },
  {
   "cell_type": "code",
   "execution_count": 118,
   "metadata": {},
   "outputs": [
    {
     "name": "stdout",
     "output_type": "stream",
     "text": [
      "True\n",
      "True\n"
     ]
    }
   ],
   "source": [
    "# run the quick test\n",
    "print(is_successive(dfc_tweets.index))\n",
    "print(is_successive(dfc_imgpre.index))"
   ]
  },
  {
   "cell_type": "code",
   "execution_count": 119,
   "metadata": {},
   "outputs": [],
   "source": [
    "# separate observational units\n",
    "df_tweets_only = dfc_tweets[['tweet_id','text',\n",
    "                          'retweet_count','favorite_count',\n",
    "                          'timestamp','source','expanded_urls']]\n",
    "df_dogs_only = dfc_tweets[['tweet_id','name','dog_stage',\n",
    "                       'rating_numerator','rating_denominator']]"
   ]
  },
  {
   "cell_type": "markdown",
   "metadata": {},
   "source": [
    "#### Test"
   ]
  },
  {
   "cell_type": "code",
   "execution_count": 120,
   "metadata": {},
   "outputs": [
    {
     "name": "stdout",
     "output_type": "stream",
     "text": [
      "Index has been successfully reset.\n",
      "Index has been successfully reset.\n",
      "Index has been successfully reset.\n",
      "Index has been successfully reset.\n"
     ]
    }
   ],
   "source": [
    "# test each dataframe\n",
    "for dframe in (dfc_tweets, dfc_imgpre, df_tweets_only, df_dogs_only):\n",
    "    if is_successive(dframe.index):\n",
    "        print(\"Index has been successfully reset.\")\n",
    "    elif not is_successive(dframe.index):\n",
    "        print(\"Index has not been successfully reset.\")"
   ]
  },
  {
   "cell_type": "code",
   "execution_count": 121,
   "metadata": {},
   "outputs": [
    {
     "data": {
      "text/html": [
       "<div>\n",
       "<style scoped>\n",
       "    .dataframe tbody tr th:only-of-type {\n",
       "        vertical-align: middle;\n",
       "    }\n",
       "\n",
       "    .dataframe tbody tr th {\n",
       "        vertical-align: top;\n",
       "    }\n",
       "\n",
       "    .dataframe thead th {\n",
       "        text-align: right;\n",
       "    }\n",
       "</style>\n",
       "<table border=\"1\" class=\"dataframe\">\n",
       "  <thead>\n",
       "    <tr style=\"text-align: right;\">\n",
       "      <th></th>\n",
       "      <th>tweet_id</th>\n",
       "      <th>text</th>\n",
       "      <th>retweet_count</th>\n",
       "      <th>favorite_count</th>\n",
       "      <th>timestamp</th>\n",
       "      <th>source</th>\n",
       "      <th>expanded_urls</th>\n",
       "    </tr>\n",
       "  </thead>\n",
       "  <tbody>\n",
       "    <tr>\n",
       "      <th>1397</th>\n",
       "      <td>682032003584274432</td>\n",
       "      <td>This is Ulysses. He likes holding hands and hi...</td>\n",
       "      <td>2294</td>\n",
       "      <td>7223</td>\n",
       "      <td>2015-12-30 02:54:35</td>\n",
       "      <td>&lt;a href=\"http://twitter.com/download/iphone\" r...</td>\n",
       "      <td>https://twitter.com/dog_rates/status/682032003...</td>\n",
       "    </tr>\n",
       "    <tr>\n",
       "      <th>1945</th>\n",
       "      <td>667866724293877760</td>\n",
       "      <td>This is Shaggy. He knows exactly how to solve ...</td>\n",
       "      <td>1110</td>\n",
       "      <td>3172</td>\n",
       "      <td>2015-11-21 00:46:50</td>\n",
       "      <td>&lt;a href=\"http://twitter.com/download/iphone\" r...</td>\n",
       "      <td>https://twitter.com/dog_rates/status/667866724...</td>\n",
       "    </tr>\n",
       "    <tr>\n",
       "      <th>266</th>\n",
       "      <td>829861396166877184</td>\n",
       "      <td>This is Mia. She already knows she's a good do...</td>\n",
       "      <td>2243</td>\n",
       "      <td>13441</td>\n",
       "      <td>2017-02-10 01:15:49</td>\n",
       "      <td>&lt;a href=\"http://twitter.com/download/iphone\" r...</td>\n",
       "      <td>https://twitter.com/dog_rates/status/829861396...</td>\n",
       "    </tr>\n",
       "  </tbody>\n",
       "</table>\n",
       "</div>"
      ],
      "text/plain": [
       "                tweet_id                                               text  \\\n",
       "1397  682032003584274432  This is Ulysses. He likes holding hands and hi...   \n",
       "1945  667866724293877760  This is Shaggy. He knows exactly how to solve ...   \n",
       "266   829861396166877184  This is Mia. She already knows she's a good do...   \n",
       "\n",
       "      retweet_count  favorite_count           timestamp  \\\n",
       "1397           2294            7223 2015-12-30 02:54:35   \n",
       "1945           1110            3172 2015-11-21 00:46:50   \n",
       "266            2243           13441 2017-02-10 01:15:49   \n",
       "\n",
       "                                                 source  \\\n",
       "1397  <a href=\"http://twitter.com/download/iphone\" r...   \n",
       "1945  <a href=\"http://twitter.com/download/iphone\" r...   \n",
       "266   <a href=\"http://twitter.com/download/iphone\" r...   \n",
       "\n",
       "                                          expanded_urls  \n",
       "1397  https://twitter.com/dog_rates/status/682032003...  \n",
       "1945  https://twitter.com/dog_rates/status/667866724...  \n",
       "266   https://twitter.com/dog_rates/status/829861396...  "
      ]
     },
     "execution_count": 121,
     "metadata": {},
     "output_type": "execute_result"
    }
   ],
   "source": [
    "# did we successfully separate the dataframe?\n",
    "df_tweets_only.sample(3,random_state=5)"
   ]
  },
  {
   "cell_type": "code",
   "execution_count": 122,
   "metadata": {},
   "outputs": [
    {
     "data": {
      "text/html": [
       "<div>\n",
       "<style scoped>\n",
       "    .dataframe tbody tr th:only-of-type {\n",
       "        vertical-align: middle;\n",
       "    }\n",
       "\n",
       "    .dataframe tbody tr th {\n",
       "        vertical-align: top;\n",
       "    }\n",
       "\n",
       "    .dataframe thead th {\n",
       "        text-align: right;\n",
       "    }\n",
       "</style>\n",
       "<table border=\"1\" class=\"dataframe\">\n",
       "  <thead>\n",
       "    <tr style=\"text-align: right;\">\n",
       "      <th></th>\n",
       "      <th>tweet_id</th>\n",
       "      <th>name</th>\n",
       "      <th>dog_stage</th>\n",
       "      <th>rating_numerator</th>\n",
       "      <th>rating_denominator</th>\n",
       "    </tr>\n",
       "  </thead>\n",
       "  <tbody>\n",
       "    <tr>\n",
       "      <th>845</th>\n",
       "      <td>736736130620620800</td>\n",
       "      <td>Chadrick</td>\n",
       "      <td>N/A</td>\n",
       "      <td>13</td>\n",
       "      <td>10</td>\n",
       "    </tr>\n",
       "    <tr>\n",
       "      <th>1427</th>\n",
       "      <td>680583894916304897</td>\n",
       "      <td>Penny</td>\n",
       "      <td>pupper</td>\n",
       "      <td>8</td>\n",
       "      <td>10</td>\n",
       "    </tr>\n",
       "    <tr>\n",
       "      <th>305</th>\n",
       "      <td>823699002998870016</td>\n",
       "      <td>Winston</td>\n",
       "      <td>N/A</td>\n",
       "      <td>12</td>\n",
       "      <td>10</td>\n",
       "    </tr>\n",
       "  </tbody>\n",
       "</table>\n",
       "</div>"
      ],
      "text/plain": [
       "                tweet_id      name dog_stage  rating_numerator  \\\n",
       "845   736736130620620800  Chadrick       N/A                13   \n",
       "1427  680583894916304897     Penny    pupper                 8   \n",
       "305   823699002998870016   Winston       N/A                12   \n",
       "\n",
       "      rating_denominator  \n",
       "845                   10  \n",
       "1427                  10  \n",
       "305                   10  "
      ]
     },
     "execution_count": 122,
     "metadata": {},
     "output_type": "execute_result"
    }
   ],
   "source": [
    "# dogs\n",
    "df_dogs_only.sample(3,random_state=59)"
   ]
  },
  {
   "cell_type": "markdown",
   "metadata": {},
   "source": [
    "   "
   ]
  },
  {
   "cell_type": "markdown",
   "metadata": {},
   "source": [
    "## Storing Data"
   ]
  },
  {
   "cell_type": "markdown",
   "metadata": {},
   "source": [
    "First we'll separately store the cleaned tweets, dogs and image_predictions dataframes in a single zip file. Then we'll merge the tweets and image_predictions dataframes into a master and save that."
   ]
  },
  {
   "cell_type": "code",
   "execution_count": 123,
   "metadata": {},
   "outputs": [],
   "source": [
    "### create the necessary directories and filepaths\n",
    "cwd = os.getcwd()\n",
    "cleaned_folder = os.path.join(cwd,'backups_cleaned')\n",
    "create_dir(cleaned_folder)\n",
    "cleaned_filepaths = [filepath(cleaned_folder,filename) for filename in ('tweets_only.csv','dogs_only.csv','img_pre.csv')]"
   ]
  },
  {
   "cell_type": "code",
   "execution_count": 124,
   "metadata": {},
   "outputs": [
    {
     "name": "stdout",
     "output_type": "stream",
     "text": [
      "/home/workspace/backups_cleaned/tweets_only.csv\n",
      "/home/workspace/backups_cleaned/dogs_only.csv\n",
      "/home/workspace/backups_cleaned/img_pre.csv\n"
     ]
    }
   ],
   "source": [
    "## visually assess\n",
    "for path in cleaned_filepaths:\n",
    "    print(path)"
   ]
  },
  {
   "cell_type": "code",
   "execution_count": 125,
   "metadata": {},
   "outputs": [],
   "source": [
    "## save the files to that folder first\n",
    "# put faith in the order of the filenames.\n",
    "tweets_path = cleaned_filepaths[0]\n",
    "dogs_path = cleaned_filepaths[1]\n",
    "imgpre_path = cleaned_filepaths[2]\n",
    "\n",
    "if not os.path.exists(tweets_path):\n",
    "    df_tweets_only.to_csv(tweets_path, index=False)\n",
    "if not os.path.exists(dogs_path):\n",
    "    df_dogs_only.to_csv(dogs_path, index=False)\n",
    "if not os.path.exists(imgpre_path):\n",
    "    dfc_imgpre.to_csv(imgpre_path, index=False)"
   ]
  },
  {
   "cell_type": "code",
   "execution_count": 126,
   "metadata": {},
   "outputs": [
    {
     "name": "stdout",
     "output_type": "stream",
     "text": [
      "/home/workspace/backups_cleaned/cleaned_dframes.zip\n",
      "/home/workspace/backups_cleaned/tweets_only.csv\n",
      "/home/workspace/backups_cleaned/dogs_only.csv\n",
      "/home/workspace/backups_cleaned/img_pre.csv\n"
     ]
    }
   ],
   "source": [
    "# give us a list of all files in the folder\n",
    "files_in_f = os.listdir(cleaned_folder)\n",
    "files_in_f = list(map(lambda f:filepath(cleaned_folder,f), files_in_f))\n",
    "for file in files_in_f:\n",
    "    print(file)"
   ]
  },
  {
   "cell_type": "code",
   "execution_count": 127,
   "metadata": {},
   "outputs": [],
   "source": [
    "## create the zip file name\n",
    "cleaned_zip = filepath(cleaned_folder, 'cleaned_dframes.zip')\n",
    "\n",
    "# now save those to a zip file.\n",
    "if not os.path.exists(cleaned_zip): # if the zipfile doesn't already exist...\n",
    "    with ZipFile(cleaned_zip,'w') as backups_clean:\n",
    "        for fpath in files_in_f:\n",
    "            backups_clean.write(fpath)"
   ]
  },
  {
   "cell_type": "markdown",
   "metadata": {},
   "source": [
    "Next, we'll merge the tweets and image predictions dataframes and save that as our master."
   ]
  },
  {
   "cell_type": "code",
   "execution_count": 128,
   "metadata": {},
   "outputs": [],
   "source": [
    "# merge the tweets and image predictions.\n",
    "dfc_master = pd.merge(dfc_tweets, dfc_imgpre, on='tweet_id')"
   ]
  },
  {
   "cell_type": "code",
   "execution_count": 129,
   "metadata": {},
   "outputs": [
    {
     "name": "stdout",
     "output_type": "stream",
     "text": [
      "<class 'pandas.core.frame.DataFrame'>\n",
      "Int64Index: 1424 entries, 0 to 1423\n",
      "Data columns (total 23 columns):\n",
      "tweet_id              1424 non-null int64\n",
      "timestamp             1424 non-null datetime64[ns]\n",
      "source                1424 non-null object\n",
      "text                  1424 non-null object\n",
      "expanded_urls         1424 non-null object\n",
      "rating_numerator      1424 non-null int64\n",
      "rating_denominator    1424 non-null int64\n",
      "name                  1424 non-null object\n",
      "id_str                1424 non-null object\n",
      "retweet_count         1424 non-null int64\n",
      "favorite_count        1424 non-null int64\n",
      "dog_stage             1424 non-null object\n",
      "jpg_url               1424 non-null object\n",
      "img_num               1424 non-null int64\n",
      "p1                    1424 non-null object\n",
      "p1_conf               1424 non-null float64\n",
      "p1_dog                1424 non-null bool\n",
      "p2                    1424 non-null object\n",
      "p2_conf               1424 non-null float64\n",
      "p2_dog                1424 non-null bool\n",
      "p3                    1424 non-null object\n",
      "p3_conf               1424 non-null float64\n",
      "p3_dog                1424 non-null bool\n",
      "dtypes: bool(3), datetime64[ns](1), float64(3), int64(6), object(10)\n",
      "memory usage: 237.8+ KB\n"
     ]
    }
   ],
   "source": [
    "# visually inspect\n",
    "dfc_master.info()"
   ]
  },
  {
   "cell_type": "code",
   "execution_count": 130,
   "metadata": {},
   "outputs": [
    {
     "name": "stdout",
     "output_type": "stream",
     "text": [
      "True\n"
     ]
    }
   ],
   "source": [
    "# quick test on indexes\n",
    "print(is_successive(dfc_master.index))"
   ]
  },
  {
   "cell_type": "code",
   "execution_count": 131,
   "metadata": {},
   "outputs": [],
   "source": [
    "# save in home directory as master.\n",
    "master_path = filepath(cwd,'twitter_archive_master.csv')\n",
    "if not os.path.exists(master_path):\n",
    "    dfc_master.to_csv(master_path, index=False)"
   ]
  },
  {
   "cell_type": "markdown",
   "metadata": {},
   "source": [
    "                \n",
    "                \n",
    "                "
   ]
  },
  {
   "cell_type": "markdown",
   "metadata": {},
   "source": [
    "## Analyzing and Visualizing Data\n",
    "In this step, we will address three main questions:\n",
    "- Which dog species get the most engagement (i.e. likes or retweets)?\n",
    "- Which dog stage gets the most engagement?\n",
    "- Is there a correlation between the dog rating and the amount of engagement?\n",
    "\n",
    "Before answering these questions, we need to define a special-purpose function whose job is to take in information about unique values, the column that produces those unique values, and return to us a dataframe which has the total retweet count and favorite count for each unique value."
   ]
  },
  {
   "cell_type": "code",
   "execution_count": 132,
   "metadata": {},
   "outputs": [],
   "source": [
    "# for uniquely-valued dataframe\n",
    "def uniques_rt_fav(column,dframe):\n",
    "    \"\"\"column is a string argument.\n",
    "    all columns in dframe are used, so construct dframe to contain only needed cols.\n",
    "    expects at least three rows - column with unique values,\n",
    "    'retweet_count',\n",
    "    'favorite_count'\n",
    "    \"\"\"\n",
    "    ### PHASE 1 - initialise a dictionary of form {'value':[rts,favs]}\n",
    "    unique_values = dframe[column].unique()\n",
    "    rts_favs = [[0,0] for i in range(len(unique_values))]\n",
    "    uniques_rf_dict = dict(zip(unique_values, rts_favs))\n",
    "    \n",
    "    ### PHASE 2 - iterate through dframe and aggregate (sum-up) the rts, favs\n",
    "    for i in dframe.index:\n",
    "        #row = dframe.loc[i,:] # all cols are selected\n",
    "        val = dframe.at[i,column] # what value is at row i, specified column?\n",
    "        rts = dframe.at[i,'retweet_count']\n",
    "        favs = dframe.at[i,'favorite_count']\n",
    "        # the val in the column is a key in the dictionary\n",
    "        # we access the pair [rts,favs] with [0] beings rts and [1] being favs.\n",
    "        uniques_rf_dict[val][0] += rts\n",
    "        uniques_rf_dict[val][1] += favs\n",
    "    \n",
    "    # PHASE 3 - CREATE THE DATAFRAME, RETURN THE DATAFRAME\n",
    "    temp_dict = []\n",
    "    for unique_val,rt_fav in uniques_rf_dict.items():\n",
    "        temp_dict.append({column:unique_val,\n",
    "                         'total_retweets':rt_fav[0],\n",
    "                         'total_favorites':rt_fav[1]})\n",
    "    return pd.DataFrame(temp_dict)\n"
   ]
  },
  {
   "cell_type": "code",
   "execution_count": 133,
   "metadata": {},
   "outputs": [],
   "source": [
    "# function for making quick visualisations\n",
    "def quick_plot(labels,dframe,lbl_col,val_col,kind,ascend,qty):\n",
    "    \"\"\"\n",
    "    labels is a tuple of title, xlabel and ylabel.\n",
    "    expects a dframe with only unique values\n",
    "    lbl_col is the column from which we want to extract labels\n",
    "    val_col is 'total_retweets' or 'total_favorites'\n",
    "    kind is 'barh' or 'barx'\n",
    "    ascend is True or False. Gets the most or least.\n",
    "    qty is how many we want to plot.\n",
    "    \"\"\"\n",
    "    ttl = labels[0]\n",
    "    xlab = labels[1]\n",
    "    ylab = labels[2]\n",
    "    fig, ax = plt.subplots()\n",
    "    # x axis is values i.e favs or rts\n",
    "    if kind=='barh':\n",
    "        y = dframe.sort_values(by=val_col,ascending=ascend,axis=0)[lbl_col]\n",
    "        y = tuple(y)[0:qty]\n",
    "        x = dframe.sort_values(by=val_col,ascending=ascend,axis=0)[val_col]\n",
    "        x = tuple(map(lambda k:0.001*k, x))[0:qty] # scale down for better labelling\n",
    "        ax.barh(np.arange(len(y)),x,color='orange')\n",
    "        ax.set_title(ttl)\n",
    "        ax.set_yticks(np.arange(len(y)))\n",
    "        ax.set_yticklabels(y)\n",
    "        ax.set_xlabel(xlab)\n",
    "        ax.set_ylabel(ylab)\n",
    "        plt.show() ;\n",
    "        \n",
    "    elif kind=='barx':\n",
    "        # x is the label axis this time.\n",
    "        x = dframe.sort_values(by=val_col,ascending=ascend,axis=0)[lbl_col]\n",
    "        x = tuple(x)[0:qty]\n",
    "        y = dframe.sort_values(by=val_col,ascending=ascend,axis=0)[val_col]\n",
    "        y = tuple(y)[0:qty]\n",
    "        ax.bar(np.arange(len(x)),y,color='blue')\n",
    "        ax.set_title(ttl)\n",
    "        ax.set_xticks(np.arange(len(x)))\n",
    "        ax.set_xticklabels(x)\n",
    "        ax.set_xlabel(xlab)\n",
    "        ax.set_ylabel(ylab)\n",
    "        plt.show() ;"
   ]
  },
  {
   "cell_type": "markdown",
   "metadata": {},
   "source": [
    "### Investigation #1: Relating dog breed and number of likes or retweets"
   ]
  },
  {
   "cell_type": "code",
   "execution_count": 134,
   "metadata": {},
   "outputs": [],
   "source": [
    "# copy the necessary variables\n",
    "df_breed_rt_fav = dfc_master[['p1','retweet_count','favorite_count']].copy()\n",
    "\n",
    "# p1 is an unclear name so let's alias it.\n",
    "df_breed_rt_fav.rename(columns={'p1':'breed'}, inplace=True)\n",
    "\n",
    "# create a dataframe with total likes and retweets for each unique dog breed\n",
    "df_brtfav = uniques_rt_fav(column='breed', dframe=df_breed_rt_fav)"
   ]
  },
  {
   "cell_type": "code",
   "execution_count": 135,
   "metadata": {},
   "outputs": [
    {
     "data": {
      "text/html": [
       "<div>\n",
       "<style scoped>\n",
       "    .dataframe tbody tr th:only-of-type {\n",
       "        vertical-align: middle;\n",
       "    }\n",
       "\n",
       "    .dataframe tbody tr th {\n",
       "        vertical-align: top;\n",
       "    }\n",
       "\n",
       "    .dataframe thead th {\n",
       "        text-align: right;\n",
       "    }\n",
       "</style>\n",
       "<table border=\"1\" class=\"dataframe\">\n",
       "  <thead>\n",
       "    <tr style=\"text-align: right;\">\n",
       "      <th></th>\n",
       "      <th>breed</th>\n",
       "      <th>total_favorites</th>\n",
       "      <th>total_retweets</th>\n",
       "    </tr>\n",
       "  </thead>\n",
       "  <tbody>\n",
       "    <tr>\n",
       "      <th>0</th>\n",
       "      <td>chihuahua</td>\n",
       "      <td>673526</td>\n",
       "      <td>219610</td>\n",
       "    </tr>\n",
       "    <tr>\n",
       "      <th>1</th>\n",
       "      <td>basset</td>\n",
       "      <td>178849</td>\n",
       "      <td>41928</td>\n",
       "    </tr>\n",
       "    <tr>\n",
       "      <th>2</th>\n",
       "      <td>chesapeake_bay_retriever</td>\n",
       "      <td>232997</td>\n",
       "      <td>62793</td>\n",
       "    </tr>\n",
       "    <tr>\n",
       "      <th>3</th>\n",
       "      <td>pomeranian</td>\n",
       "      <td>299114</td>\n",
       "      <td>106518</td>\n",
       "    </tr>\n",
       "    <tr>\n",
       "      <th>4</th>\n",
       "      <td>irish_terrier</td>\n",
       "      <td>37545</td>\n",
       "      <td>7654</td>\n",
       "    </tr>\n",
       "  </tbody>\n",
       "</table>\n",
       "</div>"
      ],
      "text/plain": [
       "                      breed  total_favorites  total_retweets\n",
       "0                 chihuahua           673526          219610\n",
       "1                    basset           178849           41928\n",
       "2  chesapeake_bay_retriever           232997           62793\n",
       "3                pomeranian           299114          106518\n",
       "4             irish_terrier            37545            7654"
      ]
     },
     "execution_count": 135,
     "metadata": {},
     "output_type": "execute_result"
    }
   ],
   "source": [
    "df_brtfav.head()"
   ]
  },
  {
   "cell_type": "markdown",
   "metadata": {},
   "source": [
    "Next, let's get the top ten breeds with respect to total twitter engagement (i.e. retweets, favorites). We'll use the dataframe's [nlargest](https://datascientyst.com/get-top-10-highest-lowest-values-pandas/) method."
   ]
  },
  {
   "cell_type": "code",
   "execution_count": 136,
   "metadata": {},
   "outputs": [
    {
     "data": {
      "text/html": [
       "<div>\n",
       "<style scoped>\n",
       "    .dataframe tbody tr th:only-of-type {\n",
       "        vertical-align: middle;\n",
       "    }\n",
       "\n",
       "    .dataframe tbody tr th {\n",
       "        vertical-align: top;\n",
       "    }\n",
       "\n",
       "    .dataframe thead th {\n",
       "        text-align: right;\n",
       "    }\n",
       "</style>\n",
       "<table border=\"1\" class=\"dataframe\">\n",
       "  <thead>\n",
       "    <tr style=\"text-align: right;\">\n",
       "      <th></th>\n",
       "      <th>breed</th>\n",
       "      <th>total_favorites</th>\n",
       "      <th>total_retweets</th>\n",
       "    </tr>\n",
       "  </thead>\n",
       "  <tbody>\n",
       "    <tr>\n",
       "      <th>8</th>\n",
       "      <td>golden_retriever</td>\n",
       "      <td>1613204</td>\n",
       "      <td>472902</td>\n",
       "    </tr>\n",
       "    <tr>\n",
       "      <th>21</th>\n",
       "      <td>labrador_retriever</td>\n",
       "      <td>1104820</td>\n",
       "      <td>359558</td>\n",
       "    </tr>\n",
       "    <tr>\n",
       "      <th>5</th>\n",
       "      <td>pembroke</td>\n",
       "      <td>994755</td>\n",
       "      <td>280367</td>\n",
       "    </tr>\n",
       "    <tr>\n",
       "      <th>0</th>\n",
       "      <td>chihuahua</td>\n",
       "      <td>673526</td>\n",
       "      <td>219610</td>\n",
       "    </tr>\n",
       "    <tr>\n",
       "      <th>6</th>\n",
       "      <td>samoyed</td>\n",
       "      <td>542991</td>\n",
       "      <td>184922</td>\n",
       "    </tr>\n",
       "    <tr>\n",
       "      <th>7</th>\n",
       "      <td>french_bulldog</td>\n",
       "      <td>465738</td>\n",
       "      <td>121782</td>\n",
       "    </tr>\n",
       "    <tr>\n",
       "      <th>17</th>\n",
       "      <td>chow</td>\n",
       "      <td>404241</td>\n",
       "      <td>116361</td>\n",
       "    </tr>\n",
       "    <tr>\n",
       "      <th>3</th>\n",
       "      <td>pomeranian</td>\n",
       "      <td>299114</td>\n",
       "      <td>106518</td>\n",
       "    </tr>\n",
       "    <tr>\n",
       "      <th>29</th>\n",
       "      <td>cocker_spaniel</td>\n",
       "      <td>315825</td>\n",
       "      <td>100561</td>\n",
       "    </tr>\n",
       "    <tr>\n",
       "      <th>13</th>\n",
       "      <td>pug</td>\n",
       "      <td>320223</td>\n",
       "      <td>99182</td>\n",
       "    </tr>\n",
       "  </tbody>\n",
       "</table>\n",
       "</div>"
      ],
      "text/plain": [
       "                 breed  total_favorites  total_retweets\n",
       "8     golden_retriever          1613204          472902\n",
       "21  labrador_retriever          1104820          359558\n",
       "5             pembroke           994755          280367\n",
       "0            chihuahua           673526          219610\n",
       "6              samoyed           542991          184922\n",
       "7       french_bulldog           465738          121782\n",
       "17                chow           404241          116361\n",
       "3           pomeranian           299114          106518\n",
       "29      cocker_spaniel           315825          100561\n",
       "13                 pug           320223           99182"
      ]
     },
     "execution_count": 136,
     "metadata": {},
     "output_type": "execute_result"
    }
   ],
   "source": [
    "# the top ten most retweeted, descending order\n",
    "df_brtfav.nlargest(n=10, columns=['total_retweets'])"
   ]
  },
  {
   "cell_type": "code",
   "execution_count": 137,
   "metadata": {},
   "outputs": [
    {
     "data": {
      "text/html": [
       "<div>\n",
       "<style scoped>\n",
       "    .dataframe tbody tr th:only-of-type {\n",
       "        vertical-align: middle;\n",
       "    }\n",
       "\n",
       "    .dataframe tbody tr th {\n",
       "        vertical-align: top;\n",
       "    }\n",
       "\n",
       "    .dataframe thead th {\n",
       "        text-align: right;\n",
       "    }\n",
       "</style>\n",
       "<table border=\"1\" class=\"dataframe\">\n",
       "  <thead>\n",
       "    <tr style=\"text-align: right;\">\n",
       "      <th></th>\n",
       "      <th>breed</th>\n",
       "      <th>total_favorites</th>\n",
       "      <th>total_retweets</th>\n",
       "    </tr>\n",
       "  </thead>\n",
       "  <tbody>\n",
       "    <tr>\n",
       "      <th>8</th>\n",
       "      <td>golden_retriever</td>\n",
       "      <td>1613204</td>\n",
       "      <td>472902</td>\n",
       "    </tr>\n",
       "    <tr>\n",
       "      <th>21</th>\n",
       "      <td>labrador_retriever</td>\n",
       "      <td>1104820</td>\n",
       "      <td>359558</td>\n",
       "    </tr>\n",
       "    <tr>\n",
       "      <th>5</th>\n",
       "      <td>pembroke</td>\n",
       "      <td>994755</td>\n",
       "      <td>280367</td>\n",
       "    </tr>\n",
       "    <tr>\n",
       "      <th>0</th>\n",
       "      <td>chihuahua</td>\n",
       "      <td>673526</td>\n",
       "      <td>219610</td>\n",
       "    </tr>\n",
       "    <tr>\n",
       "      <th>6</th>\n",
       "      <td>samoyed</td>\n",
       "      <td>542991</td>\n",
       "      <td>184922</td>\n",
       "    </tr>\n",
       "    <tr>\n",
       "      <th>7</th>\n",
       "      <td>french_bulldog</td>\n",
       "      <td>465738</td>\n",
       "      <td>121782</td>\n",
       "    </tr>\n",
       "    <tr>\n",
       "      <th>17</th>\n",
       "      <td>chow</td>\n",
       "      <td>404241</td>\n",
       "      <td>116361</td>\n",
       "    </tr>\n",
       "    <tr>\n",
       "      <th>13</th>\n",
       "      <td>pug</td>\n",
       "      <td>320223</td>\n",
       "      <td>99182</td>\n",
       "    </tr>\n",
       "    <tr>\n",
       "      <th>29</th>\n",
       "      <td>cocker_spaniel</td>\n",
       "      <td>315825</td>\n",
       "      <td>100561</td>\n",
       "    </tr>\n",
       "    <tr>\n",
       "      <th>3</th>\n",
       "      <td>pomeranian</td>\n",
       "      <td>299114</td>\n",
       "      <td>106518</td>\n",
       "    </tr>\n",
       "  </tbody>\n",
       "</table>\n",
       "</div>"
      ],
      "text/plain": [
       "                 breed  total_favorites  total_retweets\n",
       "8     golden_retriever          1613204          472902\n",
       "21  labrador_retriever          1104820          359558\n",
       "5             pembroke           994755          280367\n",
       "0            chihuahua           673526          219610\n",
       "6              samoyed           542991          184922\n",
       "7       french_bulldog           465738          121782\n",
       "17                chow           404241          116361\n",
       "13                 pug           320223           99182\n",
       "29      cocker_spaniel           315825          100561\n",
       "3           pomeranian           299114          106518"
      ]
     },
     "execution_count": 137,
     "metadata": {},
     "output_type": "execute_result"
    }
   ],
   "source": [
    "# the top ten most favorited, descending order\n",
    "df_brtfav.nlargest(n=10, columns=['total_favorites'])"
   ]
  },
  {
   "cell_type": "markdown",
   "metadata": {},
   "source": [
    "Interesting. The first thing to note is that item-wise, the top retweeted dogs and the top-favorited dogs are the same. The only difference is in the order of the last three breeds - Pug, Cocker Spaniel, Pomeranian.\n",
    "Secondly, either the dataframe has a bias towards Golden Retrievers, or Golden Retrievers were generally retweeted or favorited more frequently. Let's scan the original dataframes for any bias. We'll check the overall proportion of golden retrievers there are."
   ]
  },
  {
   "cell_type": "code",
   "execution_count": 138,
   "metadata": {},
   "outputs": [
    {
     "name": "stdout",
     "output_type": "stream",
     "text": [
      "There are 131 golden retrievers.\n",
      "That is about 9.1 percent of all dogs.\n"
     ]
    }
   ],
   "source": [
    "# how many golden retrievers in the original dataset?\n",
    "total_gold = df_breed_rt_fav['breed'].value_counts()['golden_retriever']\n",
    "all_dogs = df_breed_rt_fav.shape[0]\n",
    "print(f\"There are {total_gold} golden retrievers.\")\n",
    "print(f\"That is about {0.1*int(1000*total_gold/all_dogs)} percent of all dogs.\")"
   ]
  },
  {
   "cell_type": "markdown",
   "metadata": {},
   "source": [
    "It doesn't seem like there are too many Golden Retrievers in the dataset. Even so, Golden Retrievers are the dog breed with the highest number of reviews."
   ]
  },
  {
   "cell_type": "markdown",
   "metadata": {},
   "source": [
    "#### Fig 1.1a: The top-ten most retweeted dog breeds"
   ]
  },
  {
   "cell_type": "code",
   "execution_count": 139,
   "metadata": {},
   "outputs": [
    {
     "data": {
      "image/png": "[encoded data removed]",
      "text/plain": [
       "<matplotlib.figure.Figure at 0x7fa49255de10>"
      ]
     },
     "metadata": {
      "needs_background": "light"
     },
     "output_type": "display_data"
    }
   ],
   "source": [
    "# creating the data\n",
    "brlabels = (\"TOP 10 MOST RETWEETED DOG BREEDS\",\n",
    "         \"Total number of retweets (thousands)\",\n",
    "         \"Dog breed\")\n",
    "\n",
    "# make a quick plot\n",
    "quick_plot(labels=brlabels, dframe=df_brtfav, lbl_col='breed',\n",
    "          val_col='total_retweets', kind='barh', ascend=False, qty=10)"
   ]
  },
  {
   "cell_type": "markdown",
   "metadata": {},
   "source": [
    "#### Fig 1.1b Top ten most favorited dog breeds."
   ]
  },
  {
   "cell_type": "code",
   "execution_count": 140,
   "metadata": {},
   "outputs": [
    {
     "data": {
      "image/png": "[encoded data removed]",
      "text/plain": [
       "<matplotlib.figure.Figure at 0x7fa492574208>"
      ]
     },
     "metadata": {
      "needs_background": "light"
     },
     "output_type": "display_data"
    }
   ],
   "source": [
    "# creating the data\n",
    "brlabels = (\"TOP 10 MOST FAVORITED DOG BREEDS\",\n",
    "         \"Total number of favorites (thousands)\",\n",
    "         \"Dog breed\")\n",
    "\n",
    "# make a quick plot for favorites\n",
    "quick_plot(labels=brlabels, dframe=df_brtfav, lbl_col='breed',\n",
    "          val_col='total_favorites', kind='barh', ascend=False, qty=10)"
   ]
  },
  {
   "cell_type": "markdown",
   "metadata": {},
   "source": [
    "In contrast, let's see the dog breeds with the least engagement."
   ]
  },
  {
   "cell_type": "code",
   "execution_count": 141,
   "metadata": {},
   "outputs": [
    {
     "data": {
      "text/html": [
       "<div>\n",
       "<style scoped>\n",
       "    .dataframe tbody tr th:only-of-type {\n",
       "        vertical-align: middle;\n",
       "    }\n",
       "\n",
       "    .dataframe tbody tr th {\n",
       "        vertical-align: top;\n",
       "    }\n",
       "\n",
       "    .dataframe thead th {\n",
       "        text-align: right;\n",
       "    }\n",
       "</style>\n",
       "<table border=\"1\" class=\"dataframe\">\n",
       "  <thead>\n",
       "    <tr style=\"text-align: right;\">\n",
       "      <th></th>\n",
       "      <th>breed</th>\n",
       "      <th>total_favorites</th>\n",
       "      <th>total_retweets</th>\n",
       "    </tr>\n",
       "  </thead>\n",
       "  <tbody>\n",
       "    <tr>\n",
       "      <th>103</th>\n",
       "      <td>groenendael</td>\n",
       "      <td>1896</td>\n",
       "      <td>413</td>\n",
       "    </tr>\n",
       "    <tr>\n",
       "      <th>108</th>\n",
       "      <td>japanese_spaniel</td>\n",
       "      <td>1362</td>\n",
       "      <td>471</td>\n",
       "    </tr>\n",
       "    <tr>\n",
       "      <th>107</th>\n",
       "      <td>entlebucher</td>\n",
       "      <td>2678</td>\n",
       "      <td>706</td>\n",
       "    </tr>\n",
       "    <tr>\n",
       "      <th>102</th>\n",
       "      <td>appenzeller</td>\n",
       "      <td>2594</td>\n",
       "      <td>758</td>\n",
       "    </tr>\n",
       "    <tr>\n",
       "      <th>110</th>\n",
       "      <td>brabancon_griffon</td>\n",
       "      <td>2655</td>\n",
       "      <td>863</td>\n",
       "    </tr>\n",
       "    <tr>\n",
       "      <th>109</th>\n",
       "      <td>standard_schnauzer</td>\n",
       "      <td>2046</td>\n",
       "      <td>928</td>\n",
       "    </tr>\n",
       "    <tr>\n",
       "      <th>98</th>\n",
       "      <td>tibetan_terrier</td>\n",
       "      <td>4211</td>\n",
       "      <td>1150</td>\n",
       "    </tr>\n",
       "    <tr>\n",
       "      <th>105</th>\n",
       "      <td>scotch_terrier</td>\n",
       "      <td>3624</td>\n",
       "      <td>1250</td>\n",
       "    </tr>\n",
       "    <tr>\n",
       "      <th>106</th>\n",
       "      <td>ibizan_hound</td>\n",
       "      <td>3344</td>\n",
       "      <td>1293</td>\n",
       "    </tr>\n",
       "    <tr>\n",
       "      <th>93</th>\n",
       "      <td>welsh_springer_spaniel</td>\n",
       "      <td>8097</td>\n",
       "      <td>1551</td>\n",
       "    </tr>\n",
       "  </tbody>\n",
       "</table>\n",
       "</div>"
      ],
      "text/plain": [
       "                      breed  total_favorites  total_retweets\n",
       "103             groenendael             1896             413\n",
       "108        japanese_spaniel             1362             471\n",
       "107             entlebucher             2678             706\n",
       "102             appenzeller             2594             758\n",
       "110       brabancon_griffon             2655             863\n",
       "109      standard_schnauzer             2046             928\n",
       "98          tibetan_terrier             4211            1150\n",
       "105          scotch_terrier             3624            1250\n",
       "106            ibizan_hound             3344            1293\n",
       "93   welsh_springer_spaniel             8097            1551"
      ]
     },
     "execution_count": 141,
     "metadata": {},
     "output_type": "execute_result"
    }
   ],
   "source": [
    "# the least ten most retweeted, ascending order of retweets\n",
    "df_brtfav.nsmallest(n=10, columns=['total_retweets'])"
   ]
  },
  {
   "cell_type": "code",
   "execution_count": 142,
   "metadata": {},
   "outputs": [
    {
     "data": {
      "text/html": [
       "<div>\n",
       "<style scoped>\n",
       "    .dataframe tbody tr th:only-of-type {\n",
       "        vertical-align: middle;\n",
       "    }\n",
       "\n",
       "    .dataframe tbody tr th {\n",
       "        vertical-align: top;\n",
       "    }\n",
       "\n",
       "    .dataframe thead th {\n",
       "        text-align: right;\n",
       "    }\n",
       "</style>\n",
       "<table border=\"1\" class=\"dataframe\">\n",
       "  <thead>\n",
       "    <tr style=\"text-align: right;\">\n",
       "      <th></th>\n",
       "      <th>breed</th>\n",
       "      <th>total_favorites</th>\n",
       "      <th>total_retweets</th>\n",
       "    </tr>\n",
       "  </thead>\n",
       "  <tbody>\n",
       "    <tr>\n",
       "      <th>108</th>\n",
       "      <td>japanese_spaniel</td>\n",
       "      <td>1362</td>\n",
       "      <td>471</td>\n",
       "    </tr>\n",
       "    <tr>\n",
       "      <th>103</th>\n",
       "      <td>groenendael</td>\n",
       "      <td>1896</td>\n",
       "      <td>413</td>\n",
       "    </tr>\n",
       "    <tr>\n",
       "      <th>109</th>\n",
       "      <td>standard_schnauzer</td>\n",
       "      <td>2046</td>\n",
       "      <td>928</td>\n",
       "    </tr>\n",
       "    <tr>\n",
       "      <th>102</th>\n",
       "      <td>appenzeller</td>\n",
       "      <td>2594</td>\n",
       "      <td>758</td>\n",
       "    </tr>\n",
       "    <tr>\n",
       "      <th>110</th>\n",
       "      <td>brabancon_griffon</td>\n",
       "      <td>2655</td>\n",
       "      <td>863</td>\n",
       "    </tr>\n",
       "    <tr>\n",
       "      <th>107</th>\n",
       "      <td>entlebucher</td>\n",
       "      <td>2678</td>\n",
       "      <td>706</td>\n",
       "    </tr>\n",
       "    <tr>\n",
       "      <th>106</th>\n",
       "      <td>ibizan_hound</td>\n",
       "      <td>3344</td>\n",
       "      <td>1293</td>\n",
       "    </tr>\n",
       "    <tr>\n",
       "      <th>105</th>\n",
       "      <td>scotch_terrier</td>\n",
       "      <td>3624</td>\n",
       "      <td>1250</td>\n",
       "    </tr>\n",
       "    <tr>\n",
       "      <th>98</th>\n",
       "      <td>tibetan_terrier</td>\n",
       "      <td>4211</td>\n",
       "      <td>1150</td>\n",
       "    </tr>\n",
       "    <tr>\n",
       "      <th>88</th>\n",
       "      <td>silky_terrier</td>\n",
       "      <td>7317</td>\n",
       "      <td>1891</td>\n",
       "    </tr>\n",
       "  </tbody>\n",
       "</table>\n",
       "</div>"
      ],
      "text/plain": [
       "                  breed  total_favorites  total_retweets\n",
       "108    japanese_spaniel             1362             471\n",
       "103         groenendael             1896             413\n",
       "109  standard_schnauzer             2046             928\n",
       "102         appenzeller             2594             758\n",
       "110   brabancon_griffon             2655             863\n",
       "107         entlebucher             2678             706\n",
       "106        ibizan_hound             3344            1293\n",
       "105      scotch_terrier             3624            1250\n",
       "98      tibetan_terrier             4211            1150\n",
       "88        silky_terrier             7317            1891"
      ]
     },
     "execution_count": 142,
     "metadata": {},
     "output_type": "execute_result"
    }
   ],
   "source": [
    "# the least ten most favorited, ascending order of favorites\n",
    "df_brtfav.nsmallest(n=10, columns=['total_favorites'])"
   ]
  },
  {
   "cell_type": "markdown",
   "metadata": {},
   "source": [
    "There isn't much to say here other than I never even knew some of these existed. Perhaps that's one reason they're engaged with less frequently - because these are rarely-known dog breeds? More exploration is needed in that regard."
   ]
  },
  {
   "cell_type": "markdown",
   "metadata": {},
   "source": [
    "### Investigation #2: Relating dog stage and number of likes or retweets"
   ]
  },
  {
   "cell_type": "markdown",
   "metadata": {},
   "source": [
    "My expectation is that puppers and puppos will generally get more likes and retweets. This is because they are generally perceived as 'cuter' and if [this](https://www.youtube.com/watch?v=Z0zConOPZ8Y) six-minute video is reliable evidence, humans are biased towards 'cute' things. So, let's see what we get.\n",
    "\n",
    "As a precaution, not every dog-stage in the original dataset was specified so we'd only be working with a small subset of the original dataset. Still, let's have faith that it's a representative sample."
   ]
  },
  {
   "cell_type": "code",
   "execution_count": 143,
   "metadata": {},
   "outputs": [],
   "source": [
    "# create a useful sub dataframe\n",
    "df_dogstage_rtfav = dfc_master[['dog_stage','retweet_count','favorite_count']]\n",
    "df_dogstage_rtfav = df_dogstage_rtfav[df_dogstage_rtfav['dog_stage']!='N/A'].copy()\n",
    "df_dogstage_rtfav.reset_index(inplace=True, drop=True)"
   ]
  },
  {
   "cell_type": "code",
   "execution_count": 144,
   "metadata": {},
   "outputs": [
    {
     "data": {
      "text/plain": [
       "pupper     155\n",
       "doggo       49\n",
       "puppo       25\n",
       "floofer      6\n",
       "Name: dog_stage, dtype: int64"
      ]
     },
     "execution_count": 144,
     "metadata": {},
     "output_type": "execute_result"
    }
   ],
   "source": [
    "# quick visual assessment\n",
    "df_dogstage_rtfav['dog_stage'].value_counts()"
   ]
  },
  {
   "cell_type": "markdown",
   "metadata": {},
   "source": [
    "It seems like there are a lot of puppers in this dataset."
   ]
  },
  {
   "cell_type": "code",
   "execution_count": 145,
   "metadata": {},
   "outputs": [],
   "source": [
    "# aggregate the retweets and faves\n",
    "df_dgrtfav = uniques_rt_fav(column='dog_stage', dframe=df_dogstage_rtfav)"
   ]
  },
  {
   "cell_type": "code",
   "execution_count": 146,
   "metadata": {},
   "outputs": [
    {
     "data": {
      "text/html": [
       "<div>\n",
       "<style scoped>\n",
       "    .dataframe tbody tr th:only-of-type {\n",
       "        vertical-align: middle;\n",
       "    }\n",
       "\n",
       "    .dataframe tbody tr th {\n",
       "        vertical-align: top;\n",
       "    }\n",
       "\n",
       "    .dataframe thead th {\n",
       "        text-align: right;\n",
       "    }\n",
       "</style>\n",
       "<table border=\"1\" class=\"dataframe\">\n",
       "  <thead>\n",
       "    <tr style=\"text-align: right;\">\n",
       "      <th></th>\n",
       "      <th>dog_stage</th>\n",
       "      <th>total_favorites</th>\n",
       "      <th>total_retweets</th>\n",
       "    </tr>\n",
       "  </thead>\n",
       "  <tbody>\n",
       "    <tr>\n",
       "      <th>2</th>\n",
       "      <td>pupper</td>\n",
       "      <td>1266624</td>\n",
       "      <td>395269</td>\n",
       "    </tr>\n",
       "    <tr>\n",
       "      <th>0</th>\n",
       "      <td>doggo</td>\n",
       "      <td>1005744</td>\n",
       "      <td>368200</td>\n",
       "    </tr>\n",
       "    <tr>\n",
       "      <th>1</th>\n",
       "      <td>puppo</td>\n",
       "      <td>589759</td>\n",
       "      <td>172359</td>\n",
       "    </tr>\n",
       "    <tr>\n",
       "      <th>3</th>\n",
       "      <td>floofer</td>\n",
       "      <td>86366</td>\n",
       "      <td>32272</td>\n",
       "    </tr>\n",
       "  </tbody>\n",
       "</table>\n",
       "</div>"
      ],
      "text/plain": [
       "  dog_stage  total_favorites  total_retweets\n",
       "2    pupper          1266624          395269\n",
       "0     doggo          1005744          368200\n",
       "1     puppo           589759          172359\n",
       "3   floofer            86366           32272"
      ]
     },
     "execution_count": 146,
     "metadata": {},
     "output_type": "execute_result"
    }
   ],
   "source": [
    "# sort by total retweets, descending order\n",
    "df_dgrtfav.nlargest(n=4, columns=['total_retweets'])"
   ]
  },
  {
   "cell_type": "code",
   "execution_count": 147,
   "metadata": {},
   "outputs": [
    {
     "data": {
      "text/html": [
       "<div>\n",
       "<style scoped>\n",
       "    .dataframe tbody tr th:only-of-type {\n",
       "        vertical-align: middle;\n",
       "    }\n",
       "\n",
       "    .dataframe tbody tr th {\n",
       "        vertical-align: top;\n",
       "    }\n",
       "\n",
       "    .dataframe thead th {\n",
       "        text-align: right;\n",
       "    }\n",
       "</style>\n",
       "<table border=\"1\" class=\"dataframe\">\n",
       "  <thead>\n",
       "    <tr style=\"text-align: right;\">\n",
       "      <th></th>\n",
       "      <th>dog_stage</th>\n",
       "      <th>total_favorites</th>\n",
       "      <th>total_retweets</th>\n",
       "    </tr>\n",
       "  </thead>\n",
       "  <tbody>\n",
       "    <tr>\n",
       "      <th>2</th>\n",
       "      <td>pupper</td>\n",
       "      <td>1266624</td>\n",
       "      <td>395269</td>\n",
       "    </tr>\n",
       "    <tr>\n",
       "      <th>0</th>\n",
       "      <td>doggo</td>\n",
       "      <td>1005744</td>\n",
       "      <td>368200</td>\n",
       "    </tr>\n",
       "    <tr>\n",
       "      <th>1</th>\n",
       "      <td>puppo</td>\n",
       "      <td>589759</td>\n",
       "      <td>172359</td>\n",
       "    </tr>\n",
       "    <tr>\n",
       "      <th>3</th>\n",
       "      <td>floofer</td>\n",
       "      <td>86366</td>\n",
       "      <td>32272</td>\n",
       "    </tr>\n",
       "  </tbody>\n",
       "</table>\n",
       "</div>"
      ],
      "text/plain": [
       "  dog_stage  total_favorites  total_retweets\n",
       "2    pupper          1266624          395269\n",
       "0     doggo          1005744          368200\n",
       "1     puppo           589759          172359\n",
       "3   floofer            86366           32272"
      ]
     },
     "execution_count": 147,
     "metadata": {},
     "output_type": "execute_result"
    }
   ],
   "source": [
    "# sort by total favorites, descending order\n",
    "df_dgrtfav.nlargest(n=4, columns=['total_favorites'])"
   ]
  },
  {
   "cell_type": "markdown",
   "metadata": {},
   "source": [
    "The results are clear. Puppers are the most engaged-with dog-stage in terms of either likes or retweets. Let's plot a quick barplot to make the relationship clearer."
   ]
  },
  {
   "cell_type": "markdown",
   "metadata": {},
   "source": [
    "#### Fig 2.1: Number of retweets for each dog-stage"
   ]
  },
  {
   "cell_type": "code",
   "execution_count": 148,
   "metadata": {},
   "outputs": [
    {
     "data": {
      "image/png": "[encoded data removed]",
      "text/plain": [
       "<matplotlib.figure.Figure at 0x7fa4903ad7b8>"
      ]
     },
     "metadata": {
      "needs_background": "light"
     },
     "output_type": "display_data"
    }
   ],
   "source": [
    "# creating the data\n",
    "dslabels = (\"TOTAL RETWEETS FOR EACH DOG STAGE\",\n",
    "         \"Total number of retweets (thousands)\",\n",
    "         \"Dog stage\")\n",
    "\n",
    "# make a quick plot for retweets\n",
    "quick_plot(labels=dslabels, dframe=df_dgrtfav, lbl_col='dog_stage',\n",
    "          val_col='total_retweets', kind='barh', ascend=False, qty=4)"
   ]
  },
  {
   "cell_type": "markdown",
   "metadata": {},
   "source": [
    "#### Fig 2.2: Number of favorites for each dog-stage"
   ]
  },
  {
   "cell_type": "code",
   "execution_count": 149,
   "metadata": {},
   "outputs": [
    {
     "data": {
      "image/png": "[encoded data removed]",
      "text/plain": [
       "<matplotlib.figure.Figure at 0x7fa49038f470>"
      ]
     },
     "metadata": {
      "needs_background": "light"
     },
     "output_type": "display_data"
    }
   ],
   "source": [
    "# creating the data\n",
    "dslabels = (\"TOTAL FAVORITES FOR EACH DOG STAGE\",\n",
    "         \"Total number of favorites (thousands)\",\n",
    "         \"Dog stage\")\n",
    "\n",
    "# make a quick plot for retweets\n",
    "quick_plot(labels=dslabels, dframe=df_dgrtfav, lbl_col='dog_stage',\n",
    "          val_col='total_favorites', kind='barh', ascend=False, qty=4)"
   ]
  },
  {
   "cell_type": "markdown",
   "metadata": {},
   "source": [
    "### Investigation #3: Relating dog rating and number of likes or retweets"
   ]
  },
  {
   "cell_type": "markdown",
   "metadata": {},
   "source": [
    "Even though the ratings are mostly humorous, let's see if there's any correlation between the rating and total number of likes or retweets."
   ]
  },
  {
   "cell_type": "code",
   "execution_count": 150,
   "metadata": {},
   "outputs": [],
   "source": [
    "# construct our dframe in one fell swoop\n",
    "df_rate_rtfav = uniques_rt_fav(column='rating_numerator', dframe=dfc_master[['rating_numerator','retweet_count','favorite_count']])"
   ]
  },
  {
   "cell_type": "code",
   "execution_count": 151,
   "metadata": {},
   "outputs": [],
   "source": [
    "# reorganise the dataframe a bit\n",
    "df_rate_rtfav.rename(columns={'rating_numerator':'rating'},inplace=True)\n",
    "df_rate_rtfav.sort_values(by='rating',inplace=True)\n",
    "df_rate_rtfav.reset_index(inplace=True, drop=True)"
   ]
  },
  {
   "cell_type": "code",
   "execution_count": 152,
   "metadata": {},
   "outputs": [
    {
     "data": {
      "text/html": [
       "<div>\n",
       "<style scoped>\n",
       "    .dataframe tbody tr th:only-of-type {\n",
       "        vertical-align: middle;\n",
       "    }\n",
       "\n",
       "    .dataframe tbody tr th {\n",
       "        vertical-align: top;\n",
       "    }\n",
       "\n",
       "    .dataframe thead th {\n",
       "        text-align: right;\n",
       "    }\n",
       "</style>\n",
       "<table border=\"1\" class=\"dataframe\">\n",
       "  <thead>\n",
       "    <tr style=\"text-align: right;\">\n",
       "      <th></th>\n",
       "      <th>rating</th>\n",
       "      <th>total_favorites</th>\n",
       "      <th>total_retweets</th>\n",
       "    </tr>\n",
       "  </thead>\n",
       "  <tbody>\n",
       "    <tr>\n",
       "      <th>0</th>\n",
       "      <td>2</td>\n",
       "      <td>5916</td>\n",
       "      <td>2880</td>\n",
       "    </tr>\n",
       "    <tr>\n",
       "      <th>1</th>\n",
       "      <td>3</td>\n",
       "      <td>9919</td>\n",
       "      <td>2814</td>\n",
       "    </tr>\n",
       "    <tr>\n",
       "      <th>2</th>\n",
       "      <td>4</td>\n",
       "      <td>10453</td>\n",
       "      <td>3633</td>\n",
       "    </tr>\n",
       "    <tr>\n",
       "      <th>3</th>\n",
       "      <td>5</td>\n",
       "      <td>69095</td>\n",
       "      <td>17369</td>\n",
       "    </tr>\n",
       "    <tr>\n",
       "      <th>4</th>\n",
       "      <td>6</td>\n",
       "      <td>17992</td>\n",
       "      <td>7624</td>\n",
       "    </tr>\n",
       "    <tr>\n",
       "      <th>5</th>\n",
       "      <td>7</td>\n",
       "      <td>51850</td>\n",
       "      <td>17808</td>\n",
       "    </tr>\n",
       "    <tr>\n",
       "      <th>6</th>\n",
       "      <td>8</td>\n",
       "      <td>114634</td>\n",
       "      <td>40963</td>\n",
       "    </tr>\n",
       "    <tr>\n",
       "      <th>7</th>\n",
       "      <td>9</td>\n",
       "      <td>259086</td>\n",
       "      <td>84574</td>\n",
       "    </tr>\n",
       "    <tr>\n",
       "      <th>8</th>\n",
       "      <td>10</td>\n",
       "      <td>1197618</td>\n",
       "      <td>426761</td>\n",
       "    </tr>\n",
       "    <tr>\n",
       "      <th>9</th>\n",
       "      <td>11</td>\n",
       "      <td>2004068</td>\n",
       "      <td>640915</td>\n",
       "    </tr>\n",
       "    <tr>\n",
       "      <th>10</th>\n",
       "      <td>12</td>\n",
       "      <td>4055307</td>\n",
       "      <td>1088766</td>\n",
       "    </tr>\n",
       "    <tr>\n",
       "      <th>11</th>\n",
       "      <td>13</td>\n",
       "      <td>4825108</td>\n",
       "      <td>1445699</td>\n",
       "    </tr>\n",
       "    <tr>\n",
       "      <th>12</th>\n",
       "      <td>14</td>\n",
       "      <td>600145</td>\n",
       "      <td>192756</td>\n",
       "    </tr>\n",
       "    <tr>\n",
       "      <th>13</th>\n",
       "      <td>26</td>\n",
       "      <td>1879</td>\n",
       "      <td>542</td>\n",
       "    </tr>\n",
       "    <tr>\n",
       "      <th>14</th>\n",
       "      <td>27</td>\n",
       "      <td>7320</td>\n",
       "      <td>1885</td>\n",
       "    </tr>\n",
       "    <tr>\n",
       "      <th>15</th>\n",
       "      <td>75</td>\n",
       "      <td>20296</td>\n",
       "      <td>7069</td>\n",
       "    </tr>\n",
       "  </tbody>\n",
       "</table>\n",
       "</div>"
      ],
      "text/plain": [
       "    rating  total_favorites  total_retweets\n",
       "0        2             5916            2880\n",
       "1        3             9919            2814\n",
       "2        4            10453            3633\n",
       "3        5            69095           17369\n",
       "4        6            17992            7624\n",
       "5        7            51850           17808\n",
       "6        8           114634           40963\n",
       "7        9           259086           84574\n",
       "8       10          1197618          426761\n",
       "9       11          2004068          640915\n",
       "10      12          4055307         1088766\n",
       "11      13          4825108         1445699\n",
       "12      14           600145          192756\n",
       "13      26             1879             542\n",
       "14      27             7320            1885\n",
       "15      75            20296            7069"
      ]
     },
     "execution_count": 152,
     "metadata": {},
     "output_type": "execute_result"
    }
   ],
   "source": [
    "# visually inspect the dataframe\n",
    "df_rate_rtfav"
   ]
  },
  {
   "cell_type": "markdown",
   "metadata": {},
   "source": [
    "However, for this information to be useful we have to deal with the average number of favorites and retweets for each column."
   ]
  },
  {
   "cell_type": "code",
   "execution_count": 153,
   "metadata": {},
   "outputs": [],
   "source": [
    "# convert to average by dividing total count by value_counts\n",
    "for i in df_rate_rtfav.index:\n",
    "    rting = df_rate_rtfav.at[i,'rating']\n",
    "    counts = dfc_master['rating_numerator'].value_counts()[rting] # how many instances of rating?\n",
    "    avg_favorites = df_rate_rtfav.at[i,'total_favorites']/counts\n",
    "    df_rate_rtfav.at[i,'total_favorites'] = avg_favorites # reassign to the avg favorites\n",
    "    avg_retweets = df_rate_rtfav.at[i,'total_retweets']/counts\n",
    "    df_rate_rtfav.at[i,'total_retweets'] = avg_retweets"
   ]
  },
  {
   "cell_type": "code",
   "execution_count": 155,
   "metadata": {},
   "outputs": [],
   "source": [
    "# rename the columns to reflect the change\n",
    "df_rate_rtfav.rename(columns={'total_favorites':'average_favorites',\n",
    "                              'total_retweets':'average_retweets'},\n",
    "                    inplace=True)"
   ]
  },
  {
   "cell_type": "code",
   "execution_count": 156,
   "metadata": {},
   "outputs": [
    {
     "data": {
      "text/html": [
       "<div>\n",
       "<style scoped>\n",
       "    .dataframe tbody tr th:only-of-type {\n",
       "        vertical-align: middle;\n",
       "    }\n",
       "\n",
       "    .dataframe tbody tr th {\n",
       "        vertical-align: top;\n",
       "    }\n",
       "\n",
       "    .dataframe thead th {\n",
       "        text-align: right;\n",
       "    }\n",
       "</style>\n",
       "<table border=\"1\" class=\"dataframe\">\n",
       "  <thead>\n",
       "    <tr style=\"text-align: right;\">\n",
       "      <th></th>\n",
       "      <th>rating</th>\n",
       "      <th>average_favorites</th>\n",
       "      <th>average_retweets</th>\n",
       "    </tr>\n",
       "  </thead>\n",
       "  <tbody>\n",
       "    <tr>\n",
       "      <th>0</th>\n",
       "      <td>2</td>\n",
       "      <td>5916</td>\n",
       "      <td>2880</td>\n",
       "    </tr>\n",
       "    <tr>\n",
       "      <th>1</th>\n",
       "      <td>3</td>\n",
       "      <td>3306</td>\n",
       "      <td>938</td>\n",
       "    </tr>\n",
       "    <tr>\n",
       "      <th>2</th>\n",
       "      <td>4</td>\n",
       "      <td>2613</td>\n",
       "      <td>908</td>\n",
       "    </tr>\n",
       "    <tr>\n",
       "      <th>3</th>\n",
       "      <td>5</td>\n",
       "      <td>7677</td>\n",
       "      <td>1929</td>\n",
       "    </tr>\n",
       "    <tr>\n",
       "      <th>4</th>\n",
       "      <td>6</td>\n",
       "      <td>1999</td>\n",
       "      <td>847</td>\n",
       "    </tr>\n",
       "    <tr>\n",
       "      <th>5</th>\n",
       "      <td>7</td>\n",
       "      <td>2254</td>\n",
       "      <td>774</td>\n",
       "    </tr>\n",
       "    <tr>\n",
       "      <th>6</th>\n",
       "      <td>8</td>\n",
       "      <td>2047</td>\n",
       "      <td>731</td>\n",
       "    </tr>\n",
       "    <tr>\n",
       "      <th>7</th>\n",
       "      <td>9</td>\n",
       "      <td>2444</td>\n",
       "      <td>797</td>\n",
       "    </tr>\n",
       "    <tr>\n",
       "      <th>8</th>\n",
       "      <td>10</td>\n",
       "      <td>3814</td>\n",
       "      <td>1359</td>\n",
       "    </tr>\n",
       "    <tr>\n",
       "      <th>9</th>\n",
       "      <td>11</td>\n",
       "      <td>6592</td>\n",
       "      <td>2108</td>\n",
       "    </tr>\n",
       "    <tr>\n",
       "      <th>10</th>\n",
       "      <td>12</td>\n",
       "      <td>11080</td>\n",
       "      <td>2974</td>\n",
       "    </tr>\n",
       "    <tr>\n",
       "      <th>11</th>\n",
       "      <td>13</td>\n",
       "      <td>23422</td>\n",
       "      <td>7017</td>\n",
       "    </tr>\n",
       "    <tr>\n",
       "      <th>12</th>\n",
       "      <td>14</td>\n",
       "      <td>30007</td>\n",
       "      <td>9637</td>\n",
       "    </tr>\n",
       "    <tr>\n",
       "      <th>13</th>\n",
       "      <td>26</td>\n",
       "      <td>1879</td>\n",
       "      <td>542</td>\n",
       "    </tr>\n",
       "    <tr>\n",
       "      <th>14</th>\n",
       "      <td>27</td>\n",
       "      <td>7320</td>\n",
       "      <td>1885</td>\n",
       "    </tr>\n",
       "    <tr>\n",
       "      <th>15</th>\n",
       "      <td>75</td>\n",
       "      <td>20296</td>\n",
       "      <td>7069</td>\n",
       "    </tr>\n",
       "  </tbody>\n",
       "</table>\n",
       "</div>"
      ],
      "text/plain": [
       "    rating  average_favorites  average_retweets\n",
       "0        2               5916              2880\n",
       "1        3               3306               938\n",
       "2        4               2613               908\n",
       "3        5               7677              1929\n",
       "4        6               1999               847\n",
       "5        7               2254               774\n",
       "6        8               2047               731\n",
       "7        9               2444               797\n",
       "8       10               3814              1359\n",
       "9       11               6592              2108\n",
       "10      12              11080              2974\n",
       "11      13              23422              7017\n",
       "12      14              30007              9637\n",
       "13      26               1879               542\n",
       "14      27               7320              1885\n",
       "15      75              20296              7069"
      ]
     },
     "execution_count": 156,
     "metadata": {},
     "output_type": "execute_result"
    }
   ],
   "source": [
    "# visually inspect\n",
    "df_rate_rtfav"
   ]
  },
  {
   "cell_type": "markdown",
   "metadata": {},
   "source": [
    "Surprisingly there seems to be a rough positive correlation between the rating and total favorites or retweets. The correlation is a bit janky, but it suggests that the ratings weren't completely jokes.\n",
    "\n",
    "For good presentation, let's plot these in a graph."
   ]
  },
  {
   "cell_type": "code",
   "execution_count": 158,
   "metadata": {},
   "outputs": [
    {
     "data": {
      "image/png": "[encoded data removed]",
      "text/plain": [
       "<matplotlib.figure.Figure at 0x7fa49028e080>"
      ]
     },
     "metadata": {
      "needs_background": "light"
     },
     "output_type": "display_data"
    }
   ],
   "source": [
    "# plot the plot quickly\n",
    "temp = df_rate_rtfav.set_index('rating')\n",
    "temp.plot(title='correlation between dog rating and average likes/retweets'.upper(),\n",
    "         figsize=(10,2.5),\n",
    "         kind='bar') ;"
   ]
  },
  {
   "cell_type": "markdown",
   "metadata": {},
   "source": [
    "### Insights:\n",
    "1. Golden Retrievers are the most retweeted and favorited breed of dog in this dataset.\n",
    "\n",
    "2. In contrast, the least retweeted/favorited are the Groenendael and Japanese Spaniel.\n",
    "\n",
    "3. Puppers are likely the most retweeted and most favorited dog-stage.\n",
    "\n",
    "4. The rating numerator roughly correlates with the total number of retweets or likes (favorites) for the dogs.\n",
    "\n",
    "5. The number of likes (favorites) seems to be directly proportional to the number of retweets for any dog breed.\n",
    "\n",
    "As a word of caution, we lost a lot of data points during our cleaning process and couldn't even obtain all missing values for dog-stage and name. However, it's reasonable to assume that the few values we could obtain (for dog-stage) are a representative sample."
   ]
  },
  {
   "cell_type": "markdown",
   "metadata": {},
   "source": [
    "Thus we conclude our data exploration."
   ]
  }
 ],
 "metadata": {
  "extensions": {
   "jupyter_dashboards": {
    "activeView": "report_default",
    "version": 1,
    "views": {
     "grid_default": {
      "cellMargin": 10,
      "defaultCellHeight": 20,
      "maxColumns": 12,
      "name": "grid",
      "type": "grid"
     },
     "report_default": {
      "name": "report",
      "type": "report"
     }
    }
   }
  },
  "kernelspec": {
   "display_name": "Python 3",
   "language": "python",
   "name": "python3"
  },
  "language_info": {
   "codemirror_mode": {
    "name": "ipython",
    "version": 3
   },
   "file_extension": ".py",
   "mimetype": "text/x-python",
   "name": "python",
   "nbconvert_exporter": "python",
   "pygments_lexer": "ipython3",
   "version": "3.6.3"
  }
 },
 "nbformat": 4,
 "nbformat_minor": 2
}
